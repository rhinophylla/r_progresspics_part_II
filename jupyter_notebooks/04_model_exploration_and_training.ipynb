{
 "cells": [
  {
   "cell_type": "code",
   "execution_count": 1,
   "metadata": {},
   "outputs": [],
   "source": [
    "import pandas as pd\n",
    "import numpy as np\n",
    "import re\n",
    "import matplotlib.pyplot as plt\n",
    "\n",
    "from sklearn.model_selection import train_test_split, cross_val_score\n",
    "from sklearn.model_selection import learning_curve\n",
    "from sklearn.compose import ColumnTransformer\n",
    "from sklearn.base import BaseEstimator, TransformerMixin\n",
    "from sklearn.preprocessing import OneHotEncoder, StandardScaler, MinMaxScaler, FunctionTransformer, PolynomialFeatures\n",
    "from sklearn.pipeline import Pipeline\n",
    "\n",
    "from sklearn.base import BaseEstimator, RegressorMixin\n",
    "from sklearn.utils import check_X_y, check_array\n",
    "from sklearn.utils.validation import check_is_fitted\n",
    "\n",
    "from sklearn.dummy import DummyRegressor\n",
    "from sklearn.ensemble import GradientBoostingRegressor\n",
    "from sklearn.linear_model import LinearRegression, SGDRegressor, Ridge, Lasso, ElasticNet\n",
    "from sklearn.tree import DecisionTreeRegressor\n",
    "from sklearn.ensemble import RandomForestRegressor\n",
    "from sklearn.neighbors import KNeighborsRegressor\n",
    "from xgboost import XGBRegressor\n",
    "\n",
    "from sklearn.decomposition import PCA\n",
    "\n",
    "%matplotlib inline"
   ]
  },
  {
   "cell_type": "markdown",
   "metadata": {},
   "source": [
    "## Data Preparation"
   ]
  },
  {
   "cell_type": "code",
   "execution_count": 2,
   "metadata": {},
   "outputs": [],
   "source": [
    "# import training data set\n",
    "pp_train = pd.read_csv(\"../data/progresspics_2018_training_data.cvs\")"
   ]
  },
  {
   "cell_type": "code",
   "execution_count": 3,
   "metadata": {},
   "outputs": [
    {
     "data": {
      "text/html": [
       "<div>\n",
       "<style scoped>\n",
       "    .dataframe tbody tr th:only-of-type {\n",
       "        vertical-align: middle;\n",
       "    }\n",
       "\n",
       "    .dataframe tbody tr th {\n",
       "        vertical-align: top;\n",
       "    }\n",
       "\n",
       "    .dataframe thead th {\n",
       "        text-align: right;\n",
       "    }\n",
       "</style>\n",
       "<table border=\"1\" class=\"dataframe\">\n",
       "  <thead>\n",
       "    <tr style=\"text-align: right;\">\n",
       "      <th></th>\n",
       "      <th>sex</th>\n",
       "      <th>age</th>\n",
       "      <th>height</th>\n",
       "      <th>start_weight</th>\n",
       "      <th>end_weight</th>\n",
       "      <th>score</th>\n",
       "      <th>num_comments</th>\n",
       "      <th>num_posts</th>\n",
       "      <th>num_posts_cat</th>\n",
       "      <th>post_order</th>\n",
       "      <th>...</th>\n",
       "      <th>gym</th>\n",
       "      <th>lifting</th>\n",
       "      <th>working</th>\n",
       "      <th>diet</th>\n",
       "      <th>muscle</th>\n",
       "      <th>nsfw</th>\n",
       "      <th>weight_diff</th>\n",
       "      <th>gain_or_lose</th>\n",
       "      <th>fill_period_weeks</th>\n",
       "      <th>change_rate</th>\n",
       "    </tr>\n",
       "  </thead>\n",
       "  <tbody>\n",
       "    <tr>\n",
       "      <th>0</th>\n",
       "      <td>1.0</td>\n",
       "      <td>34.0</td>\n",
       "      <td>68.0</td>\n",
       "      <td>189.0000</td>\n",
       "      <td>175.00000</td>\n",
       "      <td>1338</td>\n",
       "      <td>42</td>\n",
       "      <td>3</td>\n",
       "      <td>(2.0, 4.0]</td>\n",
       "      <td>3.0</td>\n",
       "      <td>...</td>\n",
       "      <td>0</td>\n",
       "      <td>0</td>\n",
       "      <td>0</td>\n",
       "      <td>0</td>\n",
       "      <td>0</td>\n",
       "      <td>0</td>\n",
       "      <td>14.00000</td>\n",
       "      <td>0</td>\n",
       "      <td>312.000000</td>\n",
       "      <td>0.044872</td>\n",
       "    </tr>\n",
       "    <tr>\n",
       "      <th>1</th>\n",
       "      <td>1.0</td>\n",
       "      <td>35.0</td>\n",
       "      <td>76.0</td>\n",
       "      <td>316.0000</td>\n",
       "      <td>268.00000</td>\n",
       "      <td>1</td>\n",
       "      <td>1</td>\n",
       "      <td>0</td>\n",
       "      <td>(-inf, 0.0]</td>\n",
       "      <td>0.0</td>\n",
       "      <td>...</td>\n",
       "      <td>0</td>\n",
       "      <td>1</td>\n",
       "      <td>0</td>\n",
       "      <td>0</td>\n",
       "      <td>0</td>\n",
       "      <td>0</td>\n",
       "      <td>48.00000</td>\n",
       "      <td>0</td>\n",
       "      <td>16.000000</td>\n",
       "      <td>3.000000</td>\n",
       "    </tr>\n",
       "    <tr>\n",
       "      <th>2</th>\n",
       "      <td>1.0</td>\n",
       "      <td>33.0</td>\n",
       "      <td>74.0</td>\n",
       "      <td>260.0000</td>\n",
       "      <td>220.00000</td>\n",
       "      <td>1</td>\n",
       "      <td>0</td>\n",
       "      <td>8</td>\n",
       "      <td>(4.0, 8.0]</td>\n",
       "      <td>3.0</td>\n",
       "      <td>...</td>\n",
       "      <td>0</td>\n",
       "      <td>0</td>\n",
       "      <td>0</td>\n",
       "      <td>0</td>\n",
       "      <td>0</td>\n",
       "      <td>0</td>\n",
       "      <td>40.00000</td>\n",
       "      <td>0</td>\n",
       "      <td>10.000000</td>\n",
       "      <td>4.000000</td>\n",
       "    </tr>\n",
       "    <tr>\n",
       "      <th>3</th>\n",
       "      <td>1.0</td>\n",
       "      <td>27.0</td>\n",
       "      <td>74.0</td>\n",
       "      <td>235.0000</td>\n",
       "      <td>170.00000</td>\n",
       "      <td>44</td>\n",
       "      <td>2</td>\n",
       "      <td>3</td>\n",
       "      <td>(2.0, 4.0]</td>\n",
       "      <td>3.0</td>\n",
       "      <td>...</td>\n",
       "      <td>0</td>\n",
       "      <td>0</td>\n",
       "      <td>0</td>\n",
       "      <td>0</td>\n",
       "      <td>0</td>\n",
       "      <td>0</td>\n",
       "      <td>65.00000</td>\n",
       "      <td>0</td>\n",
       "      <td>59.888934</td>\n",
       "      <td>1.085342</td>\n",
       "    </tr>\n",
       "    <tr>\n",
       "      <th>4</th>\n",
       "      <td>1.0</td>\n",
       "      <td>17.0</td>\n",
       "      <td>73.0</td>\n",
       "      <td>165.3465</td>\n",
       "      <td>211.64352</td>\n",
       "      <td>1</td>\n",
       "      <td>1</td>\n",
       "      <td>1</td>\n",
       "      <td>(0.0, 1.0]</td>\n",
       "      <td>1.0</td>\n",
       "      <td>...</td>\n",
       "      <td>0</td>\n",
       "      <td>0</td>\n",
       "      <td>0</td>\n",
       "      <td>0</td>\n",
       "      <td>0</td>\n",
       "      <td>0</td>\n",
       "      <td>-46.29702</td>\n",
       "      <td>1</td>\n",
       "      <td>156.000000</td>\n",
       "      <td>-0.296776</td>\n",
       "    </tr>\n",
       "  </tbody>\n",
       "</table>\n",
       "<p>5 rows × 29 columns</p>\n",
       "</div>"
      ],
      "text/plain": [
       "   sex   age  height  start_weight  end_weight  score  num_comments  \\\n",
       "0  1.0  34.0    68.0      189.0000   175.00000   1338            42   \n",
       "1  1.0  35.0    76.0      316.0000   268.00000      1             1   \n",
       "2  1.0  33.0    74.0      260.0000   220.00000      1             0   \n",
       "3  1.0  27.0    74.0      235.0000   170.00000     44             2   \n",
       "4  1.0  17.0    73.0      165.3465   211.64352      1             1   \n",
       "\n",
       "   num_posts num_posts_cat  post_order  ...  gym  lifting  working  diet  \\\n",
       "0          3    (2.0, 4.0]         3.0  ...    0        0        0     0   \n",
       "1          0   (-inf, 0.0]         0.0  ...    0        1        0     0   \n",
       "2          8    (4.0, 8.0]         3.0  ...    0        0        0     0   \n",
       "3          3    (2.0, 4.0]         3.0  ...    0        0        0     0   \n",
       "4          1    (0.0, 1.0]         1.0  ...    0        0        0     0   \n",
       "\n",
       "   muscle  nsfw  weight_diff  gain_or_lose  fill_period_weeks  change_rate  \n",
       "0       0     0     14.00000             0         312.000000     0.044872  \n",
       "1       0     0     48.00000             0          16.000000     3.000000  \n",
       "2       0     0     40.00000             0          10.000000     4.000000  \n",
       "3       0     0     65.00000             0          59.888934     1.085342  \n",
       "4       0     0    -46.29702             1         156.000000    -0.296776  \n",
       "\n",
       "[5 rows x 29 columns]"
      ]
     },
     "execution_count": 3,
     "metadata": {},
     "output_type": "execute_result"
    }
   ],
   "source": [
    "pp_train.head()"
   ]
  },
  {
   "cell_type": "code",
   "execution_count": 4,
   "metadata": {},
   "outputs": [
    {
     "data": {
      "text/plain": [
       "(17187, 29)"
      ]
     },
     "execution_count": 4,
     "metadata": {},
     "output_type": "execute_result"
    }
   ],
   "source": [
    "pp_train.shape"
   ]
  },
  {
   "cell_type": "code",
   "execution_count": 5,
   "metadata": {},
   "outputs": [
    {
     "data": {
      "text/plain": [
       "Index(['sex', 'age', 'height', 'start_weight', 'end_weight', 'score',\n",
       "       'num_comments', 'num_posts', 'num_posts_cat', 'post_order', 'month',\n",
       "       'dayofweek', 'progress', 'face', 'goal', 'finally', 'cico', 'keto',\n",
       "       'gains', 'gym', 'lifting', 'working', 'diet', 'muscle', 'nsfw',\n",
       "       'weight_diff', 'gain_or_lose', 'fill_period_weeks', 'change_rate'],\n",
       "      dtype='object')"
      ]
     },
     "execution_count": 5,
     "metadata": {},
     "output_type": "execute_result"
    }
   ],
   "source": [
    "pp_train.columns"
   ]
  },
  {
   "cell_type": "code",
   "execution_count": 8,
   "metadata": {},
   "outputs": [],
   "source": [
    "# create the feature set by dropping the target, \"end_weight\", \"score\" which is highly correlated \n",
    "# with \"num_comments\", \"weigh_diff\" which can be used with \"start_weight\" to exactly predict \"end_weight\",\n",
    "# and \"change_rate\" which can be used with \"fill_period_weeks\" and \"start_weight\" to exactly predict \"end_weight\". \n",
    "\n",
    "# set the target, \"end_weight\", equal to y\n",
    "\n",
    "pp_train_features = pp_train.drop([\"end_weight\", \"score\", \"weight_diff\", \"change_rate\"], axis=1)\n",
    "y = pp_train.loc[:, 'end_weight']"
   ]
  },
  {
   "cell_type": "code",
   "execution_count": 9,
   "metadata": {},
   "outputs": [
    {
     "data": {
      "text/plain": [
       "sex                  0\n",
       "age                  0\n",
       "height               0\n",
       "start_weight         0\n",
       "num_comments         0\n",
       "num_posts            0\n",
       "num_posts_cat        0\n",
       "post_order           0\n",
       "month                0\n",
       "dayofweek            0\n",
       "progress             0\n",
       "face                 0\n",
       "goal                 0\n",
       "finally              0\n",
       "cico                 0\n",
       "keto                 0\n",
       "gains                0\n",
       "gym                  0\n",
       "lifting              0\n",
       "working              0\n",
       "diet                 0\n",
       "muscle               0\n",
       "nsfw                 0\n",
       "gain_or_lose         0\n",
       "fill_period_weeks    0\n",
       "dtype: int64"
      ]
     },
     "execution_count": 9,
     "metadata": {},
     "output_type": "execute_result"
    }
   ],
   "source": [
    "# Are there any Nans?\n",
    "pp_train_features.isnull().sum()"
   ]
  },
  {
   "cell_type": "code",
   "execution_count": 5,
   "metadata": {},
   "outputs": [],
   "source": [
    "# Standard scale numerical columns and one-hot encode categorical columns that include categories other than 0 and 1. \n",
    "num_columns = ['age', 'height', 'start_weight', 'fill_period_weeks', 'num_comments']\n",
    "cat_columns = ['month', 'dayofweek', 'num_posts', 'num_posts_cat', 'post_order']\n",
    "    \n",
    "col_preprocessing = ColumnTransformer([\n",
    "    ('numeric_col_preprocessing', StandardScaler(), num_columns),\n",
    "    ('cat_col_preprocessing', OneHotEncoder(sparse=False, categories='auto'), cat_columns)], \n",
    "    remainder='passthrough', verbose=True)\n",
    "\n",
    "data_prep_pipeline = Pipeline([\n",
    "    ('col_preprocessing', col_preprocessing)],\n",
    "    verbose=True)\n",
    "\n",
    "X = data_prep_pipeline.fit_transform(pp_train_features.copy())"
   ]
  },
  {
   "cell_type": "code",
   "execution_count": 7,
   "metadata": {},
   "outputs": [
    {
     "data": {
      "text/plain": [
       "(17187, 85)"
      ]
     },
     "execution_count": 7,
     "metadata": {},
     "output_type": "execute_result"
    }
   ],
   "source": [
    "X.shape"
   ]
  },
  {
   "cell_type": "code",
   "execution_count": 8,
   "metadata": {},
   "outputs": [
    {
     "data": {
      "text/plain": [
       "array([ 1.29083369,  0.015753  , -0.50173119,  3.84479427,  0.657463  ,\n",
       "        0.        ,  0.        ,  0.        ,  0.        ,  0.        ,\n",
       "        0.        ,  0.        ,  0.        ,  0.        ,  1.        ,\n",
       "        0.        ,  0.        ,  0.        ,  0.        ,  0.        ,\n",
       "        0.        ,  0.        ,  1.        ,  0.        ,  0.        ,\n",
       "        0.        ,  0.        ,  1.        ,  0.        ,  0.        ,\n",
       "        0.        ,  0.        ,  0.        ,  0.        ,  0.        ,\n",
       "        0.        ,  0.        ,  0.        ,  0.        ,  0.        ,\n",
       "        0.        ,  0.        ,  0.        ,  0.        ,  0.        ,\n",
       "        0.        ,  0.        ,  1.        ,  0.        ,  0.        ,\n",
       "        0.        ,  0.        ,  0.        ,  1.        ,  0.        ,\n",
       "        0.        ,  0.        ,  0.        ,  0.        ,  0.        ,\n",
       "        0.        ,  0.        ,  0.        ,  0.        ,  0.        ,\n",
       "        0.        ,  0.        ,  0.        ,  0.        ,  0.        ,\n",
       "        1.        ,  0.        ,  0.        ,  0.        ,  0.        ,\n",
       "        0.        ,  0.        ,  0.        ,  0.        ,  0.        ,\n",
       "        0.        ,  0.        ,  0.        ,  0.        ,  0.        ])"
      ]
     },
     "execution_count": 8,
     "metadata": {},
     "output_type": "execute_result"
    }
   ],
   "source": [
    "X[0, :]"
   ]
  },
  {
   "cell_type": "markdown",
   "metadata": {},
   "source": [
    "## Generate baseline/null models"
   ]
  },
  {
   "cell_type": "code",
   "execution_count": 10,
   "metadata": {},
   "outputs": [],
   "source": [
    "# default null models from scikitlearn\n",
    "null_model_median = DummyRegressor(strategy=\"median\")\n",
    "null_model_mean = DummyRegressor(strategy=\"mean\")"
   ]
  },
  {
   "cell_type": "code",
   "execution_count": 11,
   "metadata": {},
   "outputs": [],
   "source": [
    "# create a random baseline model where actual outcomes are shuffled at random and assigned as predictions\n",
    "# inspired by: https://towardsdatascience.com/build-your-own-custom-scikit-learn-regression-5d0d718f289\n",
    "\n",
    "class RandomRegressor(RegressorMixin, BaseEstimator):\n",
    "    \n",
    "    def __init__(self):\n",
    "        pass\n",
    "    \n",
    "    def fit(self, X, y):\n",
    "        X, y = check_X_y(X, y)  # checks X and y for consistent length, makes sure X is 2D and y is 1D, no nans in y\n",
    "        \n",
    "        self.possible_targets_ = y\n",
    "        return self\n",
    "    \n",
    "    def predict(self, X):\n",
    "        check_is_fitted(self)  # checks estimator is fitted by looking for fitted attributes (those with trailing underscores)\n",
    "        X = check_array(X)  # makes X is non empty 2D array containing finite values,  \n",
    "        rng = np.random.default_rng(46)\n",
    "        return rng.choice(self.possible_targets_, X.shape[0])   \n",
    "    \n",
    "null_model_random = RandomRegressor()"
   ]
  },
  {
   "cell_type": "markdown",
   "metadata": {},
   "source": [
    "## Testing regression models with cross validation"
   ]
  },
  {
   "cell_type": "code",
   "execution_count": 21,
   "metadata": {},
   "outputs": [],
   "source": [
    "# regression models to try\n",
    "lin_reg = LinearRegression()\n",
    "SGD_reg = SGDRegressor()\n",
    "ridge_reg = Ridge()\n",
    "lasso_reg = Lasso()\n",
    "EN_reg = ElasticNet()\n",
    "DT_reg = DecisionTreeRegressor()\n",
    "RF_reg = RandomForestRegressor(n_estimators=100)\n",
    "#HGB_reg = HistGradientBoostingRegressor()\n",
    "GB_reg = GradientBoostingRegressor()\n",
    "KN_reg = KNeighborsRegressor()\n",
    "XGB_reg = XGBRegressor()\n",
    "\n",
    "all_model_name_list = [\"null_median\", \"null_mean\", \"null_random\", \"lin_reg\", \"SGD_reg\", \"ridge_reg\", \"lasso_reg\", \n",
    "                       \"EN_reg\", \"DT_reg\", \"RF_reg\", \"GB_reg\", \"KN_reg\", \"XGB_reg\"]\n",
    "\n",
    "all_model_list = [null_model_median, null_model_mean, null_model_random, lin_reg, SGD_reg, ridge_reg, lasso_reg, \n",
    "                  EN_reg, DT_reg, RF_reg, GB_reg, KN_reg, XGB_reg]"
   ]
  },
  {
   "cell_type": "code",
   "execution_count": 12,
   "metadata": {},
   "outputs": [],
   "source": [
    "def model_testing(X, y, models, model_names):\n",
    "    \"\"\"Takes a pandas df of prepared features, a pandas series of corresponding targets and runs all models \n",
    "    specificed in the \"models\" list in a cross validation scheme with 10 folds. Returns a dataframe containing\n",
    "    the mean RMSE and mean std for each model.\n",
    "    \n",
    "    Arguments:\n",
    "    X -- pandas dataframe containing feature values\n",
    "    y -- pandas series containing the target values\n",
    "    models -- list of scikit models\n",
    "    model_names -- list of strings of model names\n",
    "    \n",
    "    Returns:\n",
    "    pandas dataframe containing the mean RMSE and mean standard deviation for each model in the \"models\" list\n",
    "    \"\"\"\n",
    "    model_results = {}\n",
    "    for count, model in enumerate(models):\n",
    "        print(\"running\", model_names[count])\n",
    "        scores = cross_val_score(model, X, y, scoring=\"neg_mean_squared_error\", cv=10)\n",
    "        rmse_scores = np.sqrt(-scores)\n",
    "        model_results[model_names[count]] = [rmse_scores.mean(), rmse_scores.std()]\n",
    "    df = pd.DataFrame(model_results) \n",
    "    return df       "
   ]
  },
  {
   "cell_type": "markdown",
   "metadata": {},
   "source": [
    "## Num_posts vs num_posts_cat\n",
    "\n",
    "Both of these features represent the same information.  Which one is better to use?"
   ]
  },
  {
   "cell_type": "code",
   "execution_count": 14,
   "metadata": {},
   "outputs": [
    {
     "name": "stdout",
     "output_type": "stream",
     "text": [
      "[ColumnTransformer]  (1 of 3) Processing numeric_col_preprocessing, total=   0.0s\n",
      "[ColumnTransformer]  (2 of 3) Processing cat_col_preprocessing, total=   0.0s\n",
      "[ColumnTransformer] ..... (3 of 3) Processing remainder, total=   0.0s\n",
      "[Pipeline] . (step 1 of 1) Processing col_preprocessing, total=   0.0s\n"
     ]
    }
   ],
   "source": [
    "# create a feature set that contains the \"num_posts\" feature, but not the \"num_posts_cat\" feature\n",
    "pp_train_features_np = pp_train.drop([\"end_weight\", \"score\", \"weight_diff\", \"change_rate\", \"num_posts_cat\"], axis=1)\n",
    "\n",
    "num_columns = ['age', 'height', 'start_weight', 'fill_period_weeks', 'num_comments']\n",
    "cat_columns = ['month', 'dayofweek', 'num_posts', 'post_order']\n",
    "    \n",
    "col_preprocessing = ColumnTransformer([\n",
    "    ('numeric_col_preprocessing', StandardScaler(), num_columns),\n",
    "    ('cat_col_preprocessing', OneHotEncoder(sparse=False, categories='auto'), cat_columns)], \n",
    "    remainder='passthrough', verbose=True)\n",
    "\n",
    "data_prep_pipeline = Pipeline([\n",
    "    ('col_preprocessing', col_preprocessing)],\n",
    "    verbose=True)\n",
    "\n",
    "X_np = data_prep_pipeline.fit_transform(pp_train_features_np.copy())"
   ]
  },
  {
   "cell_type": "code",
   "execution_count": 15,
   "metadata": {},
   "outputs": [
    {
     "data": {
      "text/plain": [
       "(17187, 79)"
      ]
     },
     "execution_count": 15,
     "metadata": {},
     "output_type": "execute_result"
    }
   ],
   "source": [
    "X_np.shape"
   ]
  },
  {
   "cell_type": "code",
   "execution_count": 59,
   "metadata": {},
   "outputs": [
    {
     "name": "stdout",
     "output_type": "stream",
     "text": [
      "running null_median\n",
      "running null_mean\n",
      "running null_random\n",
      "running lin_reg\n",
      "running SGD_reg\n",
      "running ridge_reg\n",
      "running lasso_reg\n",
      "running EN_reg\n",
      "running DT_reg\n",
      "running RF_reg\n",
      "running GB_reg\n",
      "running KN_reg\n",
      "running XGB_reg\n"
     ]
    }
   ],
   "source": [
    "# run the models using the feature set containing \"num_posts\"\n",
    "np_df = model_testing(X_np, y, all_model_list, all_model_name_list)"
   ]
  },
  {
   "cell_type": "code",
   "execution_count": 60,
   "metadata": {},
   "outputs": [
    {
     "data": {
      "text/html": [
       "<div>\n",
       "<style scoped>\n",
       "    .dataframe tbody tr th:only-of-type {\n",
       "        vertical-align: middle;\n",
       "    }\n",
       "\n",
       "    .dataframe tbody tr th {\n",
       "        vertical-align: top;\n",
       "    }\n",
       "\n",
       "    .dataframe thead th {\n",
       "        text-align: right;\n",
       "    }\n",
       "</style>\n",
       "<table border=\"1\" class=\"dataframe\">\n",
       "  <thead>\n",
       "    <tr style=\"text-align: right;\">\n",
       "      <th></th>\n",
       "      <th>null_median</th>\n",
       "      <th>null_mean</th>\n",
       "      <th>null_random</th>\n",
       "      <th>lin_reg</th>\n",
       "      <th>SGD_reg</th>\n",
       "      <th>ridge_reg</th>\n",
       "      <th>lasso_reg</th>\n",
       "      <th>EN_reg</th>\n",
       "      <th>DT_reg</th>\n",
       "      <th>RF_reg</th>\n",
       "      <th>GB_reg</th>\n",
       "      <th>KN_reg</th>\n",
       "      <th>XGB_reg</th>\n",
       "    </tr>\n",
       "  </thead>\n",
       "  <tbody>\n",
       "    <tr>\n",
       "      <th>0</th>\n",
       "      <td>45.708987</td>\n",
       "      <td>45.149057</td>\n",
       "      <td>64.013521</td>\n",
       "      <td>3.057082e+10</td>\n",
       "      <td>26.022426</td>\n",
       "      <td>25.422711</td>\n",
       "      <td>26.654889</td>\n",
       "      <td>29.798488</td>\n",
       "      <td>29.273634</td>\n",
       "      <td>20.965851</td>\n",
       "      <td>22.257877</td>\n",
       "      <td>29.226759</td>\n",
       "      <td>21.641181</td>\n",
       "    </tr>\n",
       "    <tr>\n",
       "      <th>1</th>\n",
       "      <td>1.510470</td>\n",
       "      <td>1.412266</td>\n",
       "      <td>0.986905</td>\n",
       "      <td>7.133860e+10</td>\n",
       "      <td>1.100586</td>\n",
       "      <td>1.054313</td>\n",
       "      <td>1.158625</td>\n",
       "      <td>1.296732</td>\n",
       "      <td>1.031862</td>\n",
       "      <td>0.988780</td>\n",
       "      <td>1.011811</td>\n",
       "      <td>1.482259</td>\n",
       "      <td>1.060806</td>\n",
       "    </tr>\n",
       "  </tbody>\n",
       "</table>\n",
       "</div>"
      ],
      "text/plain": [
       "   null_median  null_mean  null_random       lin_reg    SGD_reg  ridge_reg  \\\n",
       "0    45.708987  45.149057    64.013521  3.057082e+10  26.022426  25.422711   \n",
       "1     1.510470   1.412266     0.986905  7.133860e+10   1.100586   1.054313   \n",
       "\n",
       "   lasso_reg     EN_reg     DT_reg     RF_reg     GB_reg     KN_reg    XGB_reg  \n",
       "0  26.654889  29.798488  29.273634  20.965851  22.257877  29.226759  21.641181  \n",
       "1   1.158625   1.296732   1.031862   0.988780   1.011811   1.482259   1.060806  "
      ]
     },
     "execution_count": 60,
     "metadata": {},
     "output_type": "execute_result"
    }
   ],
   "source": [
    "# results\n",
    "np_df"
   ]
  },
  {
   "cell_type": "code",
   "execution_count": 61,
   "metadata": {},
   "outputs": [
    {
     "name": "stdout",
     "output_type": "stream",
     "text": [
      "[ColumnTransformer]  (1 of 3) Processing numeric_col_preprocessing, total=   0.0s\n",
      "[ColumnTransformer]  (2 of 3) Processing cat_col_preprocessing, total=   0.0s\n",
      "[ColumnTransformer] ..... (3 of 3) Processing remainder, total=   0.0s\n",
      "[Pipeline] . (step 1 of 1) Processing col_preprocessing, total=   0.0s\n"
     ]
    }
   ],
   "source": [
    "# create a feature set that contains the \"num_post_cat\" feature, but not the \"num_posts\" feature\n",
    "pp_train_features_npc = pp_train_features = pp_train.drop([\"end_weight\", \"score\", \"weight_diff\", \"change_rate\", \"num_posts\"], axis=1)\n",
    "\n",
    "num_columns = ['age', 'height', 'start_weight', 'fill_period_weeks', 'num_comments']\n",
    "cat_columns = ['month', 'dayofweek', 'num_posts_cat', 'post_order']\n",
    "    \n",
    "col_preprocessing = ColumnTransformer([\n",
    "    ('numeric_col_preprocessing', StandardScaler(), num_columns),\n",
    "    ('cat_col_preprocessing', OneHotEncoder(sparse=False, categories='auto'), cat_columns)], \n",
    "    remainder='passthrough', verbose=True)\n",
    "\n",
    "data_prep_pipeline = Pipeline([\n",
    "    ('col_preprocessing', col_preprocessing)],\n",
    "    verbose=True)\n",
    "\n",
    "X_npc = X = data_prep_pipeline.fit_transform(pp_train_features_npc.copy())"
   ]
  },
  {
   "cell_type": "code",
   "execution_count": 62,
   "metadata": {},
   "outputs": [
    {
     "data": {
      "text/plain": [
       "(17187, 65)"
      ]
     },
     "execution_count": 62,
     "metadata": {},
     "output_type": "execute_result"
    }
   ],
   "source": [
    "X_npc.shape"
   ]
  },
  {
   "cell_type": "code",
   "execution_count": 63,
   "metadata": {},
   "outputs": [
    {
     "name": "stdout",
     "output_type": "stream",
     "text": [
      "running null_median\n",
      "running null_mean\n",
      "running null_random\n",
      "running lin_reg\n",
      "running SGD_reg\n",
      "running ridge_reg\n",
      "running lasso_reg\n",
      "running EN_reg\n",
      "running DT_reg\n",
      "running RF_reg\n",
      "running GB_reg\n",
      "running KN_reg\n",
      "running XGB_reg\n"
     ]
    }
   ],
   "source": [
    "# run the models using the feature set containing \"num_posts_cat\"\n",
    "npc_df = model_testing(X_npc, y, all_model_list, all_model_name_list)"
   ]
  },
  {
   "cell_type": "code",
   "execution_count": 64,
   "metadata": {},
   "outputs": [
    {
     "data": {
      "text/html": [
       "<div>\n",
       "<style scoped>\n",
       "    .dataframe tbody tr th:only-of-type {\n",
       "        vertical-align: middle;\n",
       "    }\n",
       "\n",
       "    .dataframe tbody tr th {\n",
       "        vertical-align: top;\n",
       "    }\n",
       "\n",
       "    .dataframe thead th {\n",
       "        text-align: right;\n",
       "    }\n",
       "</style>\n",
       "<table border=\"1\" class=\"dataframe\">\n",
       "  <thead>\n",
       "    <tr style=\"text-align: right;\">\n",
       "      <th></th>\n",
       "      <th>null_median</th>\n",
       "      <th>null_mean</th>\n",
       "      <th>null_random</th>\n",
       "      <th>lin_reg</th>\n",
       "      <th>SGD_reg</th>\n",
       "      <th>ridge_reg</th>\n",
       "      <th>lasso_reg</th>\n",
       "      <th>EN_reg</th>\n",
       "      <th>DT_reg</th>\n",
       "      <th>RF_reg</th>\n",
       "      <th>GB_reg</th>\n",
       "      <th>KN_reg</th>\n",
       "      <th>XGB_reg</th>\n",
       "    </tr>\n",
       "  </thead>\n",
       "  <tbody>\n",
       "    <tr>\n",
       "      <th>0</th>\n",
       "      <td>45.708987</td>\n",
       "      <td>45.149057</td>\n",
       "      <td>64.013521</td>\n",
       "      <td>7.085457e+10</td>\n",
       "      <td>26.117010</td>\n",
       "      <td>26.086030</td>\n",
       "      <td>26.654889</td>\n",
       "      <td>29.798488</td>\n",
       "      <td>29.092947</td>\n",
       "      <td>20.980317</td>\n",
       "      <td>22.285625</td>\n",
       "      <td>29.309379</td>\n",
       "      <td>21.746995</td>\n",
       "    </tr>\n",
       "    <tr>\n",
       "      <th>1</th>\n",
       "      <td>1.510470</td>\n",
       "      <td>1.412266</td>\n",
       "      <td>0.986905</td>\n",
       "      <td>1.183858e+11</td>\n",
       "      <td>1.067918</td>\n",
       "      <td>1.025466</td>\n",
       "      <td>1.158625</td>\n",
       "      <td>1.296732</td>\n",
       "      <td>1.157907</td>\n",
       "      <td>1.018010</td>\n",
       "      <td>1.043680</td>\n",
       "      <td>1.457677</td>\n",
       "      <td>0.735196</td>\n",
       "    </tr>\n",
       "  </tbody>\n",
       "</table>\n",
       "</div>"
      ],
      "text/plain": [
       "   null_median  null_mean  null_random       lin_reg    SGD_reg  ridge_reg  \\\n",
       "0    45.708987  45.149057    64.013521  7.085457e+10  26.117010  26.086030   \n",
       "1     1.510470   1.412266     0.986905  1.183858e+11   1.067918   1.025466   \n",
       "\n",
       "   lasso_reg     EN_reg     DT_reg     RF_reg     GB_reg     KN_reg    XGB_reg  \n",
       "0  26.654889  29.798488  29.092947  20.980317  22.285625  29.309379  21.746995  \n",
       "1   1.158625   1.296732   1.157907   1.018010   1.043680   1.457677   0.735196  "
      ]
     },
     "execution_count": 64,
     "metadata": {},
     "output_type": "execute_result"
    }
   ],
   "source": [
    "# results\n",
    "npc_df"
   ]
  },
  {
   "cell_type": "markdown",
   "metadata": {},
   "source": [
    "### Results: \n",
    "Using the \"num_posts' with one-hot coding worked slightly better than \"num_post_cat\" with one-hot encoding, so \"num_posts_cat\" will not be included in the feature dataset going forward.\n",
    "\n",
    "The best linear regression model was ridge regression with an RMSE of 25.42.  The best overall regression model was Random Forest regression with an RMSE of 20.96 while Xtreme Gradiant Boost regression scored 21.61.  "
   ]
  },
  {
   "cell_type": "code",
   "execution_count": 16,
   "metadata": {},
   "outputs": [
    {
     "name": "stdout",
     "output_type": "stream",
     "text": [
      "[ColumnTransformer]  (1 of 3) Processing numeric_col_preprocessing, total=   0.0s\n",
      "[ColumnTransformer]  (2 of 3) Processing cat_col_preprocessing, total=   0.0s\n",
      "[ColumnTransformer] ..... (3 of 3) Processing remainder, total=   0.0s\n",
      "[Pipeline] . (step 1 of 1) Processing col_preprocessing, total=   0.0s\n"
     ]
    }
   ],
   "source": [
    "# recreate the feature dataset using the \"num_post\" only\n",
    "pp_train_features = pp_train.drop([\"end_weight\", \"score\", \"weight_diff\", \"change_rate\", \"num_posts_cat\"], axis=1)\n",
    "\n",
    "num_columns = ['age', 'height', 'start_weight', 'fill_period_weeks', 'num_comments']\n",
    "cat_columns = ['month', 'dayofweek', 'num_posts', 'post_order']\n",
    "    \n",
    "col_preprocessing = ColumnTransformer([\n",
    "    ('numeric_col_preprocessing', StandardScaler(), num_columns),\n",
    "    ('cat_col_preprocessing', OneHotEncoder(sparse=False, categories='auto'), cat_columns)], \n",
    "    remainder='passthrough', verbose=True)\n",
    "\n",
    "data_prep_pipeline = Pipeline([\n",
    "    ('col_preprocessing', col_preprocessing)],\n",
    "    verbose=True)\n",
    "\n",
    "X = data_prep_pipeline.fit_transform(pp_train_features_np.copy())"
   ]
  },
  {
   "cell_type": "code",
   "execution_count": 17,
   "metadata": {},
   "outputs": [
    {
     "data": {
      "text/plain": [
       "(17187, 79)"
      ]
     },
     "execution_count": 17,
     "metadata": {},
     "output_type": "execute_result"
    }
   ],
   "source": [
    "X.shape"
   ]
  },
  {
   "cell_type": "markdown",
   "metadata": {},
   "source": [
    "## Polynomial Features"
   ]
  },
  {
   "cell_type": "code",
   "execution_count": 18,
   "metadata": {},
   "outputs": [
    {
     "name": "stdout",
     "output_type": "stream",
     "text": [
      "[Pipeline] ..... (step 1 of 2) Processing poly_features, total=   0.0s\n",
      "[Pipeline] ........ (step 2 of 2) Processing std_scaler, total=   0.0s\n",
      "[ColumnTransformer]  (1 of 3) Processing numeric_col_preprocessing, total=   0.0s\n",
      "[ColumnTransformer]  (2 of 3) Processing cat_col_preprocessing, total=   0.0s\n",
      "[ColumnTransformer] ..... (3 of 3) Processing remainder, total=   0.0s\n",
      "[Pipeline] . (step 1 of 1) Processing col_preprocessing, total=   0.0s\n",
      "[Pipeline] ..... (step 1 of 2) Processing poly_features, total=   0.0s\n",
      "[Pipeline] ........ (step 2 of 2) Processing std_scaler, total=   0.0s\n",
      "[ColumnTransformer]  (1 of 3) Processing numeric_col_preprocessing, total=   0.0s\n",
      "[ColumnTransformer]  (2 of 3) Processing cat_col_preprocessing, total=   0.0s\n",
      "[ColumnTransformer] ..... (3 of 3) Processing remainder, total=   0.0s\n",
      "[Pipeline] . (step 1 of 1) Processing col_preprocessing, total=   0.1s\n",
      "[Pipeline] ..... (step 1 of 2) Processing poly_features, total=   0.0s\n",
      "[Pipeline] ........ (step 2 of 2) Processing std_scaler, total=   0.1s\n",
      "[ColumnTransformer]  (1 of 3) Processing numeric_col_preprocessing, total=   0.1s\n",
      "[ColumnTransformer]  (2 of 3) Processing cat_col_preprocessing, total=   0.0s\n",
      "[ColumnTransformer] ..... (3 of 3) Processing remainder, total=   0.0s\n",
      "[Pipeline] . (step 1 of 1) Processing col_preprocessing, total=   0.1s\n",
      "[Pipeline] ..... (step 1 of 2) Processing poly_features, total=   0.0s\n",
      "[Pipeline] ........ (step 2 of 2) Processing std_scaler, total=   0.1s\n",
      "[ColumnTransformer]  (1 of 3) Processing numeric_col_preprocessing, total=   0.1s\n",
      "[ColumnTransformer]  (2 of 3) Processing cat_col_preprocessing, total=   0.0s\n",
      "[ColumnTransformer] ..... (3 of 3) Processing remainder, total=   0.0s\n",
      "[Pipeline] . (step 1 of 1) Processing col_preprocessing, total=   0.2s\n",
      "[Pipeline] ..... (step 1 of 2) Processing poly_features, total=   0.1s\n",
      "[Pipeline] ........ (step 2 of 2) Processing std_scaler, total=   0.2s\n",
      "[ColumnTransformer]  (1 of 3) Processing numeric_col_preprocessing, total=   0.3s\n",
      "[ColumnTransformer]  (2 of 3) Processing cat_col_preprocessing, total=   0.0s\n",
      "[ColumnTransformer] ..... (3 of 3) Processing remainder, total=   0.0s\n",
      "[Pipeline] . (step 1 of 1) Processing col_preprocessing, total=   0.3s\n"
     ]
    }
   ],
   "source": [
    "# create five polynomial feature sets (power= 2, 3, 4, 5, 6) and store them in a dictionary, \"poly_features\"\n",
    "\n",
    "poly_list = [\"poly_X_2\", \"poly_X_3\", \"poly_X_4\", \"poly_X_5\", \"poly_X_6\"]\n",
    "poly_features = {}\n",
    "for count, value in enumerate(poly_list, start=2):\n",
    "    num_transformer = Pipeline([\n",
    "        ('poly_features', PolynomialFeatures(degree=count)), \n",
    "        ('std_scaler', StandardScaler())],\n",
    "        verbose=True) \n",
    "    col_preprocessing = ColumnTransformer([\n",
    "        ('numeric_col_preprocessing', num_transformer, num_columns),\n",
    "        ('cat_col_preprocessing', OneHotEncoder(sparse=False, categories='auto'), cat_columns)], \n",
    "        remainder='passthrough', verbose=True)\n",
    "    data_prep_pipeline = Pipeline([\n",
    "        ('col_preprocessing', col_preprocessing)],\n",
    "        verbose=True)\n",
    "    poly_features[value] = data_prep_pipeline.fit_transform(pp_train_features.copy())"
   ]
  },
  {
   "cell_type": "code",
   "execution_count": 22,
   "metadata": {},
   "outputs": [],
   "source": [
    "# linear regression models to use with the poly features\n",
    "linreg_model_name_list = [\"null_median\", \"null_mean\", \"lin_reg\", \"SGD_reg\", \"ridge_reg\", \"lasso_reg\", \"EN_reg\"]\n",
    "linreg_model_list = [null_model_median, null_model_mean, lin_reg, SGD_reg, ridge_reg, lasso_reg, EN_reg]"
   ]
  },
  {
   "cell_type": "code",
   "execution_count": 23,
   "metadata": {},
   "outputs": [
    {
     "name": "stdout",
     "output_type": "stream",
     "text": [
      "running null_median\n",
      "running null_mean\n",
      "running lin_reg\n",
      "running SGD_reg\n",
      "running ridge_reg\n",
      "running lasso_reg\n",
      "running EN_reg\n",
      "poly_X_2\n",
      "   null_median  null_mean       lin_reg    SGD_reg  ridge_reg  lasso_reg  \\\n",
      "0    45.708987  45.149057  2.907789e+10  25.249937  24.439054  25.809206   \n",
      "1     1.510470   1.412266  6.634872e+10   1.283887   1.073089   1.260130   \n",
      "\n",
      "      EN_reg  \n",
      "0  27.736453  \n",
      "1   1.262059  \n",
      "\n",
      "running null_median\n",
      "running null_mean\n",
      "running lin_reg\n",
      "running SGD_reg\n",
      "running ridge_reg\n",
      "running lasso_reg\n",
      "running EN_reg\n",
      "poly_X_3\n",
      "   null_median  null_mean    lin_reg       SGD_reg  ridge_reg  lasso_reg  \\\n",
      "0    45.708987  45.149057  23.780143  3.056709e+10  23.741079  25.804518   \n",
      "1     1.510470   1.412266   1.369579  4.486897e+10   1.328466   1.234689   \n",
      "\n",
      "      EN_reg  \n",
      "0  27.218690  \n",
      "1   1.325483  \n",
      "\n",
      "running null_median\n",
      "running null_mean\n",
      "running lin_reg\n",
      "running SGD_reg\n",
      "running ridge_reg\n",
      "running lasso_reg\n",
      "running EN_reg\n",
      "poly_X_4\n",
      "   null_median  null_mean    lin_reg       SGD_reg  ridge_reg  lasso_reg  \\\n",
      "0    45.708987  45.149057  23.642470  1.125560e+11  23.327220  25.725687   \n",
      "1     1.510470   1.412266   1.284448  6.205802e+10   1.250571   1.225836   \n",
      "\n",
      "      EN_reg  \n",
      "0  27.117648  \n",
      "1   1.320998  \n",
      "\n",
      "running null_median\n",
      "running null_mean\n",
      "running lin_reg\n",
      "running SGD_reg\n",
      "running ridge_reg\n",
      "running lasso_reg\n"
     ]
    },
    {
     "name": "stderr",
     "output_type": "stream",
     "text": [
      "/Users/ajwright/anaconda3/envs/my_conda/lib/python3.7/site-packages/sklearn/linear_model/_coordinate_descent.py:532: ConvergenceWarning: Objective did not converge. You might want to increase the number of iterations. Duality gap: 4250.681234691292, tolerance: 3145.1392415755395\n",
      "  positive)\n",
      "/Users/ajwright/anaconda3/envs/my_conda/lib/python3.7/site-packages/sklearn/linear_model/_coordinate_descent.py:532: ConvergenceWarning: Objective did not converge. You might want to increase the number of iterations. Duality gap: 4840.615353891626, tolerance: 3155.483331438043\n",
      "  positive)\n"
     ]
    },
    {
     "name": "stdout",
     "output_type": "stream",
     "text": [
      "running EN_reg\n",
      "poly_X_5\n",
      "   null_median  null_mean    lin_reg       SGD_reg  ridge_reg  lasso_reg  \\\n",
      "0    45.708987  45.149057  35.746510  2.285706e+11  23.475886  25.648578   \n",
      "1     1.510470   1.412266  24.081964  1.289261e+11   1.236193   1.246198   \n",
      "\n",
      "      EN_reg  \n",
      "0  27.104337  \n",
      "1   1.289707  \n",
      "\n",
      "running null_median\n",
      "running null_mean\n",
      "running lin_reg\n",
      "running SGD_reg\n",
      "running ridge_reg\n",
      "running lasso_reg\n"
     ]
    },
    {
     "name": "stderr",
     "output_type": "stream",
     "text": [
      "/Users/ajwright/anaconda3/envs/my_conda/lib/python3.7/site-packages/sklearn/linear_model/_coordinate_descent.py:532: ConvergenceWarning: Objective did not converge. You might want to increase the number of iterations. Duality gap: 3547.3568549808115, tolerance: 3145.1392415755395\n",
      "  positive)\n",
      "/Users/ajwright/anaconda3/envs/my_conda/lib/python3.7/site-packages/sklearn/linear_model/_coordinate_descent.py:532: ConvergenceWarning: Objective did not converge. You might want to increase the number of iterations. Duality gap: 3608.450726956129, tolerance: 3186.86550514384\n",
      "  positive)\n",
      "/Users/ajwright/anaconda3/envs/my_conda/lib/python3.7/site-packages/sklearn/linear_model/_coordinate_descent.py:532: ConvergenceWarning: Objective did not converge. You might want to increase the number of iterations. Duality gap: 5720.624106094241, tolerance: 3155.483331438043\n",
      "  positive)\n"
     ]
    },
    {
     "name": "stdout",
     "output_type": "stream",
     "text": [
      "running EN_reg\n",
      "poly_X_6\n",
      "   null_median  null_mean     lin_reg       SGD_reg  ridge_reg  lasso_reg  \\\n",
      "0    45.708987  45.149057  180.552708  7.233847e+11  24.577120  25.611824   \n",
      "1     1.510470   1.412266  179.166464  2.757869e+11   3.301092   1.220689   \n",
      "\n",
      "      EN_reg  \n",
      "0  27.095580  \n",
      "1   1.281154  \n",
      "\n"
     ]
    }
   ],
   "source": [
    "# run each linear regression model with each set of poly features\n",
    "for key, value in poly_features.items(): \n",
    "    df = model_testing(value, y, linreg_model_list, linreg_model_name_list)\n",
    "    print()\n",
    "    print(key)\n",
    "    print(df)\n",
    "    print()"
   ]
  },
  {
   "cell_type": "markdown",
   "metadata": {},
   "source": [
    "### Results:\n",
    "With the original feature set, ridge regression was the best linear model (RMSE=25.42).  Increasing the power of the polynomial feature sets improved ridge regression to a best RMSE of 23.33 with power=4, then the RMSE increased with the power at 5 and 6.  Linear regression also improved with increasing power up to 4 (RMSE=23.64), then got worse. The Lasso RMSE stayed about the same for each polynomial dataset and SGD got worse as the power increased.  None of the polynomial data sets / linear regression models did better than the Random Forest RMSE (20.96)."
   ]
  },
  {
   "cell_type": "markdown",
   "metadata": {},
   "source": [
    "## PCA"
   ]
  },
  {
   "cell_type": "code",
   "execution_count": 71,
   "metadata": {},
   "outputs": [],
   "source": [
    "# use PCA to reduce the dimensionality of the original dataset\n",
    "pca = PCA()\n",
    "X_pca = pca.fit_transform(X)"
   ]
  },
  {
   "cell_type": "code",
   "execution_count": 72,
   "metadata": {},
   "outputs": [
    {
     "data": {
      "text/plain": [
       "array([1.77849247e-01, 1.27927865e-01, 1.07647304e-01, 1.00018479e-01,\n",
       "       7.52151718e-02, 6.02857833e-02, 2.91392332e-02, 1.62311664e-02,\n",
       "       1.60386848e-02, 1.59630678e-02, 1.58138226e-02, 1.54332188e-02,\n",
       "       1.49284542e-02, 1.46159846e-02, 1.23793215e-02, 1.14142001e-02,\n",
       "       1.07786688e-02, 1.05210385e-02, 1.04603752e-02, 9.84699544e-03,\n",
       "       9.77275367e-03, 9.62515730e-03, 9.18508359e-03, 9.00499760e-03,\n",
       "       8.97230279e-03, 8.77994699e-03, 8.41954365e-03, 7.67474184e-03,\n",
       "       7.05130244e-03, 6.86310494e-03, 6.60392191e-03, 5.86291150e-03,\n",
       "       5.01803424e-03, 4.89522392e-03, 4.39474417e-03, 3.88206212e-03,\n",
       "       3.71152714e-03, 3.32088639e-03, 3.10391590e-03, 3.00958765e-03,\n",
       "       2.79203320e-03, 2.61837320e-03, 2.15050659e-03, 1.94294230e-03,\n",
       "       1.67950745e-03, 1.39203115e-03, 1.00265291e-03, 8.03773755e-04,\n",
       "       6.78450786e-04, 5.48002368e-04, 4.70052510e-04, 3.84626541e-04,\n",
       "       3.11952010e-04, 2.91707066e-04, 2.12075828e-04, 1.61881876e-04,\n",
       "       1.25761366e-04, 9.49262440e-05, 8.74622821e-05, 7.87950704e-05,\n",
       "       7.28299410e-05, 7.00017287e-05, 6.63544925e-05, 6.31103638e-05,\n",
       "       5.60773265e-05, 4.54063025e-05, 2.98572894e-05, 2.46838456e-05,\n",
       "       2.39709521e-05, 2.35338157e-05, 1.81936842e-05, 6.93712265e-06,\n",
       "       5.88973310e-06, 5.80653132e-06, 3.50745795e-32, 1.24667097e-33,\n",
       "       1.24667097e-33, 1.24667097e-33, 1.24667097e-33])"
      ]
     },
     "execution_count": 72,
     "metadata": {},
     "output_type": "execute_result"
    }
   ],
   "source": [
    "# which PCA components contain most of the variance of the original dataset?\n",
    "explained_variance = pca.explained_variance_ratio_\n",
    "explained_variance"
   ]
  },
  {
   "cell_type": "code",
   "execution_count": 73,
   "metadata": {},
   "outputs": [
    {
     "data": {
      "image/png": "[encoded data removed]",
      "text/plain": [
       "<Figure size 432x288 with 1 Axes>"
      ]
     },
     "metadata": {
      "needs_background": "light"
     },
     "output_type": "display_data"
    }
   ],
   "source": [
    "# plot scree plot to help determine how many components to include when modeling\n",
    "# code from https://www.datasklr.com/principal-component-analysis-and-factor-analysis/principal-component-analysis\n",
    "\n",
    "PC_values = np.arange(pca.n_components_) + 1\n",
    "plt.plot(PC_values, pca.explained_variance_ratio_, 'ro-', linewidth=2)\n",
    "plt.title('Scree Plot')\n",
    "plt.xlabel('Principal Component')\n",
    "plt.ylabel('Proportion of Variance Explained')\n",
    "plt.show()"
   ]
  },
  {
   "cell_type": "markdown",
   "metadata": {},
   "source": [
    "### How many components to include?\n",
    "\n",
    "80% of the variance is included in components 1-13, while 90% of the varience is in components 1-24. Using the scree plot, there is an eblow after components 1-7.  So let's try all three options. "
   ]
  },
  {
   "cell_type": "code",
   "execution_count": 74,
   "metadata": {},
   "outputs": [],
   "source": [
    "# create dictionary holding the 3 different PCA feature sets\n",
    "num_components = [7, 13, 24]\n",
    "pca_features = {}\n",
    "for num in num_components:\n",
    "    pca = PCA(n_components=num)\n",
    "    pca_features[str(num)] = pca.fit_transform(X)"
   ]
  },
  {
   "cell_type": "code",
   "execution_count": 75,
   "metadata": {},
   "outputs": [
    {
     "name": "stdout",
     "output_type": "stream",
     "text": [
      "running null_median\n",
      "running null_mean\n",
      "running null_random\n",
      "running lin_reg\n",
      "running SGD_reg\n",
      "running ridge_reg\n",
      "running lasso_reg\n",
      "running EN_reg\n",
      "running DT_reg\n",
      "running RF_reg\n",
      "running GB_reg\n",
      "running KN_reg\n",
      "running XGB_reg\n",
      "\n",
      "number of PCA components 7\n",
      "   null_median  null_mean  null_random    lin_reg    SGD_reg  ridge_reg  \\\n",
      "0    45.708987  45.149057    64.013521  28.348965  28.450454  28.348960   \n",
      "1     1.510470   1.412266     0.986905   1.278071   1.306747   1.278072   \n",
      "\n",
      "   lasso_reg     EN_reg     DT_reg     RF_reg     GB_reg     KN_reg    XGB_reg  \n",
      "0  28.484411  30.262162  35.154143  24.835273  25.104132  27.036125  25.506875  \n",
      "1   1.278877   1.305624   2.032995   1.742131   1.650772   1.850790   1.729374  \n",
      "\n",
      "running null_median\n",
      "running null_mean\n",
      "running null_random\n",
      "running lin_reg\n",
      "running SGD_reg\n",
      "running ridge_reg\n",
      "running lasso_reg\n",
      "running EN_reg\n",
      "running DT_reg\n",
      "running RF_reg\n",
      "running GB_reg\n",
      "running KN_reg\n",
      "running XGB_reg\n",
      "\n",
      "number of PCA components 13\n",
      "   null_median  null_mean  null_random    lin_reg    SGD_reg  ridge_reg  \\\n",
      "0    45.708987  45.149057    64.013521  28.337768  28.384064  28.337760   \n",
      "1     1.510470   1.412266     0.986905   1.277871   1.212922   1.277872   \n",
      "\n",
      "   lasso_reg     EN_reg     DT_reg     RF_reg     GB_reg     KN_reg    XGB_reg  \n",
      "0  28.484315  30.261990  35.895507  25.093385  25.124385  28.025195  25.490568  \n",
      "1   1.278931   1.305667   1.802592   1.659782   1.610569   1.767905   1.783620  \n",
      "\n",
      "running null_median\n",
      "running null_mean\n",
      "running null_random\n",
      "running lin_reg\n",
      "running SGD_reg\n",
      "running ridge_reg\n",
      "running lasso_reg\n",
      "running EN_reg\n",
      "running DT_reg\n",
      "running RF_reg\n",
      "running GB_reg\n",
      "running KN_reg\n",
      "running XGB_reg\n",
      "\n",
      "number of PCA components 24\n",
      "   null_median  null_mean  null_random    lin_reg    SGD_reg  ridge_reg  \\\n",
      "0    45.708987  45.149057    64.013521  28.247642  28.313856  28.247622   \n",
      "1     1.510470   1.412266     0.986905   1.295325   1.342605   1.295323   \n",
      "\n",
      "   lasso_reg     EN_reg     DT_reg     RF_reg     GB_reg     KN_reg    XGB_reg  \n",
      "0  28.484426  30.261625  35.718927  25.052816  25.169411  28.942434  25.491859  \n",
      "1   1.278876   1.305574   1.538525   1.623701   1.635289   1.648797   1.791586  \n",
      "\n"
     ]
    }
   ],
   "source": [
    "# run each regression model using each PCA feature set\n",
    "for key, value in pca_features.items(): \n",
    "    df = model_testing(value, y, all_model_list, all_model_name_list)\n",
    "    print()\n",
    "    print(\"number of PCA components\", key)\n",
    "    print(df)\n",
    "    print()"
   ]
  },
  {
   "cell_type": "markdown",
   "metadata": {},
   "source": [
    "### Results:\n",
    "The three PCA feature sets gave similar results to each other (all within 1-2 points) and most of which are worse than the best models using the original dataset.  Given the relatively small size of the dataset and the observed loss of performance, PCA is not a good fit for this modeling situtation. "
   ]
  },
  {
   "cell_type": "markdown",
   "metadata": {},
   "source": [
    "## Feature Importance"
   ]
  },
  {
   "cell_type": "code",
   "execution_count": 76,
   "metadata": {},
   "outputs": [],
   "source": [
    "# Below is a third party function that gets feature names.  Code and explanation on this website: \n",
    "# https://johaupt.github.io/scikit-learn/tutorial/python/data%20processing/ml%20pipeline/model%20interpretation/columnTransformer_feature_names.html\n",
    "\n",
    "import warnings\n",
    "import sklearn\n",
    "import pandas as pd\n",
    "\n",
    "def get_feature_names(column_transformer):\n",
    "    \"\"\"Get feature names from all transformers.\n",
    "    Returns\n",
    "    -------\n",
    "    feature_names : list of strings\n",
    "        Names of the features produced by transform.\n",
    "    \"\"\"\n",
    "    # Remove the internal helper function\n",
    "    #check_is_fitted(column_transformer)\n",
    "    \n",
    "    # Turn loopkup into function for better handling with pipeline later\n",
    "    def get_names(trans):\n",
    "        # >> Original get_feature_names() method\n",
    "        if trans == 'drop' or (\n",
    "                hasattr(column, '__len__') and not len(column)):\n",
    "            return []\n",
    "        if trans == 'passthrough':\n",
    "            if hasattr(column_transformer, '_df_columns'):\n",
    "                if ((not isinstance(column, slice))\n",
    "                        and all(isinstance(col, str) for col in column)):\n",
    "                    return column\n",
    "                else:\n",
    "                    return column_transformer._df_columns[column]\n",
    "            else:\n",
    "                indices = np.arange(column_transformer._n_features)\n",
    "                return ['x%d' % i for i in indices[column]]\n",
    "        if not hasattr(trans, 'get_feature_names'):\n",
    "        # >>> Change: Return input column names if no method avaiable\n",
    "            # Turn error into a warning\n",
    "            warnings.warn(\"Transformer %s (type %s) does not \"\n",
    "                                 \"provide get_feature_names. \"\n",
    "                                 \"Will return input column names if available\"\n",
    "                                 % (str(name), type(trans).__name__))\n",
    "            # For transformers without a get_features_names method, use the input\n",
    "            # names to the column transformer\n",
    "            if column is None:\n",
    "                return []\n",
    "            else:\n",
    "                return [name + \"__\" + f for f in column]\n",
    "\n",
    "        return [name + \"__\" + f for f in trans.get_feature_names()]\n",
    "    \n",
    "    ### Start of processing\n",
    "    feature_names = []\n",
    "    \n",
    "    # Allow transformers to be pipelines. Pipeline steps are named differently, so preprocessing is needed\n",
    "    if type(column_transformer) == sklearn.pipeline.Pipeline:\n",
    "        l_transformers = [(name, trans, None, None) for step, name, trans in column_transformer._iter()]\n",
    "    else:\n",
    "        # For column transformers, follow the original method\n",
    "        l_transformers = list(column_transformer._iter(fitted=True))\n",
    "    \n",
    "    \n",
    "    for name, trans, column, _ in l_transformers: \n",
    "        if type(trans) == sklearn.pipeline.Pipeline:\n",
    "            # Recursive call on pipeline\n",
    "            _names = get_feature_names(trans)\n",
    "            # if pipeline has no transformer that returns names\n",
    "            if len(_names)==0:\n",
    "                _names = [name + \"__\" + f for f in column]\n",
    "            feature_names.extend(_names)\n",
    "        else:\n",
    "            feature_names.extend(get_names(trans))\n",
    "    \n",
    "    return feature_names"
   ]
  },
  {
   "cell_type": "markdown",
   "metadata": {},
   "source": [
    "### What are the most important features for the linear regression model?"
   ]
  },
  {
   "cell_type": "code",
   "execution_count": 77,
   "metadata": {},
   "outputs": [
    {
     "name": "stdout",
     "output_type": "stream",
     "text": [
      "[ColumnTransformer]  (1 of 3) Processing numeric_col_preprocessing, total=   0.0s\n",
      "[ColumnTransformer]  (2 of 3) Processing cat_col_preprocessing, total=   0.0s\n",
      "[ColumnTransformer] ..... (3 of 3) Processing remainder, total=   0.0s\n",
      "[Pipeline] . (step 1 of 1) Processing col_preprocessing, total=   0.0s\n"
     ]
    }
   ],
   "source": [
    "# Regenerate the original X feature set \n",
    "num_columns = ['age', 'height', 'start_weight', 'fill_period_weeks', 'num_comments']\n",
    "cat_columns = ['month', 'dayofweek', 'num_posts', 'post_order']\n",
    "    \n",
    "col_preprocessing = ColumnTransformer([\n",
    "    ('numeric_col_preprocessing', StandardScaler(), num_columns),\n",
    "    ('cat_col_preprocessing', OneHotEncoder(sparse=False, categories='auto'), cat_columns)], \n",
    "    remainder='passthrough', verbose=True)\n",
    "\n",
    "data_prep_pipeline = Pipeline([\n",
    "    ('col_preprocessing', col_preprocessing)],\n",
    "    verbose=True)\n",
    "\n",
    "X = data_prep_pipeline.fit_transform(pp_train_features.copy())"
   ]
  },
  {
   "cell_type": "code",
   "execution_count": 78,
   "metadata": {},
   "outputs": [
    {
     "name": "stderr",
     "output_type": "stream",
     "text": [
      "/Users/ajwright/anaconda3/envs/my_conda/lib/python3.7/site-packages/ipykernel_launcher.py:40: UserWarning: Transformer numeric_col_preprocessing (type StandardScaler) does not provide get_feature_names. Will return input column names if available\n"
     ]
    },
    {
     "data": {
      "text/html": [
       "<div>\n",
       "<style scoped>\n",
       "    .dataframe tbody tr th:only-of-type {\n",
       "        vertical-align: middle;\n",
       "    }\n",
       "\n",
       "    .dataframe tbody tr th {\n",
       "        vertical-align: top;\n",
       "    }\n",
       "\n",
       "    .dataframe thead th {\n",
       "        text-align: right;\n",
       "    }\n",
       "</style>\n",
       "<table border=\"1\" class=\"dataframe\">\n",
       "  <thead>\n",
       "    <tr style=\"text-align: right;\">\n",
       "      <th></th>\n",
       "      <th>Feature Importance</th>\n",
       "    </tr>\n",
       "  </thead>\n",
       "  <tbody>\n",
       "    <tr>\n",
       "      <th>cat_col_preprocessing__x2_19</th>\n",
       "      <td>199.349866</td>\n",
       "    </tr>\n",
       "    <tr>\n",
       "      <th>cat_col_preprocessing__x2_12</th>\n",
       "      <td>42.019266</td>\n",
       "    </tr>\n",
       "    <tr>\n",
       "      <th>gain_or_lose</th>\n",
       "      <td>37.378758</td>\n",
       "    </tr>\n",
       "    <tr>\n",
       "      <th>numeric_col_preprocessing__start_weight</th>\n",
       "      <td>35.415688</td>\n",
       "    </tr>\n",
       "    <tr>\n",
       "      <th>cat_col_preprocessing__x3_1.0</th>\n",
       "      <td>16.198875</td>\n",
       "    </tr>\n",
       "    <tr>\n",
       "      <th>cat_col_preprocessing__x3_2.0</th>\n",
       "      <td>10.901943</td>\n",
       "    </tr>\n",
       "    <tr>\n",
       "      <th>numeric_col_preprocessing__height</th>\n",
       "      <td>7.370312</td>\n",
       "    </tr>\n",
       "    <tr>\n",
       "      <th>nsfw</th>\n",
       "      <td>6.944394</td>\n",
       "    </tr>\n",
       "    <tr>\n",
       "      <th>cat_col_preprocessing__x3_3.0</th>\n",
       "      <td>6.867424</td>\n",
       "    </tr>\n",
       "    <tr>\n",
       "      <th>keto</th>\n",
       "      <td>4.948227</td>\n",
       "    </tr>\n",
       "    <tr>\n",
       "      <th>gains</th>\n",
       "      <td>3.593554</td>\n",
       "    </tr>\n",
       "    <tr>\n",
       "      <th>progress</th>\n",
       "      <td>3.074064</td>\n",
       "    </tr>\n",
       "    <tr>\n",
       "      <th>cat_col_preprocessing__x3_13.0</th>\n",
       "      <td>2.853777</td>\n",
       "    </tr>\n",
       "    <tr>\n",
       "      <th>cat_col_preprocessing__x3_18.0</th>\n",
       "      <td>2.510582</td>\n",
       "    </tr>\n",
       "    <tr>\n",
       "      <th>cat_col_preprocessing__x3_4.0</th>\n",
       "      <td>2.430756</td>\n",
       "    </tr>\n",
       "    <tr>\n",
       "      <th>face</th>\n",
       "      <td>2.286671</td>\n",
       "    </tr>\n",
       "    <tr>\n",
       "      <th>cat_col_preprocessing__x3_19.0</th>\n",
       "      <td>1.996893</td>\n",
       "    </tr>\n",
       "    <tr>\n",
       "      <th>goal</th>\n",
       "      <td>1.949189</td>\n",
       "    </tr>\n",
       "    <tr>\n",
       "      <th>cico</th>\n",
       "      <td>1.717553</td>\n",
       "    </tr>\n",
       "    <tr>\n",
       "      <th>cat_col_preprocessing__x3_11.0</th>\n",
       "      <td>1.586981</td>\n",
       "    </tr>\n",
       "  </tbody>\n",
       "</table>\n",
       "</div>"
      ],
      "text/plain": [
       "                                         Feature Importance\n",
       "cat_col_preprocessing__x2_19                     199.349866\n",
       "cat_col_preprocessing__x2_12                      42.019266\n",
       "gain_or_lose                                      37.378758\n",
       "numeric_col_preprocessing__start_weight           35.415688\n",
       "cat_col_preprocessing__x3_1.0                     16.198875\n",
       "cat_col_preprocessing__x3_2.0                     10.901943\n",
       "numeric_col_preprocessing__height                  7.370312\n",
       "nsfw                                               6.944394\n",
       "cat_col_preprocessing__x3_3.0                      6.867424\n",
       "keto                                               4.948227\n",
       "gains                                              3.593554\n",
       "progress                                           3.074064\n",
       "cat_col_preprocessing__x3_13.0                     2.853777\n",
       "cat_col_preprocessing__x3_18.0                     2.510582\n",
       "cat_col_preprocessing__x3_4.0                      2.430756\n",
       "face                                               2.286671\n",
       "cat_col_preprocessing__x3_19.0                     1.996893\n",
       "goal                                               1.949189\n",
       "cico                                               1.717553\n",
       "cat_col_preprocessing__x3_11.0                     1.586981"
      ]
     },
     "execution_count": 78,
     "metadata": {},
     "output_type": "execute_result"
    }
   ],
   "source": [
    "ridge_reg.fit(X, y)\n",
    "ridge_reg_feat_import = pd.DataFrame(ridge_reg.coef_, index = get_feature_names(col_preprocessing))\n",
    "ridge_reg_feat_import.columns = [\"Feature Importance\"]\n",
    "ridge_reg_feat_import.sort_values(\"Feature Importance\", ascending=False).head(20)"
   ]
  },
  {
   "cell_type": "code",
   "execution_count": 83,
   "metadata": {},
   "outputs": [
    {
     "data": {
      "text/html": [
       "<div>\n",
       "<style scoped>\n",
       "    .dataframe tbody tr th:only-of-type {\n",
       "        vertical-align: middle;\n",
       "    }\n",
       "\n",
       "    .dataframe tbody tr th {\n",
       "        vertical-align: top;\n",
       "    }\n",
       "\n",
       "    .dataframe thead th {\n",
       "        text-align: right;\n",
       "    }\n",
       "</style>\n",
       "<table border=\"1\" class=\"dataframe\">\n",
       "  <thead>\n",
       "    <tr style=\"text-align: right;\">\n",
       "      <th></th>\n",
       "      <th>Feature Importance</th>\n",
       "    </tr>\n",
       "  </thead>\n",
       "  <tbody>\n",
       "    <tr>\n",
       "      <th>cat_col_preprocessing__x3_6.0</th>\n",
       "      <td>-2.579536</td>\n",
       "    </tr>\n",
       "    <tr>\n",
       "      <th>muscle</th>\n",
       "      <td>-2.666102</td>\n",
       "    </tr>\n",
       "    <tr>\n",
       "      <th>cat_col_preprocessing__x2_13</th>\n",
       "      <td>-3.089250</td>\n",
       "    </tr>\n",
       "    <tr>\n",
       "      <th>cat_col_preprocessing__x0_1</th>\n",
       "      <td>-3.195590</td>\n",
       "    </tr>\n",
       "    <tr>\n",
       "      <th>cat_col_preprocessing__x3_10.0</th>\n",
       "      <td>-3.335078</td>\n",
       "    </tr>\n",
       "    <tr>\n",
       "      <th>numeric_col_preprocessing__fill_period_weeks</th>\n",
       "      <td>-3.995176</td>\n",
       "    </tr>\n",
       "    <tr>\n",
       "      <th>cat_col_preprocessing__x3_7.0</th>\n",
       "      <td>-4.119399</td>\n",
       "    </tr>\n",
       "    <tr>\n",
       "      <th>cat_col_preprocessing__x3_0.0</th>\n",
       "      <td>-4.307605</td>\n",
       "    </tr>\n",
       "    <tr>\n",
       "      <th>cat_col_preprocessing__x2_0</th>\n",
       "      <td>-4.307605</td>\n",
       "    </tr>\n",
       "    <tr>\n",
       "      <th>numeric_col_preprocessing__num_comments</th>\n",
       "      <td>-4.352789</td>\n",
       "    </tr>\n",
       "    <tr>\n",
       "      <th>cat_col_preprocessing__x3_12.0</th>\n",
       "      <td>-5.374064</td>\n",
       "    </tr>\n",
       "    <tr>\n",
       "      <th>cat_col_preprocessing__x3_16.0</th>\n",
       "      <td>-6.038241</td>\n",
       "    </tr>\n",
       "    <tr>\n",
       "      <th>cat_col_preprocessing__x2_17</th>\n",
       "      <td>-6.075286</td>\n",
       "    </tr>\n",
       "    <tr>\n",
       "      <th>cat_col_preprocessing__x2_11</th>\n",
       "      <td>-6.649805</td>\n",
       "    </tr>\n",
       "    <tr>\n",
       "      <th>cat_col_preprocessing__x3_14.0</th>\n",
       "      <td>-7.181397</td>\n",
       "    </tr>\n",
       "    <tr>\n",
       "      <th>cat_col_preprocessing__x2_14</th>\n",
       "      <td>-7.594508</td>\n",
       "    </tr>\n",
       "    <tr>\n",
       "      <th>cat_col_preprocessing__x2_7</th>\n",
       "      <td>-8.353348</td>\n",
       "    </tr>\n",
       "    <tr>\n",
       "      <th>cat_col_preprocessing__x3_17.0</th>\n",
       "      <td>-10.782212</td>\n",
       "    </tr>\n",
       "    <tr>\n",
       "      <th>cat_col_preprocessing__x2_16</th>\n",
       "      <td>-12.045557</td>\n",
       "    </tr>\n",
       "    <tr>\n",
       "      <th>cat_col_preprocessing__x2_6</th>\n",
       "      <td>-12.079641</td>\n",
       "    </tr>\n",
       "    <tr>\n",
       "      <th>cat_col_preprocessing__x2_9</th>\n",
       "      <td>-12.433270</td>\n",
       "    </tr>\n",
       "    <tr>\n",
       "      <th>cat_col_preprocessing__x2_5</th>\n",
       "      <td>-13.947517</td>\n",
       "    </tr>\n",
       "    <tr>\n",
       "      <th>cat_col_preprocessing__x2_15</th>\n",
       "      <td>-15.385163</td>\n",
       "    </tr>\n",
       "    <tr>\n",
       "      <th>cat_col_preprocessing__x2_8</th>\n",
       "      <td>-15.607509</td>\n",
       "    </tr>\n",
       "    <tr>\n",
       "      <th>cat_col_preprocessing__x2_10</th>\n",
       "      <td>-15.963311</td>\n",
       "    </tr>\n",
       "    <tr>\n",
       "      <th>cat_col_preprocessing__x2_3</th>\n",
       "      <td>-17.584298</td>\n",
       "    </tr>\n",
       "    <tr>\n",
       "      <th>cat_col_preprocessing__x2_4</th>\n",
       "      <td>-18.555951</td>\n",
       "    </tr>\n",
       "    <tr>\n",
       "      <th>cat_col_preprocessing__x2_2</th>\n",
       "      <td>-19.915383</td>\n",
       "    </tr>\n",
       "    <tr>\n",
       "      <th>cat_col_preprocessing__x2_1</th>\n",
       "      <td>-22.948695</td>\n",
       "    </tr>\n",
       "    <tr>\n",
       "      <th>cat_col_preprocessing__x2_18</th>\n",
       "      <td>-28.833035</td>\n",
       "    </tr>\n",
       "  </tbody>\n",
       "</table>\n",
       "</div>"
      ],
      "text/plain": [
       "                                              Feature Importance\n",
       "cat_col_preprocessing__x3_6.0                          -2.579536\n",
       "muscle                                                 -2.666102\n",
       "cat_col_preprocessing__x2_13                           -3.089250\n",
       "cat_col_preprocessing__x0_1                            -3.195590\n",
       "cat_col_preprocessing__x3_10.0                         -3.335078\n",
       "numeric_col_preprocessing__fill_period_weeks           -3.995176\n",
       "cat_col_preprocessing__x3_7.0                          -4.119399\n",
       "cat_col_preprocessing__x3_0.0                          -4.307605\n",
       "cat_col_preprocessing__x2_0                            -4.307605\n",
       "numeric_col_preprocessing__num_comments                -4.352789\n",
       "cat_col_preprocessing__x3_12.0                         -5.374064\n",
       "cat_col_preprocessing__x3_16.0                         -6.038241\n",
       "cat_col_preprocessing__x2_17                           -6.075286\n",
       "cat_col_preprocessing__x2_11                           -6.649805\n",
       "cat_col_preprocessing__x3_14.0                         -7.181397\n",
       "cat_col_preprocessing__x2_14                           -7.594508\n",
       "cat_col_preprocessing__x2_7                            -8.353348\n",
       "cat_col_preprocessing__x3_17.0                        -10.782212\n",
       "cat_col_preprocessing__x2_16                          -12.045557\n",
       "cat_col_preprocessing__x2_6                           -12.079641\n",
       "cat_col_preprocessing__x2_9                           -12.433270\n",
       "cat_col_preprocessing__x2_5                           -13.947517\n",
       "cat_col_preprocessing__x2_15                          -15.385163\n",
       "cat_col_preprocessing__x2_8                           -15.607509\n",
       "cat_col_preprocessing__x2_10                          -15.963311\n",
       "cat_col_preprocessing__x2_3                           -17.584298\n",
       "cat_col_preprocessing__x2_4                           -18.555951\n",
       "cat_col_preprocessing__x2_2                           -19.915383\n",
       "cat_col_preprocessing__x2_1                           -22.948695\n",
       "cat_col_preprocessing__x2_18                          -28.833035"
      ]
     },
     "execution_count": 83,
     "metadata": {},
     "output_type": "execute_result"
    }
   ],
   "source": [
    "ridge_reg_feat_import.sort_values(\"Feature Importance\", ascending=False).tail(30)"
   ]
  },
  {
   "cell_type": "code",
   "execution_count": 85,
   "metadata": {},
   "outputs": [
    {
     "name": "stderr",
     "output_type": "stream",
     "text": [
      "/Users/ajwright/anaconda3/envs/my_conda/lib/python3.7/site-packages/ipykernel_launcher.py:40: UserWarning: Transformer numeric_col_preprocessing (type StandardScaler) does not provide get_feature_names. Will return input column names if available\n"
     ]
    },
    {
     "data": {
      "text/html": [
       "<div>\n",
       "<style scoped>\n",
       "    .dataframe tbody tr th:only-of-type {\n",
       "        vertical-align: middle;\n",
       "    }\n",
       "\n",
       "    .dataframe tbody tr th {\n",
       "        vertical-align: top;\n",
       "    }\n",
       "\n",
       "    .dataframe thead th {\n",
       "        text-align: right;\n",
       "    }\n",
       "</style>\n",
       "<table border=\"1\" class=\"dataframe\">\n",
       "  <thead>\n",
       "    <tr style=\"text-align: right;\">\n",
       "      <th></th>\n",
       "      <th>Feature Importance</th>\n",
       "    </tr>\n",
       "  </thead>\n",
       "  <tbody>\n",
       "    <tr>\n",
       "      <th>numeric_col_preprocessing__start_weight</th>\n",
       "      <td>0.639355</td>\n",
       "    </tr>\n",
       "    <tr>\n",
       "      <th>numeric_col_preprocessing__fill_period_weeks</th>\n",
       "      <td>0.082646</td>\n",
       "    </tr>\n",
       "    <tr>\n",
       "      <th>numeric_col_preprocessing__height</th>\n",
       "      <td>0.063560</td>\n",
       "    </tr>\n",
       "    <tr>\n",
       "      <th>gain_or_lose</th>\n",
       "      <td>0.040590</td>\n",
       "    </tr>\n",
       "    <tr>\n",
       "      <th>numeric_col_preprocessing__num_comments</th>\n",
       "      <td>0.034813</td>\n",
       "    </tr>\n",
       "    <tr>\n",
       "      <th>numeric_col_preprocessing__age</th>\n",
       "      <td>0.027037</td>\n",
       "    </tr>\n",
       "    <tr>\n",
       "      <th>sex</th>\n",
       "      <td>0.008321</td>\n",
       "    </tr>\n",
       "    <tr>\n",
       "      <th>cat_col_preprocessing__x1_0</th>\n",
       "      <td>0.004828</td>\n",
       "    </tr>\n",
       "    <tr>\n",
       "      <th>cat_col_preprocessing__x1_5</th>\n",
       "      <td>0.004513</td>\n",
       "    </tr>\n",
       "    <tr>\n",
       "      <th>cat_col_preprocessing__x2_1</th>\n",
       "      <td>0.004278</td>\n",
       "    </tr>\n",
       "    <tr>\n",
       "      <th>cat_col_preprocessing__x0_9</th>\n",
       "      <td>0.004075</td>\n",
       "    </tr>\n",
       "    <tr>\n",
       "      <th>cat_col_preprocessing__x0_11</th>\n",
       "      <td>0.003522</td>\n",
       "    </tr>\n",
       "    <tr>\n",
       "      <th>progress</th>\n",
       "      <td>0.003318</td>\n",
       "    </tr>\n",
       "    <tr>\n",
       "      <th>cat_col_preprocessing__x1_6</th>\n",
       "      <td>0.003253</td>\n",
       "    </tr>\n",
       "    <tr>\n",
       "      <th>cat_col_preprocessing__x1_3</th>\n",
       "      <td>0.003241</td>\n",
       "    </tr>\n",
       "    <tr>\n",
       "      <th>cat_col_preprocessing__x1_1</th>\n",
       "      <td>0.003174</td>\n",
       "    </tr>\n",
       "    <tr>\n",
       "      <th>cat_col_preprocessing__x0_4</th>\n",
       "      <td>0.003109</td>\n",
       "    </tr>\n",
       "    <tr>\n",
       "      <th>cat_col_preprocessing__x3_1.0</th>\n",
       "      <td>0.003056</td>\n",
       "    </tr>\n",
       "    <tr>\n",
       "      <th>cat_col_preprocessing__x0_3</th>\n",
       "      <td>0.003035</td>\n",
       "    </tr>\n",
       "    <tr>\n",
       "      <th>cat_col_preprocessing__x2_19</th>\n",
       "      <td>0.002951</td>\n",
       "    </tr>\n",
       "    <tr>\n",
       "      <th>cat_col_preprocessing__x0_10</th>\n",
       "      <td>0.002944</td>\n",
       "    </tr>\n",
       "    <tr>\n",
       "      <th>cat_col_preprocessing__x1_2</th>\n",
       "      <td>0.002813</td>\n",
       "    </tr>\n",
       "    <tr>\n",
       "      <th>face</th>\n",
       "      <td>0.002682</td>\n",
       "    </tr>\n",
       "    <tr>\n",
       "      <th>cico</th>\n",
       "      <td>0.002668</td>\n",
       "    </tr>\n",
       "    <tr>\n",
       "      <th>cat_col_preprocessing__x2_2</th>\n",
       "      <td>0.002576</td>\n",
       "    </tr>\n",
       "    <tr>\n",
       "      <th>cat_col_preprocessing__x1_4</th>\n",
       "      <td>0.002550</td>\n",
       "    </tr>\n",
       "    <tr>\n",
       "      <th>cat_col_preprocessing__x0_12</th>\n",
       "      <td>0.002436</td>\n",
       "    </tr>\n",
       "    <tr>\n",
       "      <th>cat_col_preprocessing__x0_8</th>\n",
       "      <td>0.002418</td>\n",
       "    </tr>\n",
       "    <tr>\n",
       "      <th>cat_col_preprocessing__x0_5</th>\n",
       "      <td>0.002413</td>\n",
       "    </tr>\n",
       "    <tr>\n",
       "      <th>cat_col_preprocessing__x0_6</th>\n",
       "      <td>0.002217</td>\n",
       "    </tr>\n",
       "  </tbody>\n",
       "</table>\n",
       "</div>"
      ],
      "text/plain": [
       "                                              Feature Importance\n",
       "numeric_col_preprocessing__start_weight                 0.639355\n",
       "numeric_col_preprocessing__fill_period_weeks            0.082646\n",
       "numeric_col_preprocessing__height                       0.063560\n",
       "gain_or_lose                                            0.040590\n",
       "numeric_col_preprocessing__num_comments                 0.034813\n",
       "numeric_col_preprocessing__age                          0.027037\n",
       "sex                                                     0.008321\n",
       "cat_col_preprocessing__x1_0                             0.004828\n",
       "cat_col_preprocessing__x1_5                             0.004513\n",
       "cat_col_preprocessing__x2_1                             0.004278\n",
       "cat_col_preprocessing__x0_9                             0.004075\n",
       "cat_col_preprocessing__x0_11                            0.003522\n",
       "progress                                                0.003318\n",
       "cat_col_preprocessing__x1_6                             0.003253\n",
       "cat_col_preprocessing__x1_3                             0.003241\n",
       "cat_col_preprocessing__x1_1                             0.003174\n",
       "cat_col_preprocessing__x0_4                             0.003109\n",
       "cat_col_preprocessing__x3_1.0                           0.003056\n",
       "cat_col_preprocessing__x0_3                             0.003035\n",
       "cat_col_preprocessing__x2_19                            0.002951\n",
       "cat_col_preprocessing__x0_10                            0.002944\n",
       "cat_col_preprocessing__x1_2                             0.002813\n",
       "face                                                    0.002682\n",
       "cico                                                    0.002668\n",
       "cat_col_preprocessing__x2_2                             0.002576\n",
       "cat_col_preprocessing__x1_4                             0.002550\n",
       "cat_col_preprocessing__x0_12                            0.002436\n",
       "cat_col_preprocessing__x0_8                             0.002418\n",
       "cat_col_preprocessing__x0_5                             0.002413\n",
       "cat_col_preprocessing__x0_6                             0.002217"
      ]
     },
     "execution_count": 85,
     "metadata": {},
     "output_type": "execute_result"
    }
   ],
   "source": [
    "# what are the most important features for the random forest model?\n",
    "RF_reg.fit(X,y)\n",
    "\n",
    "RF_feat_import = pd.DataFrame(RF_reg.feature_importances_, index = get_feature_names(col_preprocessing))\n",
    "RF_feat_import.columns = [\"Feature Importance\"]\n",
    "\n",
    "RF_feat_import.sort_values(\"Feature Importance\", ascending=False).head(30)"
   ]
  },
  {
   "cell_type": "code",
   "execution_count": 84,
   "metadata": {},
   "outputs": [
    {
     "name": "stderr",
     "output_type": "stream",
     "text": [
      "/Users/ajwright/anaconda3/envs/my_conda/lib/python3.7/site-packages/ipykernel_launcher.py:40: UserWarning: Transformer numeric_col_preprocessing (type StandardScaler) does not provide get_feature_names. Will return input column names if available\n"
     ]
    },
    {
     "data": {
      "text/html": [
       "<div>\n",
       "<style scoped>\n",
       "    .dataframe tbody tr th:only-of-type {\n",
       "        vertical-align: middle;\n",
       "    }\n",
       "\n",
       "    .dataframe tbody tr th {\n",
       "        vertical-align: top;\n",
       "    }\n",
       "\n",
       "    .dataframe thead th {\n",
       "        text-align: right;\n",
       "    }\n",
       "</style>\n",
       "<table border=\"1\" class=\"dataframe\">\n",
       "  <thead>\n",
       "    <tr style=\"text-align: right;\">\n",
       "      <th></th>\n",
       "      <th>Feature Importance</th>\n",
       "    </tr>\n",
       "  </thead>\n",
       "  <tbody>\n",
       "    <tr>\n",
       "      <th>gain_or_lose</th>\n",
       "      <td>0.182636</td>\n",
       "    </tr>\n",
       "    <tr>\n",
       "      <th>numeric_col_preprocessing__start_weight</th>\n",
       "      <td>0.178305</td>\n",
       "    </tr>\n",
       "    <tr>\n",
       "      <th>cat_col_preprocessing__x2_19</th>\n",
       "      <td>0.065285</td>\n",
       "    </tr>\n",
       "    <tr>\n",
       "      <th>numeric_col_preprocessing__fill_period_weeks</th>\n",
       "      <td>0.035405</td>\n",
       "    </tr>\n",
       "    <tr>\n",
       "      <th>numeric_col_preprocessing__height</th>\n",
       "      <td>0.031991</td>\n",
       "    </tr>\n",
       "    <tr>\n",
       "      <th>sex</th>\n",
       "      <td>0.031961</td>\n",
       "    </tr>\n",
       "    <tr>\n",
       "      <th>cat_col_preprocessing__x2_8</th>\n",
       "      <td>0.027706</td>\n",
       "    </tr>\n",
       "    <tr>\n",
       "      <th>cat_col_preprocessing__x3_3.0</th>\n",
       "      <td>0.021719</td>\n",
       "    </tr>\n",
       "    <tr>\n",
       "      <th>cat_col_preprocessing__x3_1.0</th>\n",
       "      <td>0.020938</td>\n",
       "    </tr>\n",
       "    <tr>\n",
       "      <th>cat_col_preprocessing__x1_5</th>\n",
       "      <td>0.016897</td>\n",
       "    </tr>\n",
       "    <tr>\n",
       "      <th>cat_col_preprocessing__x2_1</th>\n",
       "      <td>0.016488</td>\n",
       "    </tr>\n",
       "    <tr>\n",
       "      <th>cat_col_preprocessing__x0_9</th>\n",
       "      <td>0.015960</td>\n",
       "    </tr>\n",
       "    <tr>\n",
       "      <th>face</th>\n",
       "      <td>0.015345</td>\n",
       "    </tr>\n",
       "    <tr>\n",
       "      <th>cat_col_preprocessing__x1_0</th>\n",
       "      <td>0.015339</td>\n",
       "    </tr>\n",
       "    <tr>\n",
       "      <th>nsfw</th>\n",
       "      <td>0.015090</td>\n",
       "    </tr>\n",
       "    <tr>\n",
       "      <th>cat_col_preprocessing__x2_0</th>\n",
       "      <td>0.014946</td>\n",
       "    </tr>\n",
       "    <tr>\n",
       "      <th>cat_col_preprocessing__x0_11</th>\n",
       "      <td>0.012917</td>\n",
       "    </tr>\n",
       "    <tr>\n",
       "      <th>progress</th>\n",
       "      <td>0.012794</td>\n",
       "    </tr>\n",
       "    <tr>\n",
       "      <th>numeric_col_preprocessing__num_comments</th>\n",
       "      <td>0.012306</td>\n",
       "    </tr>\n",
       "    <tr>\n",
       "      <th>keto</th>\n",
       "      <td>0.011508</td>\n",
       "    </tr>\n",
       "    <tr>\n",
       "      <th>cico</th>\n",
       "      <td>0.010818</td>\n",
       "    </tr>\n",
       "    <tr>\n",
       "      <th>diet</th>\n",
       "      <td>0.008784</td>\n",
       "    </tr>\n",
       "    <tr>\n",
       "      <th>gains</th>\n",
       "      <td>0.008639</td>\n",
       "    </tr>\n",
       "    <tr>\n",
       "      <th>cat_col_preprocessing__x2_3</th>\n",
       "      <td>0.008638</td>\n",
       "    </tr>\n",
       "    <tr>\n",
       "      <th>cat_col_preprocessing__x2_10</th>\n",
       "      <td>0.008435</td>\n",
       "    </tr>\n",
       "    <tr>\n",
       "      <th>cat_col_preprocessing__x2_5</th>\n",
       "      <td>0.008405</td>\n",
       "    </tr>\n",
       "    <tr>\n",
       "      <th>cat_col_preprocessing__x0_4</th>\n",
       "      <td>0.008032</td>\n",
       "    </tr>\n",
       "    <tr>\n",
       "      <th>cat_col_preprocessing__x0_8</th>\n",
       "      <td>0.007873</td>\n",
       "    </tr>\n",
       "    <tr>\n",
       "      <th>cat_col_preprocessing__x1_1</th>\n",
       "      <td>0.007639</td>\n",
       "    </tr>\n",
       "    <tr>\n",
       "      <th>cat_col_preprocessing__x0_5</th>\n",
       "      <td>0.007378</td>\n",
       "    </tr>\n",
       "  </tbody>\n",
       "</table>\n",
       "</div>"
      ],
      "text/plain": [
       "                                              Feature Importance\n",
       "gain_or_lose                                            0.182636\n",
       "numeric_col_preprocessing__start_weight                 0.178305\n",
       "cat_col_preprocessing__x2_19                            0.065285\n",
       "numeric_col_preprocessing__fill_period_weeks            0.035405\n",
       "numeric_col_preprocessing__height                       0.031991\n",
       "sex                                                     0.031961\n",
       "cat_col_preprocessing__x2_8                             0.027706\n",
       "cat_col_preprocessing__x3_3.0                           0.021719\n",
       "cat_col_preprocessing__x3_1.0                           0.020938\n",
       "cat_col_preprocessing__x1_5                             0.016897\n",
       "cat_col_preprocessing__x2_1                             0.016488\n",
       "cat_col_preprocessing__x0_9                             0.015960\n",
       "face                                                    0.015345\n",
       "cat_col_preprocessing__x1_0                             0.015339\n",
       "nsfw                                                    0.015090\n",
       "cat_col_preprocessing__x2_0                             0.014946\n",
       "cat_col_preprocessing__x0_11                            0.012917\n",
       "progress                                                0.012794\n",
       "numeric_col_preprocessing__num_comments                 0.012306\n",
       "keto                                                    0.011508\n",
       "cico                                                    0.010818\n",
       "diet                                                    0.008784\n",
       "gains                                                   0.008639\n",
       "cat_col_preprocessing__x2_3                             0.008638\n",
       "cat_col_preprocessing__x2_10                            0.008435\n",
       "cat_col_preprocessing__x2_5                             0.008405\n",
       "cat_col_preprocessing__x0_4                             0.008032\n",
       "cat_col_preprocessing__x0_8                             0.007873\n",
       "cat_col_preprocessing__x1_1                             0.007639\n",
       "cat_col_preprocessing__x0_5                             0.007378"
      ]
     },
     "execution_count": 84,
     "metadata": {},
     "output_type": "execute_result"
    }
   ],
   "source": [
    "# what are the most important features for the XGBoost model?\n",
    "XGB_reg.fit(X,y)\n",
    "\n",
    "XGB_feat_import = pd.DataFrame(XGB_reg.feature_importances_, index=get_feature_names(col_preprocessing))\n",
    "XGB_feat_import.columns = [\"Feature Importance\"]\n",
    "\n",
    "XGB_feat_import.sort_values(\"Feature Importance\", ascending=False).head(30)"
   ]
  },
  {
   "cell_type": "markdown",
   "metadata": {},
   "source": [
    "### Results\n",
    "\n",
    "It is interesting how different models rely on different subsets of the feature set. \n",
    "\n",
    "In the Ridge regression model, the most important feature is the one-hot-encoded category of num_posts_19.  Other num_posts categories also have significant coefficents as does \"gain_lose\", \"start_weight\", and \"height\", several key words, as well as a few categories of \"post_order\".  None of the coeffiencents drop to 0 suggesting that all the features are important in this ridge regression model.  \n",
    "\n",
    "In the Random Forest model, the most important feature by far is \"start_weight\" with \"fill_period_weeks\", \"height\", \"gain_or_lose\", \"num_comments\", and \"age\" making minor contributions. \n",
    "\n",
    "In the XGBoost model, the \"gain_or_lose\" and \"start_weight\" have equal importance with the next feature being num_post_19 again.  The remainder of the features make a lower, but non-negligable contribution.  "
   ]
  },
  {
   "cell_type": "markdown",
   "metadata": {},
   "source": [
    "## Modeling with a smaller feature set\n",
    "\n",
    "Try modelling with just the features most important to the random forest model.  Compare performance of this smaller feature set to the entire set for random forest and all the other regression models."
   ]
  },
  {
   "cell_type": "code",
   "execution_count": 42,
   "metadata": {},
   "outputs": [],
   "source": [
    "# import only the subset features \n",
    "pp_train_small = pd.read_csv(\"progresspics_2018_training_data.cvs\", usecols=['start_weight', 'fill_period_weeks', \n",
    "                                                                            \"height\", \"gain_or_lose\", \"num_comments\",\n",
    "                                                                            \"age\"])"
   ]
  },
  {
   "cell_type": "code",
   "execution_count": 44,
   "metadata": {},
   "outputs": [
    {
     "data": {
      "text/html": [
       "<div>\n",
       "<style scoped>\n",
       "    .dataframe tbody tr th:only-of-type {\n",
       "        vertical-align: middle;\n",
       "    }\n",
       "\n",
       "    .dataframe tbody tr th {\n",
       "        vertical-align: top;\n",
       "    }\n",
       "\n",
       "    .dataframe thead th {\n",
       "        text-align: right;\n",
       "    }\n",
       "</style>\n",
       "<table border=\"1\" class=\"dataframe\">\n",
       "  <thead>\n",
       "    <tr style=\"text-align: right;\">\n",
       "      <th></th>\n",
       "      <th>age</th>\n",
       "      <th>height</th>\n",
       "      <th>start_weight</th>\n",
       "      <th>num_comments</th>\n",
       "      <th>gain_or_lose</th>\n",
       "      <th>fill_period_weeks</th>\n",
       "    </tr>\n",
       "  </thead>\n",
       "  <tbody>\n",
       "    <tr>\n",
       "      <th>0</th>\n",
       "      <td>34.0</td>\n",
       "      <td>68.0</td>\n",
       "      <td>189.0000</td>\n",
       "      <td>42</td>\n",
       "      <td>0</td>\n",
       "      <td>312.000000</td>\n",
       "    </tr>\n",
       "    <tr>\n",
       "      <th>1</th>\n",
       "      <td>35.0</td>\n",
       "      <td>76.0</td>\n",
       "      <td>316.0000</td>\n",
       "      <td>1</td>\n",
       "      <td>0</td>\n",
       "      <td>16.000000</td>\n",
       "    </tr>\n",
       "    <tr>\n",
       "      <th>2</th>\n",
       "      <td>33.0</td>\n",
       "      <td>74.0</td>\n",
       "      <td>260.0000</td>\n",
       "      <td>0</td>\n",
       "      <td>0</td>\n",
       "      <td>10.000000</td>\n",
       "    </tr>\n",
       "    <tr>\n",
       "      <th>3</th>\n",
       "      <td>27.0</td>\n",
       "      <td>74.0</td>\n",
       "      <td>235.0000</td>\n",
       "      <td>2</td>\n",
       "      <td>0</td>\n",
       "      <td>59.888934</td>\n",
       "    </tr>\n",
       "    <tr>\n",
       "      <th>4</th>\n",
       "      <td>17.0</td>\n",
       "      <td>73.0</td>\n",
       "      <td>165.3465</td>\n",
       "      <td>1</td>\n",
       "      <td>1</td>\n",
       "      <td>156.000000</td>\n",
       "    </tr>\n",
       "  </tbody>\n",
       "</table>\n",
       "</div>"
      ],
      "text/plain": [
       "    age  height  start_weight  num_comments  gain_or_lose  fill_period_weeks\n",
       "0  34.0    68.0      189.0000            42             0         312.000000\n",
       "1  35.0    76.0      316.0000             1             0          16.000000\n",
       "2  33.0    74.0      260.0000             0             0          10.000000\n",
       "3  27.0    74.0      235.0000             2             0          59.888934\n",
       "4  17.0    73.0      165.3465             1             1         156.000000"
      ]
     },
     "execution_count": 44,
     "metadata": {},
     "output_type": "execute_result"
    }
   ],
   "source": [
    "pp_train_small.head()"
   ]
  },
  {
   "cell_type": "code",
   "execution_count": 43,
   "metadata": {},
   "outputs": [
    {
     "name": "stdout",
     "output_type": "stream",
     "text": [
      "[ColumnTransformer]  (1 of 2) Processing numeric_col_preprocessing, total=   0.0s\n",
      "[ColumnTransformer] ..... (2 of 2) Processing remainder, total=   0.0s\n",
      "[Pipeline] . (step 1 of 1) Processing col_preprocessing, total=   0.0s\n"
     ]
    }
   ],
   "source": [
    "# small subset feature set preparation\n",
    "num_columns = ['age', 'height', 'start_weight', 'fill_period_weeks', 'num_comments']\n",
    "    \n",
    "col_preprocessing = ColumnTransformer([\n",
    "    ('numeric_col_preprocessing', StandardScaler(), num_columns)], \n",
    "    remainder='passthrough', verbose=True)\n",
    "\n",
    "data_prep_pipeline = Pipeline([\n",
    "    ('col_preprocessing', col_preprocessing)],\n",
    "    verbose=True)\n",
    "\n",
    "X_small = data_prep_pipeline.fit_transform(pp_train_small.copy())"
   ]
  },
  {
   "cell_type": "code",
   "execution_count": 90,
   "metadata": {},
   "outputs": [
    {
     "name": "stdout",
     "output_type": "stream",
     "text": [
      "running null_median\n",
      "running null_mean\n",
      "running null_random\n",
      "running lin_reg\n",
      "running SGD_reg\n",
      "running ridge_reg\n",
      "running lasso_reg\n",
      "running EN_reg\n",
      "running DT_reg\n",
      "running RF_reg\n",
      "running GB_reg\n",
      "running KN_reg\n",
      "running XGB_reg\n"
     ]
    }
   ],
   "source": [
    "# modeling\n",
    "small_df = model_testing(X_small, y, all_model_list, all_model_name_list)"
   ]
  },
  {
   "cell_type": "code",
   "execution_count": 108,
   "metadata": {},
   "outputs": [],
   "source": [
    "# to make it easier to compare, put the full and subset modeling results in the same dataframe\n",
    "compare_df = pd.concat([np_df.iloc[0, :], small_df.iloc[0, :]], axis=1)\n",
    "compare_df.columns = [\"full_features\", \"subset_features\"]\n",
    "compare_df[\"best_feature_set\"] = compare_df.apply(lambda row: \"subset\" if row[0] > row[1] else \"full\", axis=1)\n",
    "compare_df[\"difference\"] = compare_df[\"subset_features\"] - compare_df[\"full_features\"]"
   ]
  },
  {
   "cell_type": "code",
   "execution_count": 110,
   "metadata": {},
   "outputs": [
    {
     "data": {
      "text/html": [
       "<div>\n",
       "<style scoped>\n",
       "    .dataframe tbody tr th:only-of-type {\n",
       "        vertical-align: middle;\n",
       "    }\n",
       "\n",
       "    .dataframe tbody tr th {\n",
       "        vertical-align: top;\n",
       "    }\n",
       "\n",
       "    .dataframe thead th {\n",
       "        text-align: right;\n",
       "    }\n",
       "</style>\n",
       "<table border=\"1\" class=\"dataframe\">\n",
       "  <thead>\n",
       "    <tr style=\"text-align: right;\">\n",
       "      <th></th>\n",
       "      <th>full_features</th>\n",
       "      <th>subset_features</th>\n",
       "      <th>best_feature_set</th>\n",
       "      <th>difference</th>\n",
       "    </tr>\n",
       "  </thead>\n",
       "  <tbody>\n",
       "    <tr>\n",
       "      <th>RF_reg</th>\n",
       "      <td>2.096585e+01</td>\n",
       "      <td>21.373161</td>\n",
       "      <td>full</td>\n",
       "      <td>4.073101e-01</td>\n",
       "    </tr>\n",
       "    <tr>\n",
       "      <th>XGB_reg</th>\n",
       "      <td>2.164118e+01</td>\n",
       "      <td>21.812550</td>\n",
       "      <td>full</td>\n",
       "      <td>1.713693e-01</td>\n",
       "    </tr>\n",
       "    <tr>\n",
       "      <th>GB_reg</th>\n",
       "      <td>2.225788e+01</td>\n",
       "      <td>22.268619</td>\n",
       "      <td>full</td>\n",
       "      <td>1.074214e-02</td>\n",
       "    </tr>\n",
       "    <tr>\n",
       "      <th>ridge_reg</th>\n",
       "      <td>2.542271e+01</td>\n",
       "      <td>26.240611</td>\n",
       "      <td>full</td>\n",
       "      <td>8.178997e-01</td>\n",
       "    </tr>\n",
       "    <tr>\n",
       "      <th>SGD_reg</th>\n",
       "      <td>2.602243e+01</td>\n",
       "      <td>26.190916</td>\n",
       "      <td>full</td>\n",
       "      <td>1.684895e-01</td>\n",
       "    </tr>\n",
       "    <tr>\n",
       "      <th>lasso_reg</th>\n",
       "      <td>2.665489e+01</td>\n",
       "      <td>26.654889</td>\n",
       "      <td>subset</td>\n",
       "      <td>-5.073891e-07</td>\n",
       "    </tr>\n",
       "    <tr>\n",
       "      <th>KN_reg</th>\n",
       "      <td>2.922676e+01</td>\n",
       "      <td>24.768709</td>\n",
       "      <td>subset</td>\n",
       "      <td>-4.458050e+00</td>\n",
       "    </tr>\n",
       "    <tr>\n",
       "      <th>DT_reg</th>\n",
       "      <td>2.927363e+01</td>\n",
       "      <td>28.883267</td>\n",
       "      <td>subset</td>\n",
       "      <td>-3.903675e-01</td>\n",
       "    </tr>\n",
       "    <tr>\n",
       "      <th>EN_reg</th>\n",
       "      <td>2.979849e+01</td>\n",
       "      <td>29.830806</td>\n",
       "      <td>full</td>\n",
       "      <td>3.231762e-02</td>\n",
       "    </tr>\n",
       "    <tr>\n",
       "      <th>null_mean</th>\n",
       "      <td>4.514906e+01</td>\n",
       "      <td>45.149057</td>\n",
       "      <td>full</td>\n",
       "      <td>0.000000e+00</td>\n",
       "    </tr>\n",
       "    <tr>\n",
       "      <th>null_median</th>\n",
       "      <td>4.570899e+01</td>\n",
       "      <td>45.708987</td>\n",
       "      <td>full</td>\n",
       "      <td>0.000000e+00</td>\n",
       "    </tr>\n",
       "    <tr>\n",
       "      <th>null_random</th>\n",
       "      <td>6.401352e+01</td>\n",
       "      <td>64.013521</td>\n",
       "      <td>full</td>\n",
       "      <td>0.000000e+00</td>\n",
       "    </tr>\n",
       "    <tr>\n",
       "      <th>lin_reg</th>\n",
       "      <td>3.057082e+10</td>\n",
       "      <td>26.240624</td>\n",
       "      <td>subset</td>\n",
       "      <td>-3.057082e+10</td>\n",
       "    </tr>\n",
       "  </tbody>\n",
       "</table>\n",
       "</div>"
      ],
      "text/plain": [
       "             full_features  subset_features best_feature_set    difference\n",
       "RF_reg        2.096585e+01        21.373161             full  4.073101e-01\n",
       "XGB_reg       2.164118e+01        21.812550             full  1.713693e-01\n",
       "GB_reg        2.225788e+01        22.268619             full  1.074214e-02\n",
       "ridge_reg     2.542271e+01        26.240611             full  8.178997e-01\n",
       "SGD_reg       2.602243e+01        26.190916             full  1.684895e-01\n",
       "lasso_reg     2.665489e+01        26.654889           subset -5.073891e-07\n",
       "KN_reg        2.922676e+01        24.768709           subset -4.458050e+00\n",
       "DT_reg        2.927363e+01        28.883267           subset -3.903675e-01\n",
       "EN_reg        2.979849e+01        29.830806             full  3.231762e-02\n",
       "null_mean     4.514906e+01        45.149057             full  0.000000e+00\n",
       "null_median   4.570899e+01        45.708987             full  0.000000e+00\n",
       "null_random   6.401352e+01        64.013521             full  0.000000e+00\n",
       "lin_reg       3.057082e+10        26.240624           subset -3.057082e+10"
      ]
     },
     "execution_count": 110,
     "metadata": {},
     "output_type": "execute_result"
    }
   ],
   "source": [
    "compare_df.sort_values('full_features')"
   ]
  },
  {
   "cell_type": "markdown",
   "metadata": {},
   "source": [
    "### Results\n",
    "\n",
    "The modeling using the full feature set gives better results (just barely) for the top 3 models: Ridge (by 0.82), Random_Forest (by 0.41), and XGB_reg (by 0.17).  "
   ]
  },
  {
   "cell_type": "markdown",
   "metadata": {},
   "source": [
    "## Hyperparameter optimization"
   ]
  },
  {
   "cell_type": "markdown",
   "metadata": {},
   "source": [
    "### Starting RMSE for Ridge Regression with original dataset is 25.42.  \n",
    "The main hyperparameter to optimize for ridge regression is alpha. "
   ]
  },
  {
   "cell_type": "code",
   "execution_count": 26,
   "metadata": {},
   "outputs": [],
   "source": [
    "from sklearn.model_selection import GridSearchCV\n",
    "from sklearn.model_selection import RepeatedKFold\n",
    "\n",
    "cv = RepeatedKFold(n_splits=10, n_repeats=3, random_state=46)\n",
    "grid = dict()\n",
    "grid[\"alpha\"] = np.arange(0, 1, 0.01)\n",
    "search = GridSearchCV(ridge_reg, grid, scoring='neg_mean_squared_error', cv=cv, n_jobs=-1)\n",
    "results = search.fit(X, y)"
   ]
  },
  {
   "cell_type": "code",
   "execution_count": 112,
   "metadata": {},
   "outputs": [
    {
     "name": "stdout",
     "output_type": "stream",
     "text": [
      "RSME 25.430262514231817\n",
      "Best parameters {'alpha': 0.13}\n"
     ]
    }
   ],
   "source": [
    "print(\"RSME\", np.sqrt(-results.best_score_))\n",
    "print(\"Best parameters\", results.best_params_)"
   ]
  },
  {
   "cell_type": "code",
   "execution_count": 20,
   "metadata": {},
   "outputs": [
    {
     "name": "stdout",
     "output_type": "stream",
     "text": [
      "running opt_ridge_reg\n"
     ]
    }
   ],
   "source": [
    "opt_ridge_reg = Ridge(alpha=0.13)\n",
    "opt_ridge_reg_df = model_testing(X, y, [opt_ridge_reg], [\"opt_ridge_reg\"])"
   ]
  },
  {
   "cell_type": "code",
   "execution_count": 21,
   "metadata": {},
   "outputs": [
    {
     "data": {
      "text/html": [
       "<div>\n",
       "<style scoped>\n",
       "    .dataframe tbody tr th:only-of-type {\n",
       "        vertical-align: middle;\n",
       "    }\n",
       "\n",
       "    .dataframe tbody tr th {\n",
       "        vertical-align: top;\n",
       "    }\n",
       "\n",
       "    .dataframe thead th {\n",
       "        text-align: right;\n",
       "    }\n",
       "</style>\n",
       "<table border=\"1\" class=\"dataframe\">\n",
       "  <thead>\n",
       "    <tr style=\"text-align: right;\">\n",
       "      <th></th>\n",
       "      <th>opt_ridge_reg</th>\n",
       "    </tr>\n",
       "  </thead>\n",
       "  <tbody>\n",
       "    <tr>\n",
       "      <th>0</th>\n",
       "      <td>25.415511</td>\n",
       "    </tr>\n",
       "    <tr>\n",
       "      <th>1</th>\n",
       "      <td>1.064661</td>\n",
       "    </tr>\n",
       "  </tbody>\n",
       "</table>\n",
       "</div>"
      ],
      "text/plain": [
       "   opt_ridge_reg\n",
       "0      25.415511\n",
       "1       1.064661"
      ]
     },
     "execution_count": 21,
     "metadata": {},
     "output_type": "execute_result"
    }
   ],
   "source": [
    "opt_ridge_reg_df"
   ]
  },
  {
   "cell_type": "markdown",
   "metadata": {},
   "source": [
    "### Results:\n",
    "Tuning the alpha hyperparameter did not improve the RMSE of the ridge regression model.  It stayed at 25.42. "
   ]
  },
  {
   "cell_type": "markdown",
   "metadata": {},
   "source": [
    "### Starting RMSE for Ridge Regression with the polynomial (power=4) data set is 23.33"
   ]
  },
  {
   "cell_type": "code",
   "execution_count": 28,
   "metadata": {},
   "outputs": [],
   "source": [
    "results_poly = search.fit(poly_features['poly_X_4'], y)"
   ]
  },
  {
   "cell_type": "code",
   "execution_count": 29,
   "metadata": {},
   "outputs": [
    {
     "name": "stdout",
     "output_type": "stream",
     "text": [
      "RSME 23.391823429156595\n",
      "Best parameters {'alpha': 0.31}\n"
     ]
    }
   ],
   "source": [
    "print(\"RSME\", np.sqrt(-results_poly.best_score_))\n",
    "print(\"Best parameters\", results_poly.best_params_)"
   ]
  },
  {
   "cell_type": "code",
   "execution_count": 33,
   "metadata": {},
   "outputs": [
    {
     "name": "stdout",
     "output_type": "stream",
     "text": [
      "running opt_ridge_reg_poly\n"
     ]
    }
   ],
   "source": [
    "opt_ridge_reg_poly = Ridge(alpha=.31)\n",
    "opt_ridge_reg_poly_df = model_testing(poly_features['poly_X_4'], y, [opt_ridge_reg_poly], [\"opt_ridge_reg_poly\"])"
   ]
  },
  {
   "cell_type": "code",
   "execution_count": 34,
   "metadata": {},
   "outputs": [
    {
     "data": {
      "text/html": [
       "<div>\n",
       "<style scoped>\n",
       "    .dataframe tbody tr th:only-of-type {\n",
       "        vertical-align: middle;\n",
       "    }\n",
       "\n",
       "    .dataframe tbody tr th {\n",
       "        vertical-align: top;\n",
       "    }\n",
       "\n",
       "    .dataframe thead th {\n",
       "        text-align: right;\n",
       "    }\n",
       "</style>\n",
       "<table border=\"1\" class=\"dataframe\">\n",
       "  <thead>\n",
       "    <tr style=\"text-align: right;\">\n",
       "      <th></th>\n",
       "      <th>opt_ridge_reg_poly</th>\n",
       "    </tr>\n",
       "  </thead>\n",
       "  <tbody>\n",
       "    <tr>\n",
       "      <th>0</th>\n",
       "      <td>23.292366</td>\n",
       "    </tr>\n",
       "    <tr>\n",
       "      <th>1</th>\n",
       "      <td>1.237685</td>\n",
       "    </tr>\n",
       "  </tbody>\n",
       "</table>\n",
       "</div>"
      ],
      "text/plain": [
       "   opt_ridge_reg_poly\n",
       "0           23.292366\n",
       "1            1.237685"
      ]
     },
     "execution_count": 34,
     "metadata": {},
     "output_type": "execute_result"
    }
   ],
   "source": [
    "opt_ridge_reg_poly_df"
   ]
  },
  {
   "cell_type": "markdown",
   "metadata": {},
   "source": [
    "### Results\n",
    "Tuning the alpha hyperparameter of the ridge regression model using the polynomial (power=4) feature set improved the RMSE from 23.33 to 23.39, a difference of 0.04. "
   ]
  },
  {
   "cell_type": "markdown",
   "metadata": {},
   "source": [
    "### Starting RMSE for Random Forest is 20.96"
   ]
  },
  {
   "cell_type": "code",
   "execution_count": 115,
   "metadata": {},
   "outputs": [
    {
     "name": "stdout",
     "output_type": "stream",
     "text": [
      "Fitting 3 folds for each of 100 candidates, totalling 300 fits\n"
     ]
    },
    {
     "data": {
      "text/plain": [
       "RandomizedSearchCV(cv=3, estimator=RandomForestRegressor(), n_iter=100,\n",
       "                   n_jobs=-1,\n",
       "                   param_distributions={'bootstrap': [True, False],\n",
       "                                        'max_depth': [10, 20, 30, 40, 50, 60,\n",
       "                                                      70, 80, 90, 100, 110,\n",
       "                                                      None],\n",
       "                                        'max_features': ['auto', 'sqrt'],\n",
       "                                        'min_samples_leaf': [1, 2, 4],\n",
       "                                        'min_samples_split': [2, 5, 10],\n",
       "                                        'n_estimators': [200, 400, 600, 800,\n",
       "                                                         1000, 1200, 1400, 1600,\n",
       "                                                         1800, 2000]},\n",
       "                   random_state=46, scoring='neg_mean_squared_error',\n",
       "                   verbose=2)"
      ]
     },
     "execution_count": 115,
     "metadata": {},
     "output_type": "execute_result"
    }
   ],
   "source": [
    "# use random grid search to explore a hyperparameter space for the random forest model\n",
    "# parameter suggestions from https://towardsdatascience.com/hyperparameter-tuning-the-random-forest-in-python-using-scikit-learn-28d2aa77dd74\n",
    "# took > 1.5 hrs to run\n",
    "\n",
    "from sklearn.model_selection import RandomizedSearchCV\n",
    "\n",
    "n_estimators = [int(x) for x in np.linspace(start = 200, stop = 2000, num = 10)]\n",
    "max_features = ['auto', 'sqrt']\n",
    "max_depth = [int(x) for x in np.linspace(10, 110, num = 11)]\n",
    "max_depth.append(None)\n",
    "min_samples_split = [2, 5, 10]\n",
    "min_samples_leaf = [1, 2, 4]\n",
    "bootstrap = [True, False]\n",
    "\n",
    "random_grid = {'n_estimators': n_estimators,\n",
    "               'max_features': max_features,\n",
    "               'max_depth': max_depth,\n",
    "               'min_samples_split': min_samples_split,\n",
    "               'min_samples_leaf': min_samples_leaf,\n",
    "               'bootstrap': bootstrap}\n",
    "\n",
    "rf_random = RandomizedSearchCV(estimator=RF_reg, param_distributions=random_grid, scoring='neg_mean_squared_error',\n",
    "                               n_iter=100, cv=3, verbose=2, random_state=46, n_jobs = -1)\n",
    "\n",
    "rf_random.fit(X, y)"
   ]
  },
  {
   "cell_type": "code",
   "execution_count": 132,
   "metadata": {},
   "outputs": [
    {
     "data": {
      "text/plain": [
       "{'n_estimators': 2000,\n",
       " 'min_samples_split': 2,\n",
       " 'min_samples_leaf': 1,\n",
       " 'max_features': 'auto',\n",
       " 'max_depth': 60,\n",
       " 'bootstrap': True}"
      ]
     },
     "execution_count": 132,
     "metadata": {},
     "output_type": "execute_result"
    }
   ],
   "source": [
    "rf_random.best_params_"
   ]
  },
  {
   "cell_type": "code",
   "execution_count": 131,
   "metadata": {},
   "outputs": [
    {
     "data": {
      "text/plain": [
       "-452.8611772470158"
      ]
     },
     "execution_count": 131,
     "metadata": {},
     "output_type": "execute_result"
    }
   ],
   "source": [
    "rf_random.best_score_"
   ]
  },
  {
   "cell_type": "code",
   "execution_count": 15,
   "metadata": {},
   "outputs": [
    {
     "name": "stdout",
     "output_type": "stream",
     "text": [
      "running opt_RF_reg\n"
     ]
    }
   ],
   "source": [
    "# try the optimized paramenters in a random forest model\n",
    "opt_RF_reg = RandomForestRegressor(n_estimators=2000, min_samples_split=2, min_samples_leaf=1, max_features='auto',\n",
    " max_depth=60, bootstrap=True)\n",
    "opt_RF_reg_results_df = model_testing(X, y, [opt_RF_reg], [\"opt_RF_reg\"])"
   ]
  },
  {
   "cell_type": "code",
   "execution_count": 16,
   "metadata": {
    "scrolled": true
   },
   "outputs": [
    {
     "data": {
      "text/html": [
       "<div>\n",
       "<style scoped>\n",
       "    .dataframe tbody tr th:only-of-type {\n",
       "        vertical-align: middle;\n",
       "    }\n",
       "\n",
       "    .dataframe tbody tr th {\n",
       "        vertical-align: top;\n",
       "    }\n",
       "\n",
       "    .dataframe thead th {\n",
       "        text-align: right;\n",
       "    }\n",
       "</style>\n",
       "<table border=\"1\" class=\"dataframe\">\n",
       "  <thead>\n",
       "    <tr style=\"text-align: right;\">\n",
       "      <th></th>\n",
       "      <th>opt_RF_reg</th>\n",
       "    </tr>\n",
       "  </thead>\n",
       "  <tbody>\n",
       "    <tr>\n",
       "      <th>0</th>\n",
       "      <td>20.831322</td>\n",
       "    </tr>\n",
       "    <tr>\n",
       "      <th>1</th>\n",
       "      <td>0.959013</td>\n",
       "    </tr>\n",
       "  </tbody>\n",
       "</table>\n",
       "</div>"
      ],
      "text/plain": [
       "   opt_RF_reg\n",
       "0   20.831322\n",
       "1    0.959013"
      ]
     },
     "execution_count": 16,
     "metadata": {},
     "output_type": "execute_result"
    }
   ],
   "source": [
    " opt_RF_reg_results_df"
   ]
  },
  {
   "cell_type": "code",
   "execution_count": 29,
   "metadata": {},
   "outputs": [
    {
     "name": "stdout",
     "output_type": "stream",
     "text": [
      "Fitting 3 folds for each of 100 candidates, totalling 300 fits\n"
     ]
    },
    {
     "data": {
      "text/plain": [
       "RandomizedSearchCV(cv=3, estimator=RandomForestRegressor(), n_iter=100,\n",
       "                   n_jobs=-1,\n",
       "                   param_distributions={'max_depth': [10, 20, 30, 40, 50, None],\n",
       "                                        'max_features': ['auto', 'sqrt',\n",
       "                                                         'log2'],\n",
       "                                        'min_samples_leaf': [1, 2, 5, 10, 15],\n",
       "                                        'min_samples_split': [2, 5, 10, 15, 20],\n",
       "                                        'n_estimators': [500, 800, 1500, 2500,\n",
       "                                                         5000]},\n",
       "                   random_state=46, scoring='neg_mean_squared_error',\n",
       "                   verbose=2)"
      ]
     },
     "execution_count": 29,
     "metadata": {},
     "output_type": "execute_result"
    }
   ],
   "source": [
    "# Try a new random grid search using different parameter values\n",
    "# https://medium.com/@ODSC/optimizing-hyperparameters-for-random-forest-algorithms-in-scikit-learn-d60b7aa07ead\n",
    "\n",
    "from sklearn.model_selection import RandomizedSearchCV\n",
    "\n",
    "n_estimators = [500, 800, 1500, 2500, 5000]\n",
    "max_features = ['auto', 'sqrt', 'log2']\n",
    "max_depth = [10, 20, 30, 40, 50]\n",
    "max_depth.append(None)\n",
    "min_samples_split = [2, 5, 10, 15, 20]\n",
    "min_samples_leaf = [1, 2, 5, 10, 15]\n",
    "\n",
    "random_grid2 = {'n_estimators': n_estimators,\n",
    "               'max_features': max_features,\n",
    "               'max_depth': max_depth,\n",
    "               'min_samples_split': min_samples_split,\n",
    "               'min_samples_leaf': min_samples_leaf}\n",
    "\n",
    "\n",
    "rf_random2 = RandomizedSearchCV(estimator = RF_reg, param_distributions = random_grid2, n_iter = 100, scoring='neg_mean_squared_error', \n",
    "                                cv = 3, verbose=2, random_state=46, n_jobs = -1)\n",
    "\n",
    "rf_random2.fit(X, y)"
   ]
  },
  {
   "cell_type": "code",
   "execution_count": 30,
   "metadata": {},
   "outputs": [
    {
     "data": {
      "text/plain": [
       "{'n_estimators': 1500,\n",
       " 'min_samples_split': 2,\n",
       " 'min_samples_leaf': 1,\n",
       " 'max_features': 'auto',\n",
       " 'max_depth': 40}"
      ]
     },
     "execution_count": 30,
     "metadata": {},
     "output_type": "execute_result"
    }
   ],
   "source": [
    "rf_random2.best_params_"
   ]
  },
  {
   "cell_type": "code",
   "execution_count": 31,
   "metadata": {},
   "outputs": [
    {
     "data": {
      "text/plain": [
       "-453.02797610149906"
      ]
     },
     "execution_count": 31,
     "metadata": {},
     "output_type": "execute_result"
    }
   ],
   "source": [
    "rf_random2.best_score_"
   ]
  },
  {
   "cell_type": "code",
   "execution_count": 32,
   "metadata": {},
   "outputs": [],
   "source": [
    "# try the optimized paramenters in a random forest model\n",
    "opt2_RF_reg = RandomForestRegressor(n_estimators=1500, min_samples_split=2, min_samples_leaf=1, max_features='auto',\n",
    " max_depth=40, bootstrap=True)"
   ]
  },
  {
   "cell_type": "code",
   "execution_count": 33,
   "metadata": {},
   "outputs": [
    {
     "name": "stdout",
     "output_type": "stream",
     "text": [
      "running opt2_RF_reg\n"
     ]
    }
   ],
   "source": [
    "opt2_RF_reg_results_df = model_testing(X, y, [opt2_RF_reg], [\"opt2_RF_reg\"])"
   ]
  },
  {
   "cell_type": "code",
   "execution_count": 48,
   "metadata": {},
   "outputs": [
    {
     "data": {
      "text/html": [
       "<div>\n",
       "<style scoped>\n",
       "    .dataframe tbody tr th:only-of-type {\n",
       "        vertical-align: middle;\n",
       "    }\n",
       "\n",
       "    .dataframe tbody tr th {\n",
       "        vertical-align: top;\n",
       "    }\n",
       "\n",
       "    .dataframe thead th {\n",
       "        text-align: right;\n",
       "    }\n",
       "</style>\n",
       "<table border=\"1\" class=\"dataframe\">\n",
       "  <thead>\n",
       "    <tr style=\"text-align: right;\">\n",
       "      <th></th>\n",
       "      <th>opt2_RF_reg</th>\n",
       "    </tr>\n",
       "  </thead>\n",
       "  <tbody>\n",
       "    <tr>\n",
       "      <th>0</th>\n",
       "      <td>22.372198</td>\n",
       "    </tr>\n",
       "    <tr>\n",
       "      <th>1</th>\n",
       "      <td>1.799463</td>\n",
       "    </tr>\n",
       "  </tbody>\n",
       "</table>\n",
       "</div>"
      ],
      "text/plain": [
       "   opt2_RF_reg\n",
       "0    22.372198\n",
       "1     1.799463"
      ]
     },
     "execution_count": 48,
     "metadata": {},
     "output_type": "execute_result"
    }
   ],
   "source": [
    "opt2_RF_reg_results_df"
   ]
  },
  {
   "cell_type": "code",
   "execution_count": 34,
   "metadata": {},
   "outputs": [
    {
     "name": "stdout",
     "output_type": "stream",
     "text": [
      "Fitting 3 folds for each of 63 candidates, totalling 189 fits\n",
      "[CV 1/3] END max_depth=30, max_features=auto, min_samples_leaf=1, min_samples_split=2, n_estimators=1400; total time= 1.7min\n",
      "[CV 2/3] END max_depth=30, max_features=auto, min_samples_leaf=1, min_samples_split=2, n_estimators=1400; total time= 1.6min\n",
      "[CV 3/3] END max_depth=30, max_features=auto, min_samples_leaf=1, min_samples_split=2, n_estimators=1400; total time= 1.6min\n",
      "[CV 1/3] END max_depth=30, max_features=auto, min_samples_leaf=1, min_samples_split=2, n_estimators=1500; total time= 1.7min\n",
      "[CV 2/3] END max_depth=30, max_features=auto, min_samples_leaf=1, min_samples_split=2, n_estimators=1500; total time= 1.8min\n",
      "[CV 3/3] END max_depth=30, max_features=auto, min_samples_leaf=1, min_samples_split=2, n_estimators=1500; total time= 1.8min\n",
      "[CV 1/3] END max_depth=30, max_features=auto, min_samples_leaf=1, min_samples_split=2, n_estimators=1600; total time= 1.9min\n",
      "[CV 2/3] END max_depth=30, max_features=auto, min_samples_leaf=1, min_samples_split=2, n_estimators=1600; total time= 1.8min\n",
      "[CV 3/3] END max_depth=30, max_features=auto, min_samples_leaf=1, min_samples_split=2, n_estimators=1600; total time= 1.8min\n",
      "[CV 1/3] END max_depth=30, max_features=auto, min_samples_leaf=1, min_samples_split=2, n_estimators=1700; total time= 1.9min\n",
      "[CV 2/3] END max_depth=30, max_features=auto, min_samples_leaf=1, min_samples_split=2, n_estimators=1700; total time= 2.0min\n",
      "[CV 3/3] END max_depth=30, max_features=auto, min_samples_leaf=1, min_samples_split=2, n_estimators=1700; total time= 1.9min\n",
      "[CV 1/3] END max_depth=30, max_features=auto, min_samples_leaf=1, min_samples_split=2, n_estimators=1800; total time= 2.1min\n",
      "[CV 2/3] END max_depth=30, max_features=auto, min_samples_leaf=1, min_samples_split=2, n_estimators=1800; total time=46.6min\n",
      "[CV 3/3] END max_depth=30, max_features=auto, min_samples_leaf=1, min_samples_split=2, n_estimators=1800; total time=28.5min\n",
      "[CV 1/3] END max_depth=30, max_features=auto, min_samples_leaf=1, min_samples_split=2, n_estimators=1900; total time=11.9min\n",
      "[CV 2/3] END max_depth=30, max_features=auto, min_samples_leaf=1, min_samples_split=2, n_estimators=1900; total time= 2.3min\n",
      "[CV 3/3] END max_depth=30, max_features=auto, min_samples_leaf=1, min_samples_split=2, n_estimators=1900; total time= 2.2min\n",
      "[CV 1/3] END max_depth=30, max_features=auto, min_samples_leaf=1, min_samples_split=2, n_estimators=2000; total time= 2.4min\n",
      "[CV 2/3] END max_depth=30, max_features=auto, min_samples_leaf=1, min_samples_split=2, n_estimators=2000; total time= 2.3min\n",
      "[CV 3/3] END max_depth=30, max_features=auto, min_samples_leaf=1, min_samples_split=2, n_estimators=2000; total time= 2.4min\n",
      "[CV 1/3] END max_depth=30, max_features=auto, min_samples_leaf=1, min_samples_split=2, n_estimators=2100; total time= 2.5min\n",
      "[CV 2/3] END max_depth=30, max_features=auto, min_samples_leaf=1, min_samples_split=2, n_estimators=2100; total time= 2.6min\n",
      "[CV 3/3] END max_depth=30, max_features=auto, min_samples_leaf=1, min_samples_split=2, n_estimators=2100; total time= 2.5min\n",
      "[CV 1/3] END max_depth=30, max_features=auto, min_samples_leaf=1, min_samples_split=2, n_estimators=2200; total time= 2.7min\n",
      "[CV 2/3] END max_depth=30, max_features=auto, min_samples_leaf=1, min_samples_split=2, n_estimators=2200; total time= 2.6min\n",
      "[CV 3/3] END max_depth=30, max_features=auto, min_samples_leaf=1, min_samples_split=2, n_estimators=2200; total time= 2.5min\n",
      "[CV 1/3] END max_depth=40, max_features=auto, min_samples_leaf=1, min_samples_split=2, n_estimators=1400; total time= 1.6min\n",
      "[CV 2/3] END max_depth=40, max_features=auto, min_samples_leaf=1, min_samples_split=2, n_estimators=1400; total time= 1.7min\n",
      "[CV 3/3] END max_depth=40, max_features=auto, min_samples_leaf=1, min_samples_split=2, n_estimators=1400; total time= 1.6min\n",
      "[CV 1/3] END max_depth=40, max_features=auto, min_samples_leaf=1, min_samples_split=2, n_estimators=1500; total time= 1.7min\n",
      "[CV 2/3] END max_depth=40, max_features=auto, min_samples_leaf=1, min_samples_split=2, n_estimators=1500; total time= 1.7min\n",
      "[CV 3/3] END max_depth=40, max_features=auto, min_samples_leaf=1, min_samples_split=2, n_estimators=1500; total time= 1.7min\n",
      "[CV 1/3] END max_depth=40, max_features=auto, min_samples_leaf=1, min_samples_split=2, n_estimators=1600; total time= 1.8min\n",
      "[CV 2/3] END max_depth=40, max_features=auto, min_samples_leaf=1, min_samples_split=2, n_estimators=1600; total time= 1.8min\n",
      "[CV 3/3] END max_depth=40, max_features=auto, min_samples_leaf=1, min_samples_split=2, n_estimators=1600; total time= 1.9min\n",
      "[CV 1/3] END max_depth=40, max_features=auto, min_samples_leaf=1, min_samples_split=2, n_estimators=1700; total time= 2.0min\n",
      "[CV 2/3] END max_depth=40, max_features=auto, min_samples_leaf=1, min_samples_split=2, n_estimators=1700; total time= 2.0min\n",
      "[CV 3/3] END max_depth=40, max_features=auto, min_samples_leaf=1, min_samples_split=2, n_estimators=1700; total time= 1.9min\n",
      "[CV 1/3] END max_depth=40, max_features=auto, min_samples_leaf=1, min_samples_split=2, n_estimators=1800; total time= 2.0min\n",
      "[CV 2/3] END max_depth=40, max_features=auto, min_samples_leaf=1, min_samples_split=2, n_estimators=1800; total time= 2.1min\n",
      "[CV 3/3] END max_depth=40, max_features=auto, min_samples_leaf=1, min_samples_split=2, n_estimators=1800; total time= 2.1min\n",
      "[CV 1/3] END max_depth=40, max_features=auto, min_samples_leaf=1, min_samples_split=2, n_estimators=1900; total time= 2.1min\n",
      "[CV 2/3] END max_depth=40, max_features=auto, min_samples_leaf=1, min_samples_split=2, n_estimators=1900; total time= 2.2min\n",
      "[CV 3/3] END max_depth=40, max_features=auto, min_samples_leaf=1, min_samples_split=2, n_estimators=1900; total time= 2.2min\n",
      "[CV 1/3] END max_depth=40, max_features=auto, min_samples_leaf=1, min_samples_split=2, n_estimators=2000; total time= 2.3min\n",
      "[CV 2/3] END max_depth=40, max_features=auto, min_samples_leaf=1, min_samples_split=2, n_estimators=2000; total time= 2.3min\n",
      "[CV 3/3] END max_depth=40, max_features=auto, min_samples_leaf=1, min_samples_split=2, n_estimators=2000; total time= 2.3min\n",
      "[CV 1/3] END max_depth=40, max_features=auto, min_samples_leaf=1, min_samples_split=2, n_estimators=2100; total time= 2.4min\n",
      "[CV 2/3] END max_depth=40, max_features=auto, min_samples_leaf=1, min_samples_split=2, n_estimators=2100; total time= 2.4min\n",
      "[CV 3/3] END max_depth=40, max_features=auto, min_samples_leaf=1, min_samples_split=2, n_estimators=2100; total time= 2.5min\n",
      "[CV 1/3] END max_depth=40, max_features=auto, min_samples_leaf=1, min_samples_split=2, n_estimators=2200; total time= 2.6min\n",
      "[CV 2/3] END max_depth=40, max_features=auto, min_samples_leaf=1, min_samples_split=2, n_estimators=2200; total time= 2.6min\n",
      "[CV 3/3] END max_depth=40, max_features=auto, min_samples_leaf=1, min_samples_split=2, n_estimators=2200; total time= 2.6min\n",
      "[CV 1/3] END max_depth=50, max_features=auto, min_samples_leaf=1, min_samples_split=2, n_estimators=1400; total time= 1.6min\n",
      "[CV 2/3] END max_depth=50, max_features=auto, min_samples_leaf=1, min_samples_split=2, n_estimators=1400; total time= 1.6min\n",
      "[CV 3/3] END max_depth=50, max_features=auto, min_samples_leaf=1, min_samples_split=2, n_estimators=1400; total time= 1.6min\n",
      "[CV 1/3] END max_depth=50, max_features=auto, min_samples_leaf=1, min_samples_split=2, n_estimators=1500; total time= 1.7min\n",
      "[CV 2/3] END max_depth=50, max_features=auto, min_samples_leaf=1, min_samples_split=2, n_estimators=1500; total time= 1.7min\n",
      "[CV 3/3] END max_depth=50, max_features=auto, min_samples_leaf=1, min_samples_split=2, n_estimators=1500; total time= 1.7min\n",
      "[CV 1/3] END max_depth=50, max_features=auto, min_samples_leaf=1, min_samples_split=2, n_estimators=1600; total time= 1.8min\n",
      "[CV 2/3] END max_depth=50, max_features=auto, min_samples_leaf=1, min_samples_split=2, n_estimators=1600; total time= 1.8min\n",
      "[CV 3/3] END max_depth=50, max_features=auto, min_samples_leaf=1, min_samples_split=2, n_estimators=1600; total time= 1.8min\n",
      "[CV 1/3] END max_depth=50, max_features=auto, min_samples_leaf=1, min_samples_split=2, n_estimators=1700; total time= 1.9min\n",
      "[CV 2/3] END max_depth=50, max_features=auto, min_samples_leaf=1, min_samples_split=2, n_estimators=1700; total time= 1.9min\n",
      "[CV 3/3] END max_depth=50, max_features=auto, min_samples_leaf=1, min_samples_split=2, n_estimators=1700; total time= 1.9min\n"
     ]
    },
    {
     "name": "stdout",
     "output_type": "stream",
     "text": [
      "[CV 1/3] END max_depth=50, max_features=auto, min_samples_leaf=1, min_samples_split=2, n_estimators=1800; total time= 2.0min\n",
      "[CV 2/3] END max_depth=50, max_features=auto, min_samples_leaf=1, min_samples_split=2, n_estimators=1800; total time= 2.0min\n",
      "[CV 3/3] END max_depth=50, max_features=auto, min_samples_leaf=1, min_samples_split=2, n_estimators=1800; total time= 2.0min\n",
      "[CV 1/3] END max_depth=50, max_features=auto, min_samples_leaf=1, min_samples_split=2, n_estimators=1900; total time= 2.1min\n",
      "[CV 2/3] END max_depth=50, max_features=auto, min_samples_leaf=1, min_samples_split=2, n_estimators=1900; total time= 2.2min\n",
      "[CV 3/3] END max_depth=50, max_features=auto, min_samples_leaf=1, min_samples_split=2, n_estimators=1900; total time= 2.2min\n",
      "[CV 1/3] END max_depth=50, max_features=auto, min_samples_leaf=1, min_samples_split=2, n_estimators=2000; total time= 2.3min\n",
      "[CV 2/3] END max_depth=50, max_features=auto, min_samples_leaf=1, min_samples_split=2, n_estimators=2000; total time= 2.3min\n",
      "[CV 3/3] END max_depth=50, max_features=auto, min_samples_leaf=1, min_samples_split=2, n_estimators=2000; total time= 2.3min\n",
      "[CV 1/3] END max_depth=50, max_features=auto, min_samples_leaf=1, min_samples_split=2, n_estimators=2100; total time= 2.4min\n",
      "[CV 2/3] END max_depth=50, max_features=auto, min_samples_leaf=1, min_samples_split=2, n_estimators=2100; total time= 2.4min\n",
      "[CV 3/3] END max_depth=50, max_features=auto, min_samples_leaf=1, min_samples_split=2, n_estimators=2100; total time= 2.4min\n",
      "[CV 1/3] END max_depth=50, max_features=auto, min_samples_leaf=1, min_samples_split=2, n_estimators=2200; total time= 2.5min\n",
      "[CV 2/3] END max_depth=50, max_features=auto, min_samples_leaf=1, min_samples_split=2, n_estimators=2200; total time= 2.6min\n",
      "[CV 3/3] END max_depth=50, max_features=auto, min_samples_leaf=1, min_samples_split=2, n_estimators=2200; total time= 2.6min\n",
      "[CV 1/3] END max_depth=60, max_features=auto, min_samples_leaf=1, min_samples_split=2, n_estimators=1400; total time= 1.6min\n",
      "[CV 2/3] END max_depth=60, max_features=auto, min_samples_leaf=1, min_samples_split=2, n_estimators=1400; total time= 1.6min\n",
      "[CV 3/3] END max_depth=60, max_features=auto, min_samples_leaf=1, min_samples_split=2, n_estimators=1400; total time= 1.7min\n",
      "[CV 1/3] END max_depth=60, max_features=auto, min_samples_leaf=1, min_samples_split=2, n_estimators=1500; total time= 1.8min\n",
      "[CV 2/3] END max_depth=60, max_features=auto, min_samples_leaf=1, min_samples_split=2, n_estimators=1500; total time= 1.8min\n",
      "[CV 3/3] END max_depth=60, max_features=auto, min_samples_leaf=1, min_samples_split=2, n_estimators=1500; total time= 1.8min\n",
      "[CV 1/3] END max_depth=60, max_features=auto, min_samples_leaf=1, min_samples_split=2, n_estimators=1600; total time= 1.9min\n",
      "[CV 2/3] END max_depth=60, max_features=auto, min_samples_leaf=1, min_samples_split=2, n_estimators=1600; total time= 1.9min\n",
      "[CV 3/3] END max_depth=60, max_features=auto, min_samples_leaf=1, min_samples_split=2, n_estimators=1600; total time= 1.9min\n",
      "[CV 1/3] END max_depth=60, max_features=auto, min_samples_leaf=1, min_samples_split=2, n_estimators=1700; total time= 2.0min\n",
      "[CV 2/3] END max_depth=60, max_features=auto, min_samples_leaf=1, min_samples_split=2, n_estimators=1700; total time= 2.0min\n",
      "[CV 3/3] END max_depth=60, max_features=auto, min_samples_leaf=1, min_samples_split=2, n_estimators=1700; total time= 2.0min\n",
      "[CV 1/3] END max_depth=60, max_features=auto, min_samples_leaf=1, min_samples_split=2, n_estimators=1800; total time= 2.1min\n",
      "[CV 2/3] END max_depth=60, max_features=auto, min_samples_leaf=1, min_samples_split=2, n_estimators=1800; total time= 2.1min\n",
      "[CV 3/3] END max_depth=60, max_features=auto, min_samples_leaf=1, min_samples_split=2, n_estimators=1800; total time= 2.1min\n",
      "[CV 1/3] END max_depth=60, max_features=auto, min_samples_leaf=1, min_samples_split=2, n_estimators=1900; total time= 2.2min\n",
      "[CV 2/3] END max_depth=60, max_features=auto, min_samples_leaf=1, min_samples_split=2, n_estimators=1900; total time= 2.2min\n",
      "[CV 3/3] END max_depth=60, max_features=auto, min_samples_leaf=1, min_samples_split=2, n_estimators=1900; total time= 2.2min\n",
      "[CV 1/3] END max_depth=60, max_features=auto, min_samples_leaf=1, min_samples_split=2, n_estimators=2000; total time= 2.3min\n",
      "[CV 2/3] END max_depth=60, max_features=auto, min_samples_leaf=1, min_samples_split=2, n_estimators=2000; total time= 2.3min\n",
      "[CV 3/3] END max_depth=60, max_features=auto, min_samples_leaf=1, min_samples_split=2, n_estimators=2000; total time= 2.3min\n",
      "[CV 1/3] END max_depth=60, max_features=auto, min_samples_leaf=1, min_samples_split=2, n_estimators=2100; total time= 2.4min\n",
      "[CV 2/3] END max_depth=60, max_features=auto, min_samples_leaf=1, min_samples_split=2, n_estimators=2100; total time= 2.4min\n",
      "[CV 3/3] END max_depth=60, max_features=auto, min_samples_leaf=1, min_samples_split=2, n_estimators=2100; total time= 2.5min\n",
      "[CV 1/3] END max_depth=60, max_features=auto, min_samples_leaf=1, min_samples_split=2, n_estimators=2200; total time= 2.6min\n",
      "[CV 2/3] END max_depth=60, max_features=auto, min_samples_leaf=1, min_samples_split=2, n_estimators=2200; total time= 2.6min\n",
      "[CV 3/3] END max_depth=60, max_features=auto, min_samples_leaf=1, min_samples_split=2, n_estimators=2200; total time= 2.5min\n",
      "[CV 1/3] END max_depth=70, max_features=auto, min_samples_leaf=1, min_samples_split=2, n_estimators=1400; total time= 1.6min\n",
      "[CV 2/3] END max_depth=70, max_features=auto, min_samples_leaf=1, min_samples_split=2, n_estimators=1400; total time= 1.6min\n",
      "[CV 3/3] END max_depth=70, max_features=auto, min_samples_leaf=1, min_samples_split=2, n_estimators=1400; total time= 1.6min\n",
      "[CV 1/3] END max_depth=70, max_features=auto, min_samples_leaf=1, min_samples_split=2, n_estimators=1500; total time= 1.7min\n",
      "[CV 2/3] END max_depth=70, max_features=auto, min_samples_leaf=1, min_samples_split=2, n_estimators=1500; total time= 1.7min\n",
      "[CV 3/3] END max_depth=70, max_features=auto, min_samples_leaf=1, min_samples_split=2, n_estimators=1500; total time= 1.7min\n",
      "[CV 1/3] END max_depth=70, max_features=auto, min_samples_leaf=1, min_samples_split=2, n_estimators=1600; total time= 1.8min\n",
      "[CV 2/3] END max_depth=70, max_features=auto, min_samples_leaf=1, min_samples_split=2, n_estimators=1600; total time= 1.8min\n",
      "[CV 3/3] END max_depth=70, max_features=auto, min_samples_leaf=1, min_samples_split=2, n_estimators=1600; total time= 1.9min\n",
      "[CV 1/3] END max_depth=70, max_features=auto, min_samples_leaf=1, min_samples_split=2, n_estimators=1700; total time= 1.9min\n",
      "[CV 2/3] END max_depth=70, max_features=auto, min_samples_leaf=1, min_samples_split=2, n_estimators=1700; total time= 2.0min\n",
      "[CV 3/3] END max_depth=70, max_features=auto, min_samples_leaf=1, min_samples_split=2, n_estimators=1700; total time= 1.9min\n",
      "[CV 1/3] END max_depth=70, max_features=auto, min_samples_leaf=1, min_samples_split=2, n_estimators=1800; total time= 2.0min\n",
      "[CV 2/3] END max_depth=70, max_features=auto, min_samples_leaf=1, min_samples_split=2, n_estimators=1800; total time= 2.0min\n",
      "[CV 3/3] END max_depth=70, max_features=auto, min_samples_leaf=1, min_samples_split=2, n_estimators=1800; total time= 2.0min\n",
      "[CV 1/3] END max_depth=70, max_features=auto, min_samples_leaf=1, min_samples_split=2, n_estimators=1900; total time= 2.1min\n",
      "[CV 2/3] END max_depth=70, max_features=auto, min_samples_leaf=1, min_samples_split=2, n_estimators=1900; total time= 2.1min\n",
      "[CV 3/3] END max_depth=70, max_features=auto, min_samples_leaf=1, min_samples_split=2, n_estimators=1900; total time= 2.2min\n",
      "[CV 1/3] END max_depth=70, max_features=auto, min_samples_leaf=1, min_samples_split=2, n_estimators=2000; total time= 2.2min\n",
      "[CV 2/3] END max_depth=70, max_features=auto, min_samples_leaf=1, min_samples_split=2, n_estimators=2000; total time= 2.3min\n",
      "[CV 3/3] END max_depth=70, max_features=auto, min_samples_leaf=1, min_samples_split=2, n_estimators=2000; total time= 2.3min\n",
      "[CV 1/3] END max_depth=70, max_features=auto, min_samples_leaf=1, min_samples_split=2, n_estimators=2100; total time= 2.3min\n",
      "[CV 2/3] END max_depth=70, max_features=auto, min_samples_leaf=1, min_samples_split=2, n_estimators=2100; total time= 2.4min\n",
      "[CV 3/3] END max_depth=70, max_features=auto, min_samples_leaf=1, min_samples_split=2, n_estimators=2100; total time= 2.4min\n"
     ]
    },
    {
     "name": "stdout",
     "output_type": "stream",
     "text": [
      "[CV 1/3] END max_depth=70, max_features=auto, min_samples_leaf=1, min_samples_split=2, n_estimators=2200; total time= 2.5min\n",
      "[CV 2/3] END max_depth=70, max_features=auto, min_samples_leaf=1, min_samples_split=2, n_estimators=2200; total time= 2.5min\n",
      "[CV 3/3] END max_depth=70, max_features=auto, min_samples_leaf=1, min_samples_split=2, n_estimators=2200; total time= 2.5min\n",
      "[CV 1/3] END max_depth=80, max_features=auto, min_samples_leaf=1, min_samples_split=2, n_estimators=1400; total time= 1.6min\n",
      "[CV 2/3] END max_depth=80, max_features=auto, min_samples_leaf=1, min_samples_split=2, n_estimators=1400; total time= 1.6min\n",
      "[CV 3/3] END max_depth=80, max_features=auto, min_samples_leaf=1, min_samples_split=2, n_estimators=1400; total time= 1.6min\n",
      "[CV 1/3] END max_depth=80, max_features=auto, min_samples_leaf=1, min_samples_split=2, n_estimators=1500; total time= 1.7min\n",
      "[CV 2/3] END max_depth=80, max_features=auto, min_samples_leaf=1, min_samples_split=2, n_estimators=1500; total time= 1.7min\n",
      "[CV 3/3] END max_depth=80, max_features=auto, min_samples_leaf=1, min_samples_split=2, n_estimators=1500; total time= 1.7min\n",
      "[CV 1/3] END max_depth=80, max_features=auto, min_samples_leaf=1, min_samples_split=2, n_estimators=1600; total time= 1.8min\n",
      "[CV 2/3] END max_depth=80, max_features=auto, min_samples_leaf=1, min_samples_split=2, n_estimators=1600; total time= 1.9min\n",
      "[CV 3/3] END max_depth=80, max_features=auto, min_samples_leaf=1, min_samples_split=2, n_estimators=1600; total time= 1.8min\n",
      "[CV 1/3] END max_depth=80, max_features=auto, min_samples_leaf=1, min_samples_split=2, n_estimators=1700; total time= 1.9min\n",
      "[CV 2/3] END max_depth=80, max_features=auto, min_samples_leaf=1, min_samples_split=2, n_estimators=1700; total time= 1.9min\n",
      "[CV 3/3] END max_depth=80, max_features=auto, min_samples_leaf=1, min_samples_split=2, n_estimators=1700; total time= 2.0min\n",
      "[CV 1/3] END max_depth=80, max_features=auto, min_samples_leaf=1, min_samples_split=2, n_estimators=1800; total time= 2.1min\n",
      "[CV 2/3] END max_depth=80, max_features=auto, min_samples_leaf=1, min_samples_split=2, n_estimators=1800; total time= 2.0min\n",
      "[CV 3/3] END max_depth=80, max_features=auto, min_samples_leaf=1, min_samples_split=2, n_estimators=1800; total time= 2.0min\n",
      "[CV 1/3] END max_depth=80, max_features=auto, min_samples_leaf=1, min_samples_split=2, n_estimators=1900; total time= 2.1min\n",
      "[CV 2/3] END max_depth=80, max_features=auto, min_samples_leaf=1, min_samples_split=2, n_estimators=1900; total time= 2.2min\n",
      "[CV 3/3] END max_depth=80, max_features=auto, min_samples_leaf=1, min_samples_split=2, n_estimators=1900; total time= 2.2min\n",
      "[CV 1/3] END max_depth=80, max_features=auto, min_samples_leaf=1, min_samples_split=2, n_estimators=2000; total time= 2.3min\n",
      "[CV 2/3] END max_depth=80, max_features=auto, min_samples_leaf=1, min_samples_split=2, n_estimators=2000; total time= 2.3min\n",
      "[CV 3/3] END max_depth=80, max_features=auto, min_samples_leaf=1, min_samples_split=2, n_estimators=2000; total time= 2.3min\n",
      "[CV 1/3] END max_depth=80, max_features=auto, min_samples_leaf=1, min_samples_split=2, n_estimators=2100; total time= 2.4min\n",
      "[CV 2/3] END max_depth=80, max_features=auto, min_samples_leaf=1, min_samples_split=2, n_estimators=2100; total time= 2.5min\n",
      "[CV 3/3] END max_depth=80, max_features=auto, min_samples_leaf=1, min_samples_split=2, n_estimators=2100; total time= 2.5min\n",
      "[CV 1/3] END max_depth=80, max_features=auto, min_samples_leaf=1, min_samples_split=2, n_estimators=2200; total time= 2.6min\n",
      "[CV 2/3] END max_depth=80, max_features=auto, min_samples_leaf=1, min_samples_split=2, n_estimators=2200; total time= 2.5min\n",
      "[CV 3/3] END max_depth=80, max_features=auto, min_samples_leaf=1, min_samples_split=2, n_estimators=2200; total time= 2.5min\n",
      "[CV 1/3] END max_depth=None, max_features=auto, min_samples_leaf=1, min_samples_split=2, n_estimators=1400; total time= 1.6min\n",
      "[CV 2/3] END max_depth=None, max_features=auto, min_samples_leaf=1, min_samples_split=2, n_estimators=1400; total time= 1.7min\n",
      "[CV 3/3] END max_depth=None, max_features=auto, min_samples_leaf=1, min_samples_split=2, n_estimators=1400; total time= 1.6min\n",
      "[CV 1/3] END max_depth=None, max_features=auto, min_samples_leaf=1, min_samples_split=2, n_estimators=1500; total time= 1.7min\n",
      "[CV 2/3] END max_depth=None, max_features=auto, min_samples_leaf=1, min_samples_split=2, n_estimators=1500; total time= 1.7min\n",
      "[CV 3/3] END max_depth=None, max_features=auto, min_samples_leaf=1, min_samples_split=2, n_estimators=1500; total time= 1.7min\n",
      "[CV 1/3] END max_depth=None, max_features=auto, min_samples_leaf=1, min_samples_split=2, n_estimators=1600; total time= 1.8min\n",
      "[CV 2/3] END max_depth=None, max_features=auto, min_samples_leaf=1, min_samples_split=2, n_estimators=1600; total time= 1.8min\n",
      "[CV 3/3] END max_depth=None, max_features=auto, min_samples_leaf=1, min_samples_split=2, n_estimators=1600; total time= 1.8min\n",
      "[CV 1/3] END max_depth=None, max_features=auto, min_samples_leaf=1, min_samples_split=2, n_estimators=1700; total time= 1.9min\n",
      "[CV 2/3] END max_depth=None, max_features=auto, min_samples_leaf=1, min_samples_split=2, n_estimators=1700; total time= 1.9min\n",
      "[CV 3/3] END max_depth=None, max_features=auto, min_samples_leaf=1, min_samples_split=2, n_estimators=1700; total time= 1.9min\n",
      "[CV 1/3] END max_depth=None, max_features=auto, min_samples_leaf=1, min_samples_split=2, n_estimators=1800; total time= 2.0min\n",
      "[CV 2/3] END max_depth=None, max_features=auto, min_samples_leaf=1, min_samples_split=2, n_estimators=1800; total time= 2.2min\n",
      "[CV 3/3] END max_depth=None, max_features=auto, min_samples_leaf=1, min_samples_split=2, n_estimators=1800; total time= 2.1min\n",
      "[CV 1/3] END max_depth=None, max_features=auto, min_samples_leaf=1, min_samples_split=2, n_estimators=1900; total time= 2.2min\n",
      "[CV 2/3] END max_depth=None, max_features=auto, min_samples_leaf=1, min_samples_split=2, n_estimators=1900; total time= 2.2min\n",
      "[CV 3/3] END max_depth=None, max_features=auto, min_samples_leaf=1, min_samples_split=2, n_estimators=1900; total time= 2.2min\n",
      "[CV 1/3] END max_depth=None, max_features=auto, min_samples_leaf=1, min_samples_split=2, n_estimators=2000; total time= 2.2min\n",
      "[CV 2/3] END max_depth=None, max_features=auto, min_samples_leaf=1, min_samples_split=2, n_estimators=2000; total time= 2.2min\n",
      "[CV 3/3] END max_depth=None, max_features=auto, min_samples_leaf=1, min_samples_split=2, n_estimators=2000; total time= 2.3min\n",
      "[CV 1/3] END max_depth=None, max_features=auto, min_samples_leaf=1, min_samples_split=2, n_estimators=2100; total time= 2.4min\n",
      "[CV 2/3] END max_depth=None, max_features=auto, min_samples_leaf=1, min_samples_split=2, n_estimators=2100; total time= 2.3min\n",
      "[CV 3/3] END max_depth=None, max_features=auto, min_samples_leaf=1, min_samples_split=2, n_estimators=2100; total time= 2.4min\n",
      "[CV 1/3] END max_depth=None, max_features=auto, min_samples_leaf=1, min_samples_split=2, n_estimators=2200; total time= 2.5min\n",
      "[CV 2/3] END max_depth=None, max_features=auto, min_samples_leaf=1, min_samples_split=2, n_estimators=2200; total time= 2.5min\n",
      "[CV 3/3] END max_depth=None, max_features=auto, min_samples_leaf=1, min_samples_split=2, n_estimators=2200; total time= 2.5min\n"
     ]
    }
   ],
   "source": [
    "# given the parameters identified in the two random grid searches above, target a better defined range of paramenters\n",
    "# in the following grid search \n",
    "n_estimators = [1400, 1500, 1600, 1700, 1800, 1900, 2000, 2100, 2200]\n",
    "max_features = ['auto']\n",
    "max_depth = [30, 40, 50, 60, 70, 80]\n",
    "max_depth.append(None)\n",
    "min_samples_split = [2]\n",
    "min_samples_leaf = [1]\n",
    "\n",
    "target_grid = {'n_estimators': n_estimators,\n",
    "               'max_features': max_features,\n",
    "               'max_depth': max_depth,\n",
    "               'min_samples_split': min_samples_split,\n",
    "               'min_samples_leaf': min_samples_leaf}\n",
    "\n",
    "from sklearn.model_selection import GridSearchCV\n",
    "\n",
    "\n",
    "search = GridSearchCV(RF_reg, target_grid, scoring='neg_mean_squared_error', cv=3, verbose=3)\n",
    "results = search.fit(X, y)"
   ]
  },
  {
   "cell_type": "code",
   "execution_count": 35,
   "metadata": {},
   "outputs": [
    {
     "data": {
      "text/plain": [
       "{'max_depth': None,\n",
       " 'max_features': 'auto',\n",
       " 'min_samples_leaf': 1,\n",
       " 'min_samples_split': 2,\n",
       " 'n_estimators': 1400}"
      ]
     },
     "execution_count": 35,
     "metadata": {},
     "output_type": "execute_result"
    }
   ],
   "source": [
    "results.best_params_"
   ]
  },
  {
   "cell_type": "code",
   "execution_count": 36,
   "metadata": {},
   "outputs": [
    {
     "data": {
      "text/plain": [
       "-452.1459180728727"
      ]
     },
     "execution_count": 36,
     "metadata": {},
     "output_type": "execute_result"
    }
   ],
   "source": [
    "results.best_score_"
   ]
  },
  {
   "cell_type": "code",
   "execution_count": 42,
   "metadata": {},
   "outputs": [],
   "source": [
    "# try the optimized paramenters in a random forest model\n",
    "opt3_RF_reg = RandomForestRegressor(n_estimators=1400, min_samples_split=2, min_samples_leaf=1, max_features='auto',\n",
    "max_depth=None, bootstrap=True)\n",
    "opt3_RF_reg_results_df = model_testing(X, y, [opt3_RF_reg], [\"opt3_RF_reg\"])"
   ]
  },
  {
   "cell_type": "code",
   "execution_count": 40,
   "metadata": {},
   "outputs": [
    {
     "data": {
      "text/html": [
       "<div>\n",
       "<style scoped>\n",
       "    .dataframe tbody tr th:only-of-type {\n",
       "        vertical-align: middle;\n",
       "    }\n",
       "\n",
       "    .dataframe tbody tr th {\n",
       "        vertical-align: top;\n",
       "    }\n",
       "\n",
       "    .dataframe thead th {\n",
       "        text-align: right;\n",
       "    }\n",
       "</style>\n",
       "<table border=\"1\" class=\"dataframe\">\n",
       "  <thead>\n",
       "    <tr style=\"text-align: right;\">\n",
       "      <th></th>\n",
       "      <th>opt3_RF_reg</th>\n",
       "    </tr>\n",
       "  </thead>\n",
       "  <tbody>\n",
       "    <tr>\n",
       "      <th>0</th>\n",
       "      <td>20.811129</td>\n",
       "    </tr>\n",
       "    <tr>\n",
       "      <th>1</th>\n",
       "      <td>0.966050</td>\n",
       "    </tr>\n",
       "  </tbody>\n",
       "</table>\n",
       "</div>"
      ],
      "text/plain": [
       "   opt3_RF_reg\n",
       "0    20.811129\n",
       "1     0.966050"
      ]
     },
     "execution_count": 40,
     "metadata": {},
     "output_type": "execute_result"
    }
   ],
   "source": [
    "opt3_RF_reg_results_df"
   ]
  },
  {
   "cell_type": "markdown",
   "metadata": {},
   "source": [
    "## Results\n",
    "\n",
    "There are a large number of parameters that can be tuned for Random Forest models.  I tried two different random grid searchs and then use the results from those to target a narrow paramenter range for a final grid search.  In the end, the parameters produced by the third grid search produced the best RMSE, 20.81 which is 0.15 better than the starting RMSE of 20.96."
   ]
  },
  {
   "cell_type": "markdown",
   "metadata": {},
   "source": [
    "### Starting RMSE for XGradiant Boost is 21.7\n",
    "Try out HyperOpt, an AutoML tuner\n",
    "\n",
    "https://medium.com/analytics-vidhya/hyperparameter-tuning-hyperopt-bayesian-optimization-for-xgboost-and-neural-network-8aedf278a1c9\n",
    "\n",
    "https://www.kaggle.com/prashant111/a-guide-on-xgboost-hyperparameters-tuning"
   ]
  },
  {
   "cell_type": "code",
   "execution_count": 16,
   "metadata": {},
   "outputs": [],
   "source": [
    "# split the training set into train and validate\n",
    "X_train, X_validate, y_train, y_validate = train_test_split(X, y, test_size=0.3, random_state=46)"
   ]
  },
  {
   "cell_type": "code",
   "execution_count": 45,
   "metadata": {},
   "outputs": [],
   "source": [
    "from hyperopt import STATUS_OK, Trials, fmin, hp, tpe\n",
    "from sklearn.metrics import mean_squared_error"
   ]
  },
  {
   "cell_type": "code",
   "execution_count": 46,
   "metadata": {},
   "outputs": [],
   "source": [
    "# initalize the domain space\n",
    "space={'max_depth': hp.quniform(\"max_depth\", 3, 18, 1),\n",
    "       'gamma': hp.uniform ('gamma', 1, 9),\n",
    "       'reg_alpha' : hp.quniform('reg_alpha', 40, 180, 1),\n",
    "        'reg_lambda' : hp.uniform('reg_lambda', 0, 1),\n",
    "       'colsample_bytree' : hp.uniform('colsample_bytree', 0.5, 1),\n",
    "       'min_child_weight' : hp.quniform('min_child_weight', 0, 10, 1),\n",
    "        'n_estimators': 180,\n",
    "        'seed': 0\n",
    "    }"
   ]
  },
  {
   "cell_type": "code",
   "execution_count": 47,
   "metadata": {},
   "outputs": [],
   "source": [
    "# define the objective function\n",
    "def hyperparameter_tuning(space):\n",
    "    model=XGBRegressor(n_estimators=space['n_estimators'], max_depth=int(space['max_depth']), gamma=space['gamma'],\n",
    "                         reg_alpha=int(space['reg_alpha']), min_child_weight=space['min_child_weight'],\n",
    "                         colsample_bytree=space['colsample_bytree'])\n",
    "    \n",
    "    evaluation = [(X_validate, y_validate)]\n",
    "    \n",
    "    model.fit(X_train, y_train,\n",
    "            eval_set=evaluation, eval_metric=\"rmse\",\n",
    "            early_stopping_rounds=10, verbose=False)\n",
    "\n",
    "    pred = model.predict(X_validate)\n",
    "    mse = mean_squared_error(y_validate, pred)\n",
    "    #print (\"RMSE:\", -np.sqrt(mse))\n",
    "    #change the metric if you like\n",
    "    return {'loss': mse, 'status': STATUS_OK, 'model': model}      "
   ]
  },
  {
   "cell_type": "code",
   "execution_count": 21,
   "metadata": {},
   "outputs": [
    {
     "name": "stdout",
     "output_type": "stream",
     "text": [
      "100%|██████████| 100/100 [04:54<00:00,  2.94s/trial, best loss: 512.2713624483567]\n",
      "{'colsample_bytree': 0.5827053931847027, 'gamma': 3.555026220391066, 'max_depth': 7.0, 'min_child_weight': 2.0, 'reg_alpha': 169.0, 'reg_lambda': 0.5575378677694813}\n"
     ]
    }
   ],
   "source": [
    "# run the hyperparameter tuning trials\n",
    "trials = Trials()\n",
    "\n",
    "best = fmin(fn=hyperparameter_tuning,\n",
    "            space=space,\n",
    "            algo=tpe.suggest,\n",
    "            max_evals=100,\n",
    "            trials=trials)\n",
    "\n",
    "print(best)"
   ]
  },
  {
   "cell_type": "code",
   "execution_count": 47,
   "metadata": {},
   "outputs": [],
   "source": [
    "# try to the optomized parameters in a XGB model\n",
    "opt_XGB_reg = XGBRegressor(colsample_bytree=0.58, gamma=3.56, max_depth=7, min_child_weight=2, reg_alpha=169, reg_lambda=0.56)\n",
    "opt_XGB_reg_df = model_testing(X, y, [opt_XGB_reg], [\"opt_XGB_reg\"])"
   ]
  },
  {
   "cell_type": "code",
   "execution_count": 26,
   "metadata": {},
   "outputs": [
    {
     "data": {
      "text/html": [
       "<div>\n",
       "<style scoped>\n",
       "    .dataframe tbody tr th:only-of-type {\n",
       "        vertical-align: middle;\n",
       "    }\n",
       "\n",
       "    .dataframe tbody tr th {\n",
       "        vertical-align: top;\n",
       "    }\n",
       "\n",
       "    .dataframe thead th {\n",
       "        text-align: right;\n",
       "    }\n",
       "</style>\n",
       "<table border=\"1\" class=\"dataframe\">\n",
       "  <thead>\n",
       "    <tr style=\"text-align: right;\">\n",
       "      <th></th>\n",
       "      <th>opt2_XGB_reg</th>\n",
       "    </tr>\n",
       "  </thead>\n",
       "  <tbody>\n",
       "    <tr>\n",
       "      <th>0</th>\n",
       "      <td>21.448511</td>\n",
       "    </tr>\n",
       "    <tr>\n",
       "      <th>1</th>\n",
       "      <td>0.829982</td>\n",
       "    </tr>\n",
       "  </tbody>\n",
       "</table>\n",
       "</div>"
      ],
      "text/plain": [
       "   opt2_XGB_reg\n",
       "0     21.448511\n",
       "1      0.829982"
      ]
     },
     "execution_count": 26,
     "metadata": {},
     "output_type": "execute_result"
    }
   ],
   "source": [
    "opt_XGB_reg_df"
   ]
  },
  {
   "cell_type": "markdown",
   "metadata": {},
   "source": [
    "### Results:\n",
    "The optimization process lowered the RMSE of the XGB_reg model from 21.7 to 21.45, an improvement of 0.25. "
   ]
  },
  {
   "cell_type": "markdown",
   "metadata": {},
   "source": [
    "## Learning Curves\n",
    "\n",
    "Great explanation of learning curves and how to use them. \n",
    "https://www.dataquest.io/blog/learning-curves-machine-learning/"
   ]
  },
  {
   "cell_type": "code",
   "execution_count": 24,
   "metadata": {},
   "outputs": [],
   "source": [
    "# calculates and plots learning curves; I slightly altered the function found here:\n",
    "# https://www.dataquest.io/blog/learning-curves-machine-learning/\n",
    "\n",
    "def learning_curves(estimator, X, y):\n",
    "    train_sizes, train_scores, validation_scores = learning_curve(\n",
    "    estimator, X, y, scoring = 'neg_mean_squared_error')\n",
    "    train_scores_mean = -train_scores.mean(axis = 1)\n",
    "    validation_scores_mean = -validation_scores.mean(axis = 1)\n",
    "\n",
    "    plt.plot(train_sizes, train_scores_mean, label = 'Training error')\n",
    "    plt.plot(train_sizes, validation_scores_mean, label = 'Validation error')\n",
    "\n",
    "    plt.ylabel('MSE', fontsize = 14)\n",
    "    plt.xlabel('Training set size', fontsize = 14)\n",
    "    title = 'Learning curves for a ' + str(estimator).split('(')[0] + ' model'\n",
    "    plt.title(title, fontsize = 18, y = 1.03)\n",
    "    plt.legend()\n"
   ]
  },
  {
   "cell_type": "code",
   "execution_count": 24,
   "metadata": {},
   "outputs": [
    {
     "data": {
      "image/png": "[encoded data removed]",
      "text/plain": [
       "<Figure size 432x288 with 1 Axes>"
      ]
     },
     "metadata": {
      "needs_background": "light"
     },
     "output_type": "display_data"
    }
   ],
   "source": [
    "# plot the learning curve for the tuned Ridge regression model\n",
    "plt.subplot()\n",
    "learning_curves(opt_ridge_reg, X, y)"
   ]
  },
  {
   "cell_type": "markdown",
   "metadata": {},
   "source": [
    "Interpretation:  The training and validation error are converging suggesting that adding more training instances may improve the model a little bit, but is unlikely to make a huge difference.  The validation error is high indicating a bias problem and the observation that the training error is also high indicates that the model's issue is a high bias problem meaning the model doesn't describe the relationship between feature and target especially well. The small gap between the training and validation error points to low variance.  Overall this model high bias, low varience and is underfitting the training data. \n",
    "\n",
    "Standard fixes:  \n",
    "1.  Increasing feature number:  I tried that by adding polynomial featuers and the RMSE of the ridge regression model improved and then decreased as the power increased. See plot below. \n",
    "2.  Decreasing regularization:  The best alpha for this model was found to be 0.13 which is already a low level of regularization. "
   ]
  },
  {
   "cell_type": "code",
   "execution_count": 35,
   "metadata": {},
   "outputs": [
    {
     "data": {
      "image/png": "[encoded data removed]",
      "text/plain": [
       "<Figure size 432x288 with 1 Axes>"
      ]
     },
     "metadata": {
      "needs_background": "light"
     },
     "output_type": "display_data"
    }
   ],
   "source": [
    "# plot learning curve for the tuned ridge regression model using polynomial (power=4) feature set\n",
    "plt.subplot()\n",
    "learning_curves(opt_ridge_reg_poly, poly_features[\"poly_X_4\"], y)"
   ]
  },
  {
   "cell_type": "markdown",
   "metadata": {},
   "source": [
    "Interpretation:  Adding the polynomial features helped the ridge regression model quite a bit as the validation and training errors were lower than with the original dataset. The model is converging, but not as quickly as the ridge model using the original dataset so more instances maybe helpful. "
   ]
  },
  {
   "cell_type": "code",
   "execution_count": 43,
   "metadata": {},
   "outputs": [
    {
     "data": {
      "image/png": "[encoded data removed]",
      "text/plain": [
       "<Figure size 432x288 with 1 Axes>"
      ]
     },
     "metadata": {
      "needs_background": "light"
     },
     "output_type": "display_data"
    }
   ],
   "source": [
    "# plot the learning curve for the tuned RandomForestRegressor model\n",
    "plt.subplot()\n",
    "learning_curves(opt3_RF_reg, X, y)"
   ]
  },
  {
   "cell_type": "markdown",
   "metadata": {},
   "source": [
    "### Results:\n",
    "The validation error is lower than that seen in the ridge_reg model above so this model has less bias.  The large gap between the training and validation error curves indicated a high level of variance.  In fact the validation curve does not increase at all.  This low bias, high variance model is overfitting the training data and would likely be improved by adding additional instances to the training dataset.  \n",
    "\n",
    "Standard fixes:   \n",
    "1.  Increasing the number of instances:  This possible as there are additional years of data available.\n",
    "2.  Increase the regularization to prevent overfitting:  Could plot various parameter tuning results to see if that helped. \n",
    "3.  Reduce the number of features which will lead to less complex models:  I tried that by using a smaller feature set (see next section) and the overfitting did not improve at all. "
   ]
  },
  {
   "cell_type": "code",
   "execution_count": 27,
   "metadata": {},
   "outputs": [
    {
     "data": {
      "image/png": "[encoded data removed]",
      "text/plain": [
       "<Figure size 432x288 with 1 Axes>"
      ]
     },
     "metadata": {
      "needs_background": "light"
     },
     "output_type": "display_data"
    }
   ],
   "source": [
    "plt.subplot()\n",
    "learning_curves(opt_XGB_reg, X, y)"
   ]
  },
  {
   "cell_type": "markdown",
   "metadata": {},
   "source": [
    "### Results:\n",
    "The validation error is lower than that seen in the ridge_reg model above and approximately equivalent to the RF_reg model.  There is still a large gap between the training and validation error curves, but unlike with the RF_reg model is the validation error is starting to converge towards the training error.  Like the RF_reg, this is a low bias, high variance model that is overfitting the training data and would likely be improved by adding additional instances to the dataset.  It may need less instances than the RF_reg model as it is already starting to converge. \n",
    "\n",
    "Standard fixes:   \n",
    "1.  Increasing the number of instances:  This possible as there are additional years of data available\n",
    "2.  Increase the regularization to prevent overfitting:  Could plot various parameter tuning results to see if that helps. \n",
    "3.  Reduce the number of features which will lead to less complex models:  I tried that below by using the small feature set and the training error no longer started to converge so that was not a succesful fix. "
   ]
  },
  {
   "cell_type": "markdown",
   "metadata": {},
   "source": [
    "## Revisiting the smaller feature set for the Random forest and XGBoost models\n",
    "\n",
    "Try tuning the hyperparameters on models built using the smaller feature set.  Less features increases the regularization for Random Forest models.  Does it do the same for XGBoost?  Are the learning curves improved?"
   ]
  },
  {
   "cell_type": "code",
   "execution_count": 48,
   "metadata": {},
   "outputs": [
    {
     "name": "stdout",
     "output_type": "stream",
     "text": [
      "100%|██████████| 100/100 [01:17<00:00,  1.30trial/s, best loss: 517.6630424645158]\n",
      "{'colsample_bytree': 0.6007687980933383, 'gamma': 6.083610095367174, 'max_depth': 11.0, 'min_child_weight': 1.0, 'reg_alpha': 173.0, 'reg_lambda': 0.7505347192447069}\n"
     ]
    }
   ],
   "source": [
    "# XGBoost \n",
    "# split the training set into train and validate\n",
    "X_train, X_validate, y_train, y_validate = train_test_split(X_small, y, test_size=0.3, random_state=46)\n",
    "\n",
    "# run the hyperparameter tuning trials\n",
    "trials = Trials()\n",
    "\n",
    "best = fmin(fn=hyperparameter_tuning,\n",
    "            space=space,\n",
    "            algo=tpe.suggest,\n",
    "            max_evals=100,\n",
    "            trials=trials)\n",
    "\n",
    "print(best)"
   ]
  },
  {
   "cell_type": "code",
   "execution_count": 49,
   "metadata": {},
   "outputs": [
    {
     "name": "stdout",
     "output_type": "stream",
     "text": [
      "running opt_XGB_small_reg\n"
     ]
    }
   ],
   "source": [
    "opt_XGB_small_reg = XGBRegressor(colsample_bytree=0.60, gamma=6.08, max_depth=11, min_child_weight=1, reg_alpha=173, reg_lambda=0.75)\n",
    "opt_XGB_small_df = model_testing(X_small, y, [opt_XGB_small_reg], [\"opt_XGB_small_reg\"])"
   ]
  },
  {
   "cell_type": "code",
   "execution_count": 50,
   "metadata": {},
   "outputs": [
    {
     "data": {
      "text/html": [
       "<div>\n",
       "<style scoped>\n",
       "    .dataframe tbody tr th:only-of-type {\n",
       "        vertical-align: middle;\n",
       "    }\n",
       "\n",
       "    .dataframe tbody tr th {\n",
       "        vertical-align: top;\n",
       "    }\n",
       "\n",
       "    .dataframe thead th {\n",
       "        text-align: right;\n",
       "    }\n",
       "</style>\n",
       "<table border=\"1\" class=\"dataframe\">\n",
       "  <thead>\n",
       "    <tr style=\"text-align: right;\">\n",
       "      <th></th>\n",
       "      <th>opt_XGB_small_reg</th>\n",
       "    </tr>\n",
       "  </thead>\n",
       "  <tbody>\n",
       "    <tr>\n",
       "      <th>0</th>\n",
       "      <td>21.701323</td>\n",
       "    </tr>\n",
       "    <tr>\n",
       "      <th>1</th>\n",
       "      <td>0.897328</td>\n",
       "    </tr>\n",
       "  </tbody>\n",
       "</table>\n",
       "</div>"
      ],
      "text/plain": [
       "   opt_XGB_small_reg\n",
       "0          21.701323\n",
       "1           0.897328"
      ]
     },
     "execution_count": 50,
     "metadata": {},
     "output_type": "execute_result"
    }
   ],
   "source": [
    "opt_XGB_small_df"
   ]
  },
  {
   "cell_type": "code",
   "execution_count": 60,
   "metadata": {},
   "outputs": [
    {
     "data": {
      "image/png": "[encoded data removed]",
      "text/plain": [
       "<Figure size 432x288 with 1 Axes>"
      ]
     },
     "metadata": {
      "needs_background": "light"
     },
     "output_type": "display_data"
    }
   ],
   "source": [
    "plt.subplot()\n",
    "learning_curves(opt_XGB_small_reg, X_small, y)"
   ]
  },
  {
   "cell_type": "markdown",
   "metadata": {},
   "source": [
    "### Results\n",
    "The RMSE using the default settings on the small subet was 21.81 while after hyperparameter optimization, the RMSE dropped to 21.70.  This was an improvement of 0.11 while tuning with the full subset improved the RMSE 0.25 (from 21.7 to 21.45).  The learning curve for the model trained on the smaller feature set actually looks worse as the training error stays flat indicating this tuned, small subset model is likely overfitting the data more than the tuned, full dataset model. "
   ]
  },
  {
   "cell_type": "code",
   "execution_count": 51,
   "metadata": {},
   "outputs": [
    {
     "name": "stdout",
     "output_type": "stream",
     "text": [
      "Fitting 3 folds for each of 100 candidates, totalling 300 fits\n"
     ]
    },
    {
     "data": {
      "text/plain": [
       "RandomizedSearchCV(cv=3, estimator=RandomForestRegressor(), n_iter=100,\n",
       "                   n_jobs=-1,\n",
       "                   param_distributions={'bootstrap': [True, False],\n",
       "                                        'max_depth': [10, 20, 30, 40, 50, 60,\n",
       "                                                      70, 80, 90, 100, 110,\n",
       "                                                      None],\n",
       "                                        'max_features': ['auto', 'sqrt'],\n",
       "                                        'min_samples_leaf': [1, 2, 4],\n",
       "                                        'min_samples_split': [2, 5, 10],\n",
       "                                        'n_estimators': [200, 400, 600, 800,\n",
       "                                                         1000, 1200, 1400, 1600,\n",
       "                                                         1800, 2000]},\n",
       "                   random_state=46, scoring='neg_mean_squared_error',\n",
       "                   verbose=2)"
      ]
     },
     "execution_count": 51,
     "metadata": {},
     "output_type": "execute_result"
    }
   ],
   "source": [
    "# RandomForest\n",
    "# parameter suggestions from https://towardsdatascience.com/hyperparameter-tuning-the-random-forest-in-python-using-scikit-learn-28d2aa77dd74\n",
    "# took 1.5 hrs to run\n",
    "\n",
    "from sklearn.model_selection import RandomizedSearchCV\n",
    "\n",
    "n_estimators = [int(x) for x in np.linspace(start = 200, stop = 2000, num = 10)]\n",
    "max_features = ['auto', 'sqrt']\n",
    "max_depth = [int(x) for x in np.linspace(10, 110, num = 11)]\n",
    "max_depth.append(None)\n",
    "min_samples_split = [2, 5, 10]\n",
    "min_samples_leaf = [1, 2, 4]\n",
    "bootstrap = [True, False]\n",
    "\n",
    "random_grid = {'n_estimators': n_estimators,\n",
    "               'max_features': max_features,\n",
    "               'max_depth': max_depth,\n",
    "               'min_samples_split': min_samples_split,\n",
    "               'min_samples_leaf': min_samples_leaf,\n",
    "               'bootstrap': bootstrap}\n",
    "\n",
    "rf_random = RandomizedSearchCV(estimator=RF_reg, param_distributions=random_grid, scoring='neg_mean_squared_error',\n",
    "                               n_iter=100, cv=3, verbose=2, random_state=46, n_jobs = -1)\n",
    "\n",
    "rf_random.fit(X_small, y)"
   ]
  },
  {
   "cell_type": "code",
   "execution_count": 53,
   "metadata": {},
   "outputs": [
    {
     "data": {
      "text/plain": [
       "-465.0750940742799"
      ]
     },
     "execution_count": 53,
     "metadata": {},
     "output_type": "execute_result"
    }
   ],
   "source": [
    "rf_random.best_score_"
   ]
  },
  {
   "cell_type": "code",
   "execution_count": 55,
   "metadata": {},
   "outputs": [
    {
     "data": {
      "text/plain": [
       "{'n_estimators': 1400,\n",
       " 'min_samples_split': 5,\n",
       " 'min_samples_leaf': 1,\n",
       " 'max_features': 'sqrt',\n",
       " 'max_depth': 80,\n",
       " 'bootstrap': False}"
      ]
     },
     "execution_count": 55,
     "metadata": {},
     "output_type": "execute_result"
    }
   ],
   "source": [
    "rf_random.best_params_"
   ]
  },
  {
   "cell_type": "code",
   "execution_count": 56,
   "metadata": {},
   "outputs": [
    {
     "name": "stdout",
     "output_type": "stream",
     "text": [
      "running opt_RF_small_reg\n"
     ]
    }
   ],
   "source": [
    "opt_RF_small_reg = RandomForestRegressor(n_estimators=1400, min_samples_split=5, min_samples_leaf=1, max_features='sqrt',\n",
    " max_depth=80, bootstrap=False)\n",
    "opt3_RF_reg_results_df = model_testing(X_small, y, [opt_RF_small_reg], [\"opt_RF_small_reg\"])"
   ]
  },
  {
   "cell_type": "code",
   "execution_count": 57,
   "metadata": {},
   "outputs": [
    {
     "data": {
      "text/html": [
       "<div>\n",
       "<style scoped>\n",
       "    .dataframe tbody tr th:only-of-type {\n",
       "        vertical-align: middle;\n",
       "    }\n",
       "\n",
       "    .dataframe tbody tr th {\n",
       "        vertical-align: top;\n",
       "    }\n",
       "\n",
       "    .dataframe thead th {\n",
       "        text-align: right;\n",
       "    }\n",
       "</style>\n",
       "<table border=\"1\" class=\"dataframe\">\n",
       "  <thead>\n",
       "    <tr style=\"text-align: right;\">\n",
       "      <th></th>\n",
       "      <th>opt_RF_small_reg</th>\n",
       "    </tr>\n",
       "  </thead>\n",
       "  <tbody>\n",
       "    <tr>\n",
       "      <th>0</th>\n",
       "      <td>21.016610</td>\n",
       "    </tr>\n",
       "    <tr>\n",
       "      <th>1</th>\n",
       "      <td>1.136571</td>\n",
       "    </tr>\n",
       "  </tbody>\n",
       "</table>\n",
       "</div>"
      ],
      "text/plain": [
       "   opt_RF_small_reg\n",
       "0         21.016610\n",
       "1          1.136571"
      ]
     },
     "execution_count": 57,
     "metadata": {},
     "output_type": "execute_result"
    }
   ],
   "source": [
    "opt3_RF_reg_results_df"
   ]
  },
  {
   "cell_type": "code",
   "execution_count": 59,
   "metadata": {},
   "outputs": [
    {
     "data": {
      "image/png": "[encoded data removed]",
      "text/plain": [
       "<Figure size 432x288 with 1 Axes>"
      ]
     },
     "metadata": {
      "needs_background": "light"
     },
     "output_type": "display_data"
    }
   ],
   "source": [
    "plt.subplot()\n",
    "learning_curves(opt_RF_small_reg, X_small, y)"
   ]
  },
  {
   "cell_type": "markdown",
   "metadata": {},
   "source": [
    "### Results:\n",
    "\n",
    "The RMSE using the default settings on the small subet was 21.37 while after hyperparameter optimization, the RMSE dropped to 21.02.  This was an improvement of 0.35 while tuning with the full subset improved the RMSE 0.15 from 20.96 to 20.81. However, the learning curve did not improve at all and the training error remains flat. "
   ]
  },
  {
   "cell_type": "markdown",
   "metadata": {},
   "source": [
    "## r2 error\n",
    "\n",
    "Calculate the r2 error for the best of the three types of regression models. "
   ]
  },
  {
   "cell_type": "code",
   "execution_count": 39,
   "metadata": {},
   "outputs": [],
   "source": [
    "def R2_model_testing(X, y, models, model_names):\n",
    "    \"\"\"Takes a pandas df of prepared features, a pandas series of corresponding targets and runs all models \n",
    "    specificed in the \"models\" list in a cross validation scheme with 10 folds. Returns a dataframe containing\n",
    "    the mean R2 and mean std for each model.\n",
    "    \n",
    "    Arguments:\n",
    "    X -- pandas dataframe containing feature values\n",
    "    y -- pandas series containing the target values\n",
    "    models -- list of scikit models\n",
    "    model_names -- list of strings of model names\n",
    "    \n",
    "    Returns:\n",
    "    pandas dataframe containing the mean RMSE and mean standard deviation for each model in the \"models\" list\n",
    "    \"\"\"\n",
    "    model_results = {}\n",
    "    for count, model in enumerate(models):\n",
    "        print(\"running\", model_names[count])\n",
    "        scores = cross_val_score(model, X, y, scoring=\"r2\", cv=10)\n",
    "        model_results[model_names[count]] = [scores.mean(), scores.std()]\n",
    "    df = pd.DataFrame(model_results) \n",
    "    return df"
   ]
  },
  {
   "cell_type": "code",
   "execution_count": 40,
   "metadata": {},
   "outputs": [
    {
     "name": "stdout",
     "output_type": "stream",
     "text": [
      "running opt_ridge_reg_poly]\n"
     ]
    }
   ],
   "source": [
    "R2_opt_ridge_reg_poly_df = R2_model_testing(poly_features[\"poly_X_4\"], y, [opt_ridge_reg_poly], [\"opt_ridge_reg_poly\"])"
   ]
  },
  {
   "cell_type": "code",
   "execution_count": 41,
   "metadata": {},
   "outputs": [
    {
     "data": {
      "text/html": [
       "<div>\n",
       "<style scoped>\n",
       "    .dataframe tbody tr th:only-of-type {\n",
       "        vertical-align: middle;\n",
       "    }\n",
       "\n",
       "    .dataframe tbody tr th {\n",
       "        vertical-align: top;\n",
       "    }\n",
       "\n",
       "    .dataframe thead th {\n",
       "        text-align: right;\n",
       "    }\n",
       "</style>\n",
       "<table border=\"1\" class=\"dataframe\">\n",
       "  <thead>\n",
       "    <tr style=\"text-align: right;\">\n",
       "      <th></th>\n",
       "      <th>opt_ridge_reg_poly]</th>\n",
       "    </tr>\n",
       "  </thead>\n",
       "  <tbody>\n",
       "    <tr>\n",
       "      <th>0</th>\n",
       "      <td>0.733174</td>\n",
       "    </tr>\n",
       "    <tr>\n",
       "      <th>1</th>\n",
       "      <td>0.021892</td>\n",
       "    </tr>\n",
       "  </tbody>\n",
       "</table>\n",
       "</div>"
      ],
      "text/plain": [
       "   opt_ridge_reg_poly]\n",
       "0             0.733174\n",
       "1             0.021892"
      ]
     },
     "execution_count": 41,
     "metadata": {},
     "output_type": "execute_result"
    }
   ],
   "source": [
    "R2_opt_ridge_reg_poly_df"
   ]
  },
  {
   "cell_type": "code",
   "execution_count": 44,
   "metadata": {},
   "outputs": [
    {
     "name": "stdout",
     "output_type": "stream",
     "text": [
      "running opt3_RF_reg\n"
     ]
    }
   ],
   "source": [
    "R2_opt3_RF_reg_df = R2_model_testing(X, y, [opt3_RF_reg], ['opt3_RF_reg'])"
   ]
  },
  {
   "cell_type": "code",
   "execution_count": 45,
   "metadata": {},
   "outputs": [
    {
     "data": {
      "text/html": [
       "<div>\n",
       "<style scoped>\n",
       "    .dataframe tbody tr th:only-of-type {\n",
       "        vertical-align: middle;\n",
       "    }\n",
       "\n",
       "    .dataframe tbody tr th {\n",
       "        vertical-align: top;\n",
       "    }\n",
       "\n",
       "    .dataframe thead th {\n",
       "        text-align: right;\n",
       "    }\n",
       "</style>\n",
       "<table border=\"1\" class=\"dataframe\">\n",
       "  <thead>\n",
       "    <tr style=\"text-align: right;\">\n",
       "      <th></th>\n",
       "      <th>opt3_RF_reg</th>\n",
       "    </tr>\n",
       "  </thead>\n",
       "  <tbody>\n",
       "    <tr>\n",
       "      <th>0</th>\n",
       "      <td>0.786502</td>\n",
       "    </tr>\n",
       "    <tr>\n",
       "      <th>1</th>\n",
       "      <td>0.015065</td>\n",
       "    </tr>\n",
       "  </tbody>\n",
       "</table>\n",
       "</div>"
      ],
      "text/plain": [
       "   opt3_RF_reg\n",
       "0     0.786502\n",
       "1     0.015065"
      ]
     },
     "execution_count": 45,
     "metadata": {},
     "output_type": "execute_result"
    }
   ],
   "source": [
    "R2_opt3_RF_reg_df"
   ]
  },
  {
   "cell_type": "code",
   "execution_count": 48,
   "metadata": {},
   "outputs": [
    {
     "name": "stdout",
     "output_type": "stream",
     "text": [
      "running opt_XGB_reg\n"
     ]
    }
   ],
   "source": [
    "R2_opt_XGB_reg_df = R2_model_testing(X, y, [opt_XGB_reg], ['opt_XGB_reg'])"
   ]
  },
  {
   "cell_type": "code",
   "execution_count": 49,
   "metadata": {},
   "outputs": [
    {
     "data": {
      "text/html": [
       "<div>\n",
       "<style scoped>\n",
       "    .dataframe tbody tr th:only-of-type {\n",
       "        vertical-align: middle;\n",
       "    }\n",
       "\n",
       "    .dataframe tbody tr th {\n",
       "        vertical-align: top;\n",
       "    }\n",
       "\n",
       "    .dataframe thead th {\n",
       "        text-align: right;\n",
       "    }\n",
       "</style>\n",
       "<table border=\"1\" class=\"dataframe\">\n",
       "  <thead>\n",
       "    <tr style=\"text-align: right;\">\n",
       "      <th></th>\n",
       "      <th>opt_XGB_reg</th>\n",
       "    </tr>\n",
       "  </thead>\n",
       "  <tbody>\n",
       "    <tr>\n",
       "      <th>0</th>\n",
       "      <td>0.773971</td>\n",
       "    </tr>\n",
       "    <tr>\n",
       "      <th>1</th>\n",
       "      <td>0.010272</td>\n",
       "    </tr>\n",
       "  </tbody>\n",
       "</table>\n",
       "</div>"
      ],
      "text/plain": [
       "   opt_XGB_reg\n",
       "0     0.773971\n",
       "1     0.010272"
      ]
     },
     "execution_count": 49,
     "metadata": {},
     "output_type": "execute_result"
    }
   ],
   "source": [
    "R2_opt_XGB_reg_df"
   ]
  },
  {
   "cell_type": "markdown",
   "metadata": {},
   "source": [
    "## Final results  \n",
    "\n",
    "The model that has the best RMSE and R2 scores is the Random Forest model using the full feature set."
   ]
  },
  {
   "cell_type": "code",
   "execution_count": null,
   "metadata": {},
   "outputs": [],
   "source": []
  }
 ],
 "metadata": {
  "kernelspec": {
   "display_name": "Python 3",
   "language": "python",
   "name": "python3"
  },
  "language_info": {
   "codemirror_mode": {
    "name": "ipython",
    "version": 3
   },
   "file_extension": ".py",
   "mimetype": "text/x-python",
   "name": "python",
   "nbconvert_exporter": "python",
   "pygments_lexer": "ipython3",
   "version": "3.7.4"
  }
 },
 "nbformat": 4,
 "nbformat_minor": 4
}
