{
 "cells": [
  {
   "cell_type": "code",
   "execution_count": 1,
   "metadata": {},
   "outputs": [],
   "source": [
    "import pandas as pd\n",
    "import numpy as np\n",
    "\n",
    "from sklearn.compose import ColumnTransformer\n",
    "from sklearn.base import BaseEstimator, TransformerMixin\n",
    "from sklearn.preprocessing import OneHotEncoder, StandardScaler, MinMaxScaler, FunctionTransformer, PolynomialFeatures\n",
    "from sklearn.pipeline import Pipeline\n",
    "\n",
    "from sklearn.linear_model import Ridge\n",
    "from sklearn.ensemble import RandomForestRegressor\n",
    "from xgboost import XGBRegressor\n",
    "\n",
    "from sklearn.metrics import mean_squared_error\n",
    "from sklearn.metrics import r2_score\n",
    "\n",
    "%matplotlib inline"
   ]
  },
  {
   "cell_type": "markdown",
   "metadata": {},
   "source": [
    "## Training Data Preparation"
   ]
  },
  {
   "cell_type": "code",
   "execution_count": 2,
   "metadata": {},
   "outputs": [],
   "source": [
    "# import training data set\n",
    "pp_train = pd.read_csv(\"../data/progresspics_2018_training_data.cvs\")"
   ]
  },
  {
   "cell_type": "code",
   "execution_count": 3,
   "metadata": {},
   "outputs": [
    {
     "data": {
      "text/html": [
       "<div>\n",
       "<style scoped>\n",
       "    .dataframe tbody tr th:only-of-type {\n",
       "        vertical-align: middle;\n",
       "    }\n",
       "\n",
       "    .dataframe tbody tr th {\n",
       "        vertical-align: top;\n",
       "    }\n",
       "\n",
       "    .dataframe thead th {\n",
       "        text-align: right;\n",
       "    }\n",
       "</style>\n",
       "<table border=\"1\" class=\"dataframe\">\n",
       "  <thead>\n",
       "    <tr style=\"text-align: right;\">\n",
       "      <th></th>\n",
       "      <th>sex</th>\n",
       "      <th>age</th>\n",
       "      <th>height</th>\n",
       "      <th>start_weight</th>\n",
       "      <th>end_weight</th>\n",
       "      <th>score</th>\n",
       "      <th>num_comments</th>\n",
       "      <th>num_posts</th>\n",
       "      <th>num_posts_cat</th>\n",
       "      <th>post_order</th>\n",
       "      <th>...</th>\n",
       "      <th>gym</th>\n",
       "      <th>lifting</th>\n",
       "      <th>working</th>\n",
       "      <th>diet</th>\n",
       "      <th>muscle</th>\n",
       "      <th>nsfw</th>\n",
       "      <th>weight_diff</th>\n",
       "      <th>gain_or_lose</th>\n",
       "      <th>fill_period_weeks</th>\n",
       "      <th>change_rate</th>\n",
       "    </tr>\n",
       "  </thead>\n",
       "  <tbody>\n",
       "    <tr>\n",
       "      <th>0</th>\n",
       "      <td>1.0</td>\n",
       "      <td>34.0</td>\n",
       "      <td>68.0</td>\n",
       "      <td>189.0000</td>\n",
       "      <td>175.00000</td>\n",
       "      <td>1338</td>\n",
       "      <td>42</td>\n",
       "      <td>3</td>\n",
       "      <td>(2.0, 4.0]</td>\n",
       "      <td>3.0</td>\n",
       "      <td>...</td>\n",
       "      <td>0</td>\n",
       "      <td>0</td>\n",
       "      <td>0</td>\n",
       "      <td>0</td>\n",
       "      <td>0</td>\n",
       "      <td>0</td>\n",
       "      <td>14.00000</td>\n",
       "      <td>0</td>\n",
       "      <td>312.000000</td>\n",
       "      <td>0.044872</td>\n",
       "    </tr>\n",
       "    <tr>\n",
       "      <th>1</th>\n",
       "      <td>1.0</td>\n",
       "      <td>35.0</td>\n",
       "      <td>76.0</td>\n",
       "      <td>316.0000</td>\n",
       "      <td>268.00000</td>\n",
       "      <td>1</td>\n",
       "      <td>1</td>\n",
       "      <td>0</td>\n",
       "      <td>(-inf, 0.0]</td>\n",
       "      <td>0.0</td>\n",
       "      <td>...</td>\n",
       "      <td>0</td>\n",
       "      <td>1</td>\n",
       "      <td>0</td>\n",
       "      <td>0</td>\n",
       "      <td>0</td>\n",
       "      <td>0</td>\n",
       "      <td>48.00000</td>\n",
       "      <td>0</td>\n",
       "      <td>16.000000</td>\n",
       "      <td>3.000000</td>\n",
       "    </tr>\n",
       "    <tr>\n",
       "      <th>2</th>\n",
       "      <td>1.0</td>\n",
       "      <td>33.0</td>\n",
       "      <td>74.0</td>\n",
       "      <td>260.0000</td>\n",
       "      <td>220.00000</td>\n",
       "      <td>1</td>\n",
       "      <td>0</td>\n",
       "      <td>8</td>\n",
       "      <td>(4.0, 8.0]</td>\n",
       "      <td>3.0</td>\n",
       "      <td>...</td>\n",
       "      <td>0</td>\n",
       "      <td>0</td>\n",
       "      <td>0</td>\n",
       "      <td>0</td>\n",
       "      <td>0</td>\n",
       "      <td>0</td>\n",
       "      <td>40.00000</td>\n",
       "      <td>0</td>\n",
       "      <td>10.000000</td>\n",
       "      <td>4.000000</td>\n",
       "    </tr>\n",
       "    <tr>\n",
       "      <th>3</th>\n",
       "      <td>1.0</td>\n",
       "      <td>27.0</td>\n",
       "      <td>74.0</td>\n",
       "      <td>235.0000</td>\n",
       "      <td>170.00000</td>\n",
       "      <td>44</td>\n",
       "      <td>2</td>\n",
       "      <td>3</td>\n",
       "      <td>(2.0, 4.0]</td>\n",
       "      <td>3.0</td>\n",
       "      <td>...</td>\n",
       "      <td>0</td>\n",
       "      <td>0</td>\n",
       "      <td>0</td>\n",
       "      <td>0</td>\n",
       "      <td>0</td>\n",
       "      <td>0</td>\n",
       "      <td>65.00000</td>\n",
       "      <td>0</td>\n",
       "      <td>59.888934</td>\n",
       "      <td>1.085342</td>\n",
       "    </tr>\n",
       "    <tr>\n",
       "      <th>4</th>\n",
       "      <td>1.0</td>\n",
       "      <td>17.0</td>\n",
       "      <td>73.0</td>\n",
       "      <td>165.3465</td>\n",
       "      <td>211.64352</td>\n",
       "      <td>1</td>\n",
       "      <td>1</td>\n",
       "      <td>1</td>\n",
       "      <td>(0.0, 1.0]</td>\n",
       "      <td>1.0</td>\n",
       "      <td>...</td>\n",
       "      <td>0</td>\n",
       "      <td>0</td>\n",
       "      <td>0</td>\n",
       "      <td>0</td>\n",
       "      <td>0</td>\n",
       "      <td>0</td>\n",
       "      <td>-46.29702</td>\n",
       "      <td>1</td>\n",
       "      <td>156.000000</td>\n",
       "      <td>-0.296776</td>\n",
       "    </tr>\n",
       "  </tbody>\n",
       "</table>\n",
       "<p>5 rows × 29 columns</p>\n",
       "</div>"
      ],
      "text/plain": [
       "   sex   age  height  start_weight  end_weight  score  num_comments  \\\n",
       "0  1.0  34.0    68.0      189.0000   175.00000   1338            42   \n",
       "1  1.0  35.0    76.0      316.0000   268.00000      1             1   \n",
       "2  1.0  33.0    74.0      260.0000   220.00000      1             0   \n",
       "3  1.0  27.0    74.0      235.0000   170.00000     44             2   \n",
       "4  1.0  17.0    73.0      165.3465   211.64352      1             1   \n",
       "\n",
       "   num_posts num_posts_cat  post_order  ...  gym  lifting  working  diet  \\\n",
       "0          3    (2.0, 4.0]         3.0  ...    0        0        0     0   \n",
       "1          0   (-inf, 0.0]         0.0  ...    0        1        0     0   \n",
       "2          8    (4.0, 8.0]         3.0  ...    0        0        0     0   \n",
       "3          3    (2.0, 4.0]         3.0  ...    0        0        0     0   \n",
       "4          1    (0.0, 1.0]         1.0  ...    0        0        0     0   \n",
       "\n",
       "   muscle  nsfw  weight_diff  gain_or_lose  fill_period_weeks  change_rate  \n",
       "0       0     0     14.00000             0         312.000000     0.044872  \n",
       "1       0     0     48.00000             0          16.000000     3.000000  \n",
       "2       0     0     40.00000             0          10.000000     4.000000  \n",
       "3       0     0     65.00000             0          59.888934     1.085342  \n",
       "4       0     0    -46.29702             1         156.000000    -0.296776  \n",
       "\n",
       "[5 rows x 29 columns]"
      ]
     },
     "execution_count": 3,
     "metadata": {},
     "output_type": "execute_result"
    }
   ],
   "source": [
    "pp_train.head()"
   ]
  },
  {
   "cell_type": "code",
   "execution_count": 4,
   "metadata": {},
   "outputs": [
    {
     "data": {
      "text/plain": [
       "(17187, 29)"
      ]
     },
     "execution_count": 4,
     "metadata": {},
     "output_type": "execute_result"
    }
   ],
   "source": [
    "pp_train.shape"
   ]
  },
  {
   "cell_type": "code",
   "execution_count": 5,
   "metadata": {},
   "outputs": [
    {
     "data": {
      "text/plain": [
       "Index(['sex', 'age', 'height', 'start_weight', 'end_weight', 'score',\n",
       "       'num_comments', 'num_posts', 'num_posts_cat', 'post_order', 'month',\n",
       "       'dayofweek', 'progress', 'face', 'goal', 'finally', 'cico', 'keto',\n",
       "       'gains', 'gym', 'lifting', 'working', 'diet', 'muscle', 'nsfw',\n",
       "       'weight_diff', 'gain_or_lose', 'fill_period_weeks', 'change_rate'],\n",
       "      dtype='object')"
      ]
     },
     "execution_count": 5,
     "metadata": {},
     "output_type": "execute_result"
    }
   ],
   "source": [
    "pp_train.columns"
   ]
  },
  {
   "cell_type": "code",
   "execution_count": 6,
   "metadata": {},
   "outputs": [],
   "source": [
    "# create the feature set by dropping the target, \"end_weight\", \"score\" which is highly correlated \n",
    "# with \"num_comments\", \"weigh_diff\" which can be used with \"start_weight\" to exactly predict \"end_weight\",\n",
    "# and \"change_rate\" which can be used with \"fill_period_weeks\" and \"start_weight\" to exactly predict \"end_weight\". \n",
    "\n",
    "# also drop \"num_post_cat\" which was found to be less useful than \"num_posts\" in model testing\n",
    "\n",
    "# set the target, \"end_weight\", equal to y\n",
    "\n",
    "pp_train_features = pp_train.drop([\"end_weight\", \"score\", \"weight_diff\", \"change_rate\", \"num_posts_cat\"], axis=1)\n",
    "y = pp_train.loc[:, 'end_weight']"
   ]
  },
  {
   "cell_type": "code",
   "execution_count": 7,
   "metadata": {},
   "outputs": [
    {
     "data": {
      "text/plain": [
       "sex                  0\n",
       "age                  0\n",
       "height               0\n",
       "start_weight         0\n",
       "num_comments         0\n",
       "num_posts            0\n",
       "post_order           0\n",
       "month                0\n",
       "dayofweek            0\n",
       "progress             0\n",
       "face                 0\n",
       "goal                 0\n",
       "finally              0\n",
       "cico                 0\n",
       "keto                 0\n",
       "gains                0\n",
       "gym                  0\n",
       "lifting              0\n",
       "working              0\n",
       "diet                 0\n",
       "muscle               0\n",
       "nsfw                 0\n",
       "gain_or_lose         0\n",
       "fill_period_weeks    0\n",
       "dtype: int64"
      ]
     },
     "execution_count": 7,
     "metadata": {},
     "output_type": "execute_result"
    }
   ],
   "source": [
    "# Are there any Nans?\n",
    "pp_train_features.isnull().sum()"
   ]
  },
  {
   "cell_type": "code",
   "execution_count": 8,
   "metadata": {},
   "outputs": [
    {
     "name": "stdout",
     "output_type": "stream",
     "text": [
      "[ColumnTransformer]  (1 of 3) Processing numeric_col_preprocessing, total=   0.0s\n",
      "[ColumnTransformer]  (2 of 3) Processing cat_col_preprocessing, total=   0.0s\n",
      "[ColumnTransformer] ..... (3 of 3) Processing remainder, total=   0.0s\n",
      "[Pipeline] . (step 1 of 1) Processing col_preprocessing, total=   0.0s\n"
     ]
    }
   ],
   "source": [
    "# Standard scale numerical columns and one-hot encode categorical columns that include categories other than 0 and 1. \n",
    "num_columns = ['age', 'height', 'start_weight', 'fill_period_weeks', 'num_comments']\n",
    "cat_columns = ['month', 'dayofweek', 'num_posts', 'post_order']\n",
    "    \n",
    "col_preprocessing = ColumnTransformer([\n",
    "    ('numeric_col_preprocessing', StandardScaler(), num_columns),\n",
    "    ('cat_col_preprocessing', OneHotEncoder(sparse=False, categories='auto'), cat_columns)], \n",
    "    remainder='passthrough', verbose=True)\n",
    "\n",
    "data_prep_pipeline = Pipeline([\n",
    "    ('col_preprocessing', col_preprocessing)],\n",
    "    verbose=True)\n",
    "\n",
    "X = data_prep_pipeline.fit_transform(pp_train_features.copy())"
   ]
  },
  {
   "cell_type": "code",
   "execution_count": 9,
   "metadata": {},
   "outputs": [
    {
     "data": {
      "text/plain": [
       "(17187, 79)"
      ]
     },
     "execution_count": 9,
     "metadata": {},
     "output_type": "execute_result"
    }
   ],
   "source": [
    "X.shape"
   ]
  },
  {
   "cell_type": "code",
   "execution_count": 10,
   "metadata": {},
   "outputs": [
    {
     "data": {
      "text/plain": [
       "array([ 1.29083369,  0.015753  , -0.50173119,  3.84479427,  0.657463  ,\n",
       "        0.        ,  0.        ,  0.        ,  0.        ,  0.        ,\n",
       "        0.        ,  0.        ,  0.        ,  0.        ,  1.        ,\n",
       "        0.        ,  0.        ,  0.        ,  0.        ,  0.        ,\n",
       "        0.        ,  0.        ,  1.        ,  0.        ,  0.        ,\n",
       "        0.        ,  0.        ,  1.        ,  0.        ,  0.        ,\n",
       "        0.        ,  0.        ,  0.        ,  0.        ,  0.        ,\n",
       "        0.        ,  0.        ,  0.        ,  0.        ,  0.        ,\n",
       "        0.        ,  0.        ,  0.        ,  0.        ,  0.        ,\n",
       "        0.        ,  0.        ,  1.        ,  0.        ,  0.        ,\n",
       "        0.        ,  0.        ,  0.        ,  0.        ,  0.        ,\n",
       "        0.        ,  0.        ,  0.        ,  0.        ,  0.        ,\n",
       "        0.        ,  0.        ,  0.        ,  0.        ,  1.        ,\n",
       "        0.        ,  0.        ,  0.        ,  0.        ,  0.        ,\n",
       "        0.        ,  0.        ,  0.        ,  0.        ,  0.        ,\n",
       "        0.        ,  0.        ,  0.        ,  0.        ])"
      ]
     },
     "execution_count": 10,
     "metadata": {},
     "output_type": "execute_result"
    }
   ],
   "source": [
    "X[0, :]"
   ]
  },
  {
   "cell_type": "markdown",
   "metadata": {},
   "source": [
    "## Training the selected model - Random Forest"
   ]
  },
  {
   "cell_type": "code",
   "execution_count": 11,
   "metadata": {},
   "outputs": [
    {
     "data": {
      "text/plain": [
       "RandomForestRegressor(n_estimators=1400)"
      ]
     },
     "execution_count": 11,
     "metadata": {},
     "output_type": "execute_result"
    }
   ],
   "source": [
    "# train Random Forest regression model using the normal dataset\n",
    "final_RF_reg = RandomForestRegressor(n_estimators=1400, min_samples_split=2, min_samples_leaf=1, max_features='auto',\n",
    "                                     max_depth=None, bootstrap=True)\n",
    "final_RF_reg.fit(X, y)"
   ]
  },
  {
   "cell_type": "markdown",
   "metadata": {},
   "source": [
    "## Testing Data Preparation"
   ]
  },
  {
   "cell_type": "code",
   "execution_count": 12,
   "metadata": {},
   "outputs": [],
   "source": [
    "pp_test = pd.read_csv(\"../data/progresspics_2018_testing_data.cvs\")"
   ]
  },
  {
   "cell_type": "code",
   "execution_count": 13,
   "metadata": {},
   "outputs": [
    {
     "data": {
      "text/plain": [
       "(4297, 29)"
      ]
     },
     "execution_count": 13,
     "metadata": {},
     "output_type": "execute_result"
    }
   ],
   "source": [
    "pp_test.shape"
   ]
  },
  {
   "cell_type": "code",
   "execution_count": 14,
   "metadata": {},
   "outputs": [
    {
     "data": {
      "text/html": [
       "<div>\n",
       "<style scoped>\n",
       "    .dataframe tbody tr th:only-of-type {\n",
       "        vertical-align: middle;\n",
       "    }\n",
       "\n",
       "    .dataframe tbody tr th {\n",
       "        vertical-align: top;\n",
       "    }\n",
       "\n",
       "    .dataframe thead th {\n",
       "        text-align: right;\n",
       "    }\n",
       "</style>\n",
       "<table border=\"1\" class=\"dataframe\">\n",
       "  <thead>\n",
       "    <tr style=\"text-align: right;\">\n",
       "      <th></th>\n",
       "      <th>sex</th>\n",
       "      <th>age</th>\n",
       "      <th>height</th>\n",
       "      <th>start_weight</th>\n",
       "      <th>end_weight</th>\n",
       "      <th>score</th>\n",
       "      <th>num_comments</th>\n",
       "      <th>num_posts</th>\n",
       "      <th>num_posts_cat</th>\n",
       "      <th>post_order</th>\n",
       "      <th>...</th>\n",
       "      <th>gym</th>\n",
       "      <th>lifting</th>\n",
       "      <th>working</th>\n",
       "      <th>diet</th>\n",
       "      <th>muscle</th>\n",
       "      <th>nsfw</th>\n",
       "      <th>weight_diff</th>\n",
       "      <th>gain_or_lose</th>\n",
       "      <th>fill_period_weeks</th>\n",
       "      <th>change_rate</th>\n",
       "    </tr>\n",
       "  </thead>\n",
       "  <tbody>\n",
       "    <tr>\n",
       "      <th>0</th>\n",
       "      <td>1.0</td>\n",
       "      <td>23.0</td>\n",
       "      <td>72.0</td>\n",
       "      <td>147.0</td>\n",
       "      <td>156.0</td>\n",
       "      <td>90</td>\n",
       "      <td>18</td>\n",
       "      <td>3</td>\n",
       "      <td>(2.0, 4.0]</td>\n",
       "      <td>3.0</td>\n",
       "      <td>...</td>\n",
       "      <td>0</td>\n",
       "      <td>0</td>\n",
       "      <td>0</td>\n",
       "      <td>0</td>\n",
       "      <td>0</td>\n",
       "      <td>0</td>\n",
       "      <td>-9.0</td>\n",
       "      <td>1</td>\n",
       "      <td>32.000000</td>\n",
       "      <td>-0.281250</td>\n",
       "    </tr>\n",
       "    <tr>\n",
       "      <th>1</th>\n",
       "      <td>1.0</td>\n",
       "      <td>24.0</td>\n",
       "      <td>70.0</td>\n",
       "      <td>275.0</td>\n",
       "      <td>170.0</td>\n",
       "      <td>158</td>\n",
       "      <td>12</td>\n",
       "      <td>1</td>\n",
       "      <td>(0.0, 1.0]</td>\n",
       "      <td>1.0</td>\n",
       "      <td>...</td>\n",
       "      <td>0</td>\n",
       "      <td>0</td>\n",
       "      <td>0</td>\n",
       "      <td>1</td>\n",
       "      <td>0</td>\n",
       "      <td>0</td>\n",
       "      <td>105.0</td>\n",
       "      <td>0</td>\n",
       "      <td>63.340770</td>\n",
       "      <td>1.657700</td>\n",
       "    </tr>\n",
       "    <tr>\n",
       "      <th>2</th>\n",
       "      <td>0.0</td>\n",
       "      <td>52.0</td>\n",
       "      <td>65.0</td>\n",
       "      <td>191.0</td>\n",
       "      <td>172.0</td>\n",
       "      <td>727</td>\n",
       "      <td>21</td>\n",
       "      <td>1</td>\n",
       "      <td>(0.0, 1.0]</td>\n",
       "      <td>1.0</td>\n",
       "      <td>...</td>\n",
       "      <td>0</td>\n",
       "      <td>0</td>\n",
       "      <td>0</td>\n",
       "      <td>0</td>\n",
       "      <td>0</td>\n",
       "      <td>0</td>\n",
       "      <td>19.0</td>\n",
       "      <td>0</td>\n",
       "      <td>54.132889</td>\n",
       "      <td>0.350988</td>\n",
       "    </tr>\n",
       "    <tr>\n",
       "      <th>3</th>\n",
       "      <td>1.0</td>\n",
       "      <td>43.0</td>\n",
       "      <td>71.0</td>\n",
       "      <td>205.0</td>\n",
       "      <td>175.0</td>\n",
       "      <td>79</td>\n",
       "      <td>12</td>\n",
       "      <td>0</td>\n",
       "      <td>(-inf, 0.0]</td>\n",
       "      <td>0.0</td>\n",
       "      <td>...</td>\n",
       "      <td>0</td>\n",
       "      <td>0</td>\n",
       "      <td>0</td>\n",
       "      <td>0</td>\n",
       "      <td>0</td>\n",
       "      <td>0</td>\n",
       "      <td>30.0</td>\n",
       "      <td>0</td>\n",
       "      <td>72.000000</td>\n",
       "      <td>0.416667</td>\n",
       "    </tr>\n",
       "    <tr>\n",
       "      <th>4</th>\n",
       "      <td>1.0</td>\n",
       "      <td>21.0</td>\n",
       "      <td>69.0</td>\n",
       "      <td>138.0</td>\n",
       "      <td>148.0</td>\n",
       "      <td>46</td>\n",
       "      <td>5</td>\n",
       "      <td>1</td>\n",
       "      <td>(0.0, 1.0]</td>\n",
       "      <td>1.0</td>\n",
       "      <td>...</td>\n",
       "      <td>0</td>\n",
       "      <td>0</td>\n",
       "      <td>0</td>\n",
       "      <td>0</td>\n",
       "      <td>0</td>\n",
       "      <td>0</td>\n",
       "      <td>-10.0</td>\n",
       "      <td>1</td>\n",
       "      <td>156.000000</td>\n",
       "      <td>-0.064103</td>\n",
       "    </tr>\n",
       "  </tbody>\n",
       "</table>\n",
       "<p>5 rows × 29 columns</p>\n",
       "</div>"
      ],
      "text/plain": [
       "   sex   age  height  start_weight  end_weight  score  num_comments  \\\n",
       "0  1.0  23.0    72.0         147.0       156.0     90            18   \n",
       "1  1.0  24.0    70.0         275.0       170.0    158            12   \n",
       "2  0.0  52.0    65.0         191.0       172.0    727            21   \n",
       "3  1.0  43.0    71.0         205.0       175.0     79            12   \n",
       "4  1.0  21.0    69.0         138.0       148.0     46             5   \n",
       "\n",
       "   num_posts num_posts_cat  post_order  ...  gym  lifting  working  diet  \\\n",
       "0          3    (2.0, 4.0]         3.0  ...    0        0        0     0   \n",
       "1          1    (0.0, 1.0]         1.0  ...    0        0        0     1   \n",
       "2          1    (0.0, 1.0]         1.0  ...    0        0        0     0   \n",
       "3          0   (-inf, 0.0]         0.0  ...    0        0        0     0   \n",
       "4          1    (0.0, 1.0]         1.0  ...    0        0        0     0   \n",
       "\n",
       "   muscle  nsfw  weight_diff  gain_or_lose  fill_period_weeks  change_rate  \n",
       "0       0     0         -9.0             1          32.000000    -0.281250  \n",
       "1       0     0        105.0             0          63.340770     1.657700  \n",
       "2       0     0         19.0             0          54.132889     0.350988  \n",
       "3       0     0         30.0             0          72.000000     0.416667  \n",
       "4       0     0        -10.0             1         156.000000    -0.064103  \n",
       "\n",
       "[5 rows x 29 columns]"
      ]
     },
     "execution_count": 14,
     "metadata": {},
     "output_type": "execute_result"
    }
   ],
   "source": [
    "pp_test.head()"
   ]
  },
  {
   "cell_type": "code",
   "execution_count": 15,
   "metadata": {},
   "outputs": [],
   "source": [
    "pp_test_features = pp_test.drop([\"end_weight\", \"score\", \"weight_diff\", \"change_rate\", \"num_posts_cat\"], axis=1)\n",
    "y_test = pp_test.loc[:, 'end_weight']"
   ]
  },
  {
   "cell_type": "code",
   "execution_count": 16,
   "metadata": {},
   "outputs": [
    {
     "data": {
      "text/plain": [
       "sex                  0\n",
       "age                  0\n",
       "height               0\n",
       "start_weight         0\n",
       "num_comments         0\n",
       "num_posts            0\n",
       "post_order           0\n",
       "month                0\n",
       "dayofweek            0\n",
       "progress             0\n",
       "face                 0\n",
       "goal                 0\n",
       "finally              0\n",
       "cico                 0\n",
       "keto                 0\n",
       "gains                0\n",
       "gym                  0\n",
       "lifting              0\n",
       "working              0\n",
       "diet                 0\n",
       "muscle               0\n",
       "nsfw                 0\n",
       "gain_or_lose         0\n",
       "fill_period_weeks    0\n",
       "dtype: int64"
      ]
     },
     "execution_count": 16,
     "metadata": {},
     "output_type": "execute_result"
    }
   ],
   "source": [
    "pp_test_features.isnull().sum()"
   ]
  },
  {
   "cell_type": "code",
   "execution_count": 17,
   "metadata": {},
   "outputs": [],
   "source": [
    "X_test = data_prep_pipeline.transform(pp_test_features.copy())"
   ]
  },
  {
   "cell_type": "code",
   "execution_count": 18,
   "metadata": {},
   "outputs": [
    {
     "data": {
      "text/plain": [
       "(4297, 79)"
      ]
     },
     "execution_count": 18,
     "metadata": {},
     "output_type": "execute_result"
    }
   ],
   "source": [
    "X_test.shape"
   ]
  },
  {
   "cell_type": "markdown",
   "metadata": {},
   "source": [
    "## Use trained models to predict outcomes based on the prepared test features"
   ]
  },
  {
   "cell_type": "code",
   "execution_count": 19,
   "metadata": {},
   "outputs": [],
   "source": [
    "final_RF_reg_predictions = final_RF_reg.predict(X_test)"
   ]
  },
  {
   "cell_type": "markdown",
   "metadata": {},
   "source": [
    "## Scores "
   ]
  },
  {
   "cell_type": "code",
   "execution_count": 20,
   "metadata": {},
   "outputs": [
    {
     "name": "stdout",
     "output_type": "stream",
     "text": [
      "Random Forest\n",
      "RMSE:  20.261883787160286\n",
      "R2:  0.797661433361521\n"
     ]
    }
   ],
   "source": [
    "final_RF_mse = mean_squared_error(y_test, final_RF_reg_predictions)\n",
    "final_RF_rmse = np.sqrt(final_RF_mse)\n",
    "final_RF_r2 = r2_score(y_test, final_RF_reg_predictions)\n",
    "print(\"Random Forest\")\n",
    "print(\"RMSE: \", final_RF_rmse)\n",
    "print(\"R2: \", final_RF_r2)"
   ]
  }
 ],
 "metadata": {
  "kernelspec": {
   "display_name": "Python 3",
   "language": "python",
   "name": "python3"
  },
  "language_info": {
   "codemirror_mode": {
    "name": "ipython",
    "version": 3
   },
   "file_extension": ".py",
   "mimetype": "text/x-python",
   "name": "python",
   "nbconvert_exporter": "python",
   "pygments_lexer": "ipython3",
   "version": "3.7.4"
  }
 },
 "nbformat": 4,
 "nbformat_minor": 4
}
